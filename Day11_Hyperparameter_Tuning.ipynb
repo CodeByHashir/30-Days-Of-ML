{
 "cells": [
  {
   "cell_type": "markdown",
   "metadata": {},
   "source": [
    "# Day 11: Hyperparameter Tuning - Optimizing Model Performance\n",
    "\n",
    "---\n",
    "\n",
    "## Overview\n",
    "\n",
    "Welcome to Day 11 of the 30 Days of Machine Learning course. Today, we Learn about one of the most critical aspects of building high-performing machine learning models concept called **hyperparameter tuning**.\n",
    "\n",
    "While training a model with default parameters is a good starting point, the real power lies in finding the optimal configuration of hyperparameters that maximizes your model's performance on unseen data. This process can mean the difference between a mediocre model and one that delivers exceptional results in production.\n",
    "\n",
    "### What You'll Learn Today\n",
    "\n",
    "- Understanding hyperparameters vs parameters\n",
    "- Traditional methods: Grid Search and Random Search\n",
    "- Modern optimization: Bayesian optimization with Optuna\n",
    "- Best practices for efficient hyperparameter tuning\n",
    "- Real-world strategies for production models\n",
    "\n",
    "### Prerequisites\n",
    "\n",
    "- Understanding of basic ML algorithms (Days 5-10)\n",
    "- Familiarity with scikit-learn\n",
    "- Knowledge of cross-validation\n",
    "\n",
    "---"
   ]
  },
  {
   "cell_type": "markdown",
   "metadata": {},
   "source": [
    "## 1. Concept Overview: Understanding Hyperparameters\n",
    "\n",
    "### Parameters vs Hyperparameters\n",
    "\n",
    "Before we dive in, it's crucial to understand the distinction:\n",
    "\n",
    "| Aspect | Parameters | Hyperparameters |\n",
    "|--------|-----------|----------------|\n",
    "| **Definition** | Internal variables learned from data | External configuration set before training |\n",
    "| **Learning** | Optimized during training | Set manually or through tuning |\n",
    "| **Examples** | Weights in neural networks, coefficients in linear regression | Learning rate, number of trees, max depth |\n",
    "| **Control** | Algorithm determines optimal values | Data scientist controls values |\n",
    "\n",
    "### Why Hyperparameter Tuning Matters\n",
    "\n",
    "**Real-World Impact:**\n",
    "- A Random Forest with default parameters might give 82% accuracy\n",
    "- After tuning: 89% accuracy - a 7% improvement that could be worth millions in business value\n",
    "- Reduces overfitting and improves generalization\n",
    "- Makes models production-ready\n",
    "\n",
    "### Common Hyperparameters Across Algorithms\n",
    "\n",
    "**Random Forest:**\n",
    "- `n_estimators`: Number of trees\n",
    "- `max_depth`: Maximum depth of trees\n",
    "- `min_samples_split`: Minimum samples to split a node\n",
    "- `max_features`: Number of features for best split\n",
    "\n",
    "**XGBoost/LightGBM:**\n",
    "- `learning_rate`: Step size shrinkage\n",
    "- `n_estimators`: Number of boosting rounds\n",
    "- `max_depth`: Maximum tree depth\n",
    "- `subsample`: Fraction of samples for training\n",
    "- `colsample_bytree`: Fraction of features per tree\n",
    "\n",
    "**Neural Networks:**\n",
    "- `learning_rate`: Optimization step size\n",
    "- `batch_size`: Number of samples per gradient update\n",
    "- `hidden_units`: Number of neurons per layer\n",
    "- `dropout_rate`: Regularization parameter\n",
    "\n",
    "### The Hyperparameter Tuning Spectrum\n",
    "\n",
    "```\n",
    "Manual Tuning → Grid Search → Random Search → Bayesian Optimization → AutoML\n",
    "   (Slowest, Expert Knowledge Required)  ←→  (Fastest, Automated)\n",
    "```\n",
    "\n",
    "---"
   ]
  },
  {
   "cell_type": "markdown",
   "metadata": {},
   "source": [
    "## 2. Setup: Installing Libraries"
   ]
  },
  {
   "cell_type": "code",
   "execution_count": 5,
   "metadata": {},
   "outputs": [],
   "source": [
    "# Install required packages (run only once)\n",
    "# !pip install scikit-learn pandas numpy matplotlib seaborn optuna xgboost lightgbm"
   ]
  },
  {
   "cell_type": "code",
   "execution_count": 6,
   "metadata": {},
   "outputs": [
    {
     "name": "stdout",
     "output_type": "stream",
     "text": [
      "✓ All libraries imported successfully\n"
     ]
    }
   ],
   "source": [
    "# Import libraries\n",
    "import numpy as np\n",
    "import pandas as pd\n",
    "import matplotlib.pyplot as plt\n",
    "import seaborn as sns\n",
    "from sklearn.datasets import make_classification, load_breast_cancer\n",
    "from sklearn.model_selection import train_test_split, GridSearchCV, RandomizedSearchCV, cross_val_score\n",
    "from sklearn.ensemble import RandomForestClassifier, GradientBoostingClassifier\n",
    "from sklearn.metrics import accuracy_score, classification_report, confusion_matrix\n",
    "from sklearn.preprocessing import StandardScaler\n",
    "import xgboost as xgb\n",
    "import lightgbm as lgb\n",
    "import optuna\n",
    "from optuna.visualization import plot_optimization_history, plot_param_importances\n",
    "import warnings\n",
    "warnings.filterwarnings('ignore')\n",
    "\n",
    "# Set random seed for reproducibility\n",
    "np.random.seed(42)\n",
    "\n",
    "# Plotting configuration\n",
    "plt.style.use('seaborn-v0_8-darkgrid')\n",
    "sns.set_palette('husl')\n",
    "\n",
    "print(\"✓ All libraries imported successfully\")"
   ]
  },
  {
   "cell_type": "markdown",
   "metadata": {},
   "source": [
    "---\n",
    "\n",
    "## 3. Load and Prepare Dataset\n",
    "\n",
    "We'll use the **Breast Cancer Wisconsin dataset** - a real-world medical dataset for binary classification."
   ]
  },
  {
   "cell_type": "code",
   "execution_count": 7,
   "metadata": {},
   "outputs": [
    {
     "name": "stdout",
     "output_type": "stream",
     "text": [
      "Dataset Shape: (569, 31)\n",
      "\n",
      "Features: ['mean radius' 'mean texture' 'mean perimeter' 'mean area'\n",
      " 'mean smoothness']... (30 total)\n",
      "\n",
      "Target Distribution:\n",
      "target\n",
      "1    357\n",
      "0    212\n",
      "Name: count, dtype: int64\n",
      "\n",
      "0 = Malignant, 1 = Benign\n"
     ]
    }
   ],
   "source": [
    "# Load dataset\n",
    "data = load_breast_cancer()\n",
    "X, y = data.data, data.target\n",
    "\n",
    "# Create DataFrame for better visualization\n",
    "df = pd.DataFrame(X, columns=data.feature_names)\n",
    "df['target'] = y\n",
    "\n",
    "print(f\"Dataset Shape: {df.shape}\")\n",
    "print(f\"\\nFeatures: {data.feature_names[:5]}... (30 total)\")\n",
    "print(f\"\\nTarget Distribution:\")\n",
    "print(df['target'].value_counts())\n",
    "print(f\"\\n0 = Malignant, 1 = Benign\")"
   ]
  },
  {
   "cell_type": "code",
   "execution_count": null,
   "metadata": {},
   "outputs": [
    {
     "name": "stdout",
     "output_type": "stream",
     "text": [
      "Training set: (455, 30)\n",
      "Test set: (114, 30)\n"
     ]
    }
   ],
   "source": [
    "# Train-test split\n",
    "X_train, X_test, y_train, y_test = train_test_split(\n",
    "    X, y, test_size=0.2, random_state=42, stratify=y  # stratify=y ensures balanced class proportions between train and test sets, preventing bias due to uneven class representation after splitting.\n",
    ")\n",
    "\n",
    "# Scale features (important for some algorithms)\n",
    "scaler = StandardScaler()\n",
    "X_train_scaled = scaler.fit_transform(X_train)\n",
    "X_test_scaled = scaler.transform(X_test)\n",
    "\n",
    "print(f\"Training set: {X_train.shape}\")\n",
    "print(f\"Test set: {X_test.shape}\")"
   ]
  },
  {
   "cell_type": "markdown",
   "metadata": {},
   "source": [
    "---\n",
    "\n",
    "## 4. Baseline Model: Default Parameters\n",
    "\n",
    "Let's establish a baseline with default hyperparameters to understand the improvement potential."
   ]
  },
  {
   "cell_type": "code",
   "execution_count": 39,
   "metadata": {},
   "outputs": [
    {
     "name": "stdout",
     "output_type": "stream",
     "text": [
      "============================================================\n",
      "\t\tBASELINE MODEL PERFORMANCE\n",
      "============================================================\n",
      "Accuracy: 0.9561\n",
      "\n",
      "Classification Report:\n",
      "              precision    recall  f1-score   support\n",
      "\n",
      "   Malignant       0.95      0.93      0.94        42\n",
      "      Benign       0.96      0.97      0.97        72\n",
      "\n",
      "    accuracy                           0.96       114\n",
      "   macro avg       0.96      0.95      0.95       114\n",
      "weighted avg       0.96      0.96      0.96       114\n",
      "\n"
     ]
    }
   ],
   "source": [
    "# Train baseline Random Forest\n",
    "baseline_rf = RandomForestClassifier(random_state=42)\n",
    "baseline_rf.fit(X_train, y_train)\n",
    "\n",
    "# Predictions\n",
    "y_pred_baseline = baseline_rf.predict(X_test)\n",
    "baseline_accuracy = accuracy_score(y_test, y_pred_baseline)\n",
    "\n",
    "print(\"=\" * 60)\n",
    "print(\"\\t\\tBASELINE MODEL PERFORMANCE\")\n",
    "print(\"=\" * 60)\n",
    "print(f\"Accuracy: {baseline_accuracy:.4f}\")\n",
    "print(f\"\\nClassification Report:\")\n",
    "print(classification_report(y_test, y_pred_baseline, target_names=['Malignant', 'Benign']))\n",
    "\n",
    "# Store baseline for comparison\n",
    "results = {'Baseline': baseline_accuracy}"
   ]
  },
  {
   "cell_type": "markdown",
   "metadata": {},
   "source": [
    "---\n",
    "\n",
    "## 5. Method 1: Grid Search\n",
    "\n",
    "### How Grid Search Works\n",
    "\n",
    "Grid Search exhaustively tests every possible combination of hyperparameters you specify.\n",
    "\n",
    "**Pros:**\n",
    "- Guaranteed to find the best combination within your grid\n",
    "- Simple and straightforward\n",
    "- Reproducible results\n",
    "\n",
    "**Cons:**\n",
    "- Computationally expensive (grows exponentially)\n",
    "- Example: 5 hyperparameters × 5 values each = 3,125 combinations\n",
    "- May waste time on unpromising regions\n",
    "\n",
    "**When to Use:**\n",
    "- Small hyperparameter space\n",
    "- You have domain knowledge about good ranges\n",
    "- Computational resources are not a constraint"
   ]
  },
  {
   "cell_type": "code",
   "execution_count": 10,
   "metadata": {},
   "outputs": [
    {
     "name": "stdout",
     "output_type": "stream",
     "text": [
      "Grid Search Configuration:\n",
      "Total combinations to test: 216 = 216\n",
      "With 5-fold CV: 216 × 5 = 1,080 model fits\n",
      "\n",
      "This will take a few minutes...\n",
      "\n"
     ]
    }
   ],
   "source": [
    "# Define hyperparameter grid\n",
    "param_grid = {\n",
    "    'n_estimators': [100, 200, 300],\n",
    "    'max_depth': [10, 20, 30, None],\n",
    "    'min_samples_split': [2, 5, 10],\n",
    "    'min_samples_leaf': [1, 2, 4],\n",
    "    'max_features': ['sqrt', 'log2']\n",
    "}\n",
    "\n",
    "print(\"Grid Search Configuration:\")\n",
    "print(f\"Total combinations to test: {3 * 4 * 3 * 3 * 2} = 216\")\n",
    "print(f\"With 5-fold CV: 216 × 5 = 1,080 model fits\")\n",
    "print(f\"\\nThis will take a few minutes...\\n\")"
   ]
  },
  {
   "cell_type": "markdown",
   "metadata": {},
   "source": [
    "### Let's Understanding The Above Parameter Grid\n",
    "\n",
    "The `param_grid` dictionary defines the **search space** for Grid Search optimization. Each key is a Random Forest hyperparameter, and each value is a list of candidates to test:\n",
    "**What Each Parameter Means:**\n",
    "\n",
    "- **`n_estimators: [100, 200, 300]`**: Number of decision trees in the forest\n",
    "  - Grid Search will test models with 100, 200, and 300 trees\n",
    "  - More trees generally improve performance but increase computation time\n",
    "\n",
    "- **`max_depth: [10, 20, 30, None]`**: Maximum depth each tree can grow\n",
    "  - Shallow trees (10) prevent overfitting but may underfit\n",
    "  - Deep trees (30) capture complex patterns but risk overfitting\n",
    "  - `None` allows trees to grow until leaves are pure (highest risk of overfitting)\n",
    "\n",
    "- **`min_samples_split: [2, 5, 10]`**: Minimum samples required to split an internal node\n",
    "  - Lower values (2) create more splits, more complex trees\n",
    "  - Higher values (10) create simpler trees, better generalization\n",
    "\n",
    "- **`min_samples_leaf: [1, 2, 4]`**: Minimum samples required at each leaf node\n",
    "  - Controls granularity of the tree's predictions\n",
    "  - Higher values smooth predictions and prevent overfitting\n",
    "\n",
    "- **`max_features: ['sqrt', 'log2']`**: Number of features considered for best split\n",
    "  - `'sqrt'`: Uses √(total features) ≈ 5-6 features for this dataset\n",
    "  - `'log2'`: Uses log₂(total features) ≈ 4-5 features\n",
    "  - Limits features to increase tree diversity and reduce correlation\n",
    "\n",
    "Grid Search will test **all 216 combinations** (3×4×3×3×2) to find the configuration that best balances model complexity and generalization. This systematic exploration ensures we don't settle for default parameters that might underfit or create overly complex models that overfit the training data."
   ]
  },
  {
   "cell_type": "code",
   "execution_count": 11,
   "metadata": {},
   "outputs": [
    {
     "name": "stdout",
     "output_type": "stream",
     "text": [
      "Fitting 5 folds for each of 216 candidates, totalling 1080 fits\n"
     ]
    },
    {
     "data": {
      "text/html": [
       "<style>#sk-container-id-1 {\n",
       "  /* Definition of color scheme common for light and dark mode */\n",
       "  --sklearn-color-text: black;\n",
       "  --sklearn-color-line: gray;\n",
       "  /* Definition of color scheme for unfitted estimators */\n",
       "  --sklearn-color-unfitted-level-0: #fff5e6;\n",
       "  --sklearn-color-unfitted-level-1: #f6e4d2;\n",
       "  --sklearn-color-unfitted-level-2: #ffe0b3;\n",
       "  --sklearn-color-unfitted-level-3: chocolate;\n",
       "  /* Definition of color scheme for fitted estimators */\n",
       "  --sklearn-color-fitted-level-0: #f0f8ff;\n",
       "  --sklearn-color-fitted-level-1: #d4ebff;\n",
       "  --sklearn-color-fitted-level-2: #b3dbfd;\n",
       "  --sklearn-color-fitted-level-3: cornflowerblue;\n",
       "\n",
       "  /* Specific color for light theme */\n",
       "  --sklearn-color-text-on-default-background: var(--sg-text-color, var(--theme-code-foreground, var(--jp-content-font-color1, black)));\n",
       "  --sklearn-color-background: var(--sg-background-color, var(--theme-background, var(--jp-layout-color0, white)));\n",
       "  --sklearn-color-border-box: var(--sg-text-color, var(--theme-code-foreground, var(--jp-content-font-color1, black)));\n",
       "  --sklearn-color-icon: #696969;\n",
       "\n",
       "  @media (prefers-color-scheme: dark) {\n",
       "    /* Redefinition of color scheme for dark theme */\n",
       "    --sklearn-color-text-on-default-background: var(--sg-text-color, var(--theme-code-foreground, var(--jp-content-font-color1, white)));\n",
       "    --sklearn-color-background: var(--sg-background-color, var(--theme-background, var(--jp-layout-color0, #111)));\n",
       "    --sklearn-color-border-box: var(--sg-text-color, var(--theme-code-foreground, var(--jp-content-font-color1, white)));\n",
       "    --sklearn-color-icon: #878787;\n",
       "  }\n",
       "}\n",
       "\n",
       "#sk-container-id-1 {\n",
       "  color: var(--sklearn-color-text);\n",
       "}\n",
       "\n",
       "#sk-container-id-1 pre {\n",
       "  padding: 0;\n",
       "}\n",
       "\n",
       "#sk-container-id-1 input.sk-hidden--visually {\n",
       "  border: 0;\n",
       "  clip: rect(1px 1px 1px 1px);\n",
       "  clip: rect(1px, 1px, 1px, 1px);\n",
       "  height: 1px;\n",
       "  margin: -1px;\n",
       "  overflow: hidden;\n",
       "  padding: 0;\n",
       "  position: absolute;\n",
       "  width: 1px;\n",
       "}\n",
       "\n",
       "#sk-container-id-1 div.sk-dashed-wrapped {\n",
       "  border: 1px dashed var(--sklearn-color-line);\n",
       "  margin: 0 0.4em 0.5em 0.4em;\n",
       "  box-sizing: border-box;\n",
       "  padding-bottom: 0.4em;\n",
       "  background-color: var(--sklearn-color-background);\n",
       "}\n",
       "\n",
       "#sk-container-id-1 div.sk-container {\n",
       "  /* jupyter's `normalize.less` sets `[hidden] { display: none; }`\n",
       "     but bootstrap.min.css set `[hidden] { display: none !important; }`\n",
       "     so we also need the `!important` here to be able to override the\n",
       "     default hidden behavior on the sphinx rendered scikit-learn.org.\n",
       "     See: https://github.com/scikit-learn/scikit-learn/issues/21755 */\n",
       "  display: inline-block !important;\n",
       "  position: relative;\n",
       "}\n",
       "\n",
       "#sk-container-id-1 div.sk-text-repr-fallback {\n",
       "  display: none;\n",
       "}\n",
       "\n",
       "div.sk-parallel-item,\n",
       "div.sk-serial,\n",
       "div.sk-item {\n",
       "  /* draw centered vertical line to link estimators */\n",
       "  background-image: linear-gradient(var(--sklearn-color-text-on-default-background), var(--sklearn-color-text-on-default-background));\n",
       "  background-size: 2px 100%;\n",
       "  background-repeat: no-repeat;\n",
       "  background-position: center center;\n",
       "}\n",
       "\n",
       "/* Parallel-specific style estimator block */\n",
       "\n",
       "#sk-container-id-1 div.sk-parallel-item::after {\n",
       "  content: \"\";\n",
       "  width: 100%;\n",
       "  border-bottom: 2px solid var(--sklearn-color-text-on-default-background);\n",
       "  flex-grow: 1;\n",
       "}\n",
       "\n",
       "#sk-container-id-1 div.sk-parallel {\n",
       "  display: flex;\n",
       "  align-items: stretch;\n",
       "  justify-content: center;\n",
       "  background-color: var(--sklearn-color-background);\n",
       "  position: relative;\n",
       "}\n",
       "\n",
       "#sk-container-id-1 div.sk-parallel-item {\n",
       "  display: flex;\n",
       "  flex-direction: column;\n",
       "}\n",
       "\n",
       "#sk-container-id-1 div.sk-parallel-item:first-child::after {\n",
       "  align-self: flex-end;\n",
       "  width: 50%;\n",
       "}\n",
       "\n",
       "#sk-container-id-1 div.sk-parallel-item:last-child::after {\n",
       "  align-self: flex-start;\n",
       "  width: 50%;\n",
       "}\n",
       "\n",
       "#sk-container-id-1 div.sk-parallel-item:only-child::after {\n",
       "  width: 0;\n",
       "}\n",
       "\n",
       "/* Serial-specific style estimator block */\n",
       "\n",
       "#sk-container-id-1 div.sk-serial {\n",
       "  display: flex;\n",
       "  flex-direction: column;\n",
       "  align-items: center;\n",
       "  background-color: var(--sklearn-color-background);\n",
       "  padding-right: 1em;\n",
       "  padding-left: 1em;\n",
       "}\n",
       "\n",
       "\n",
       "/* Toggleable style: style used for estimator/Pipeline/ColumnTransformer box that is\n",
       "clickable and can be expanded/collapsed.\n",
       "- Pipeline and ColumnTransformer use this feature and define the default style\n",
       "- Estimators will overwrite some part of the style using the `sk-estimator` class\n",
       "*/\n",
       "\n",
       "/* Pipeline and ColumnTransformer style (default) */\n",
       "\n",
       "#sk-container-id-1 div.sk-toggleable {\n",
       "  /* Default theme specific background. It is overwritten whether we have a\n",
       "  specific estimator or a Pipeline/ColumnTransformer */\n",
       "  background-color: var(--sklearn-color-background);\n",
       "}\n",
       "\n",
       "/* Toggleable label */\n",
       "#sk-container-id-1 label.sk-toggleable__label {\n",
       "  cursor: pointer;\n",
       "  display: block;\n",
       "  width: 100%;\n",
       "  margin-bottom: 0;\n",
       "  padding: 0.5em;\n",
       "  box-sizing: border-box;\n",
       "  text-align: center;\n",
       "}\n",
       "\n",
       "#sk-container-id-1 label.sk-toggleable__label-arrow:before {\n",
       "  /* Arrow on the left of the label */\n",
       "  content: \"▸\";\n",
       "  float: left;\n",
       "  margin-right: 0.25em;\n",
       "  color: var(--sklearn-color-icon);\n",
       "}\n",
       "\n",
       "#sk-container-id-1 label.sk-toggleable__label-arrow:hover:before {\n",
       "  color: var(--sklearn-color-text);\n",
       "}\n",
       "\n",
       "/* Toggleable content - dropdown */\n",
       "\n",
       "#sk-container-id-1 div.sk-toggleable__content {\n",
       "  max-height: 0;\n",
       "  max-width: 0;\n",
       "  overflow: hidden;\n",
       "  text-align: left;\n",
       "  /* unfitted */\n",
       "  background-color: var(--sklearn-color-unfitted-level-0);\n",
       "}\n",
       "\n",
       "#sk-container-id-1 div.sk-toggleable__content.fitted {\n",
       "  /* fitted */\n",
       "  background-color: var(--sklearn-color-fitted-level-0);\n",
       "}\n",
       "\n",
       "#sk-container-id-1 div.sk-toggleable__content pre {\n",
       "  margin: 0.2em;\n",
       "  border-radius: 0.25em;\n",
       "  color: var(--sklearn-color-text);\n",
       "  /* unfitted */\n",
       "  background-color: var(--sklearn-color-unfitted-level-0);\n",
       "}\n",
       "\n",
       "#sk-container-id-1 div.sk-toggleable__content.fitted pre {\n",
       "  /* unfitted */\n",
       "  background-color: var(--sklearn-color-fitted-level-0);\n",
       "}\n",
       "\n",
       "#sk-container-id-1 input.sk-toggleable__control:checked~div.sk-toggleable__content {\n",
       "  /* Expand drop-down */\n",
       "  max-height: 200px;\n",
       "  max-width: 100%;\n",
       "  overflow: auto;\n",
       "}\n",
       "\n",
       "#sk-container-id-1 input.sk-toggleable__control:checked~label.sk-toggleable__label-arrow:before {\n",
       "  content: \"▾\";\n",
       "}\n",
       "\n",
       "/* Pipeline/ColumnTransformer-specific style */\n",
       "\n",
       "#sk-container-id-1 div.sk-label input.sk-toggleable__control:checked~label.sk-toggleable__label {\n",
       "  color: var(--sklearn-color-text);\n",
       "  background-color: var(--sklearn-color-unfitted-level-2);\n",
       "}\n",
       "\n",
       "#sk-container-id-1 div.sk-label.fitted input.sk-toggleable__control:checked~label.sk-toggleable__label {\n",
       "  background-color: var(--sklearn-color-fitted-level-2);\n",
       "}\n",
       "\n",
       "/* Estimator-specific style */\n",
       "\n",
       "/* Colorize estimator box */\n",
       "#sk-container-id-1 div.sk-estimator input.sk-toggleable__control:checked~label.sk-toggleable__label {\n",
       "  /* unfitted */\n",
       "  background-color: var(--sklearn-color-unfitted-level-2);\n",
       "}\n",
       "\n",
       "#sk-container-id-1 div.sk-estimator.fitted input.sk-toggleable__control:checked~label.sk-toggleable__label {\n",
       "  /* fitted */\n",
       "  background-color: var(--sklearn-color-fitted-level-2);\n",
       "}\n",
       "\n",
       "#sk-container-id-1 div.sk-label label.sk-toggleable__label,\n",
       "#sk-container-id-1 div.sk-label label {\n",
       "  /* The background is the default theme color */\n",
       "  color: var(--sklearn-color-text-on-default-background);\n",
       "}\n",
       "\n",
       "/* On hover, darken the color of the background */\n",
       "#sk-container-id-1 div.sk-label:hover label.sk-toggleable__label {\n",
       "  color: var(--sklearn-color-text);\n",
       "  background-color: var(--sklearn-color-unfitted-level-2);\n",
       "}\n",
       "\n",
       "/* Label box, darken color on hover, fitted */\n",
       "#sk-container-id-1 div.sk-label.fitted:hover label.sk-toggleable__label.fitted {\n",
       "  color: var(--sklearn-color-text);\n",
       "  background-color: var(--sklearn-color-fitted-level-2);\n",
       "}\n",
       "\n",
       "/* Estimator label */\n",
       "\n",
       "#sk-container-id-1 div.sk-label label {\n",
       "  font-family: monospace;\n",
       "  font-weight: bold;\n",
       "  display: inline-block;\n",
       "  line-height: 1.2em;\n",
       "}\n",
       "\n",
       "#sk-container-id-1 div.sk-label-container {\n",
       "  text-align: center;\n",
       "}\n",
       "\n",
       "/* Estimator-specific */\n",
       "#sk-container-id-1 div.sk-estimator {\n",
       "  font-family: monospace;\n",
       "  border: 1px dotted var(--sklearn-color-border-box);\n",
       "  border-radius: 0.25em;\n",
       "  box-sizing: border-box;\n",
       "  margin-bottom: 0.5em;\n",
       "  /* unfitted */\n",
       "  background-color: var(--sklearn-color-unfitted-level-0);\n",
       "}\n",
       "\n",
       "#sk-container-id-1 div.sk-estimator.fitted {\n",
       "  /* fitted */\n",
       "  background-color: var(--sklearn-color-fitted-level-0);\n",
       "}\n",
       "\n",
       "/* on hover */\n",
       "#sk-container-id-1 div.sk-estimator:hover {\n",
       "  /* unfitted */\n",
       "  background-color: var(--sklearn-color-unfitted-level-2);\n",
       "}\n",
       "\n",
       "#sk-container-id-1 div.sk-estimator.fitted:hover {\n",
       "  /* fitted */\n",
       "  background-color: var(--sklearn-color-fitted-level-2);\n",
       "}\n",
       "\n",
       "/* Specification for estimator info (e.g. \"i\" and \"?\") */\n",
       "\n",
       "/* Common style for \"i\" and \"?\" */\n",
       "\n",
       ".sk-estimator-doc-link,\n",
       "a:link.sk-estimator-doc-link,\n",
       "a:visited.sk-estimator-doc-link {\n",
       "  float: right;\n",
       "  font-size: smaller;\n",
       "  line-height: 1em;\n",
       "  font-family: monospace;\n",
       "  background-color: var(--sklearn-color-background);\n",
       "  border-radius: 1em;\n",
       "  height: 1em;\n",
       "  width: 1em;\n",
       "  text-decoration: none !important;\n",
       "  margin-left: 1ex;\n",
       "  /* unfitted */\n",
       "  border: var(--sklearn-color-unfitted-level-1) 1pt solid;\n",
       "  color: var(--sklearn-color-unfitted-level-1);\n",
       "}\n",
       "\n",
       ".sk-estimator-doc-link.fitted,\n",
       "a:link.sk-estimator-doc-link.fitted,\n",
       "a:visited.sk-estimator-doc-link.fitted {\n",
       "  /* fitted */\n",
       "  border: var(--sklearn-color-fitted-level-1) 1pt solid;\n",
       "  color: var(--sklearn-color-fitted-level-1);\n",
       "}\n",
       "\n",
       "/* On hover */\n",
       "div.sk-estimator:hover .sk-estimator-doc-link:hover,\n",
       ".sk-estimator-doc-link:hover,\n",
       "div.sk-label-container:hover .sk-estimator-doc-link:hover,\n",
       ".sk-estimator-doc-link:hover {\n",
       "  /* unfitted */\n",
       "  background-color: var(--sklearn-color-unfitted-level-3);\n",
       "  color: var(--sklearn-color-background);\n",
       "  text-decoration: none;\n",
       "}\n",
       "\n",
       "div.sk-estimator.fitted:hover .sk-estimator-doc-link.fitted:hover,\n",
       ".sk-estimator-doc-link.fitted:hover,\n",
       "div.sk-label-container:hover .sk-estimator-doc-link.fitted:hover,\n",
       ".sk-estimator-doc-link.fitted:hover {\n",
       "  /* fitted */\n",
       "  background-color: var(--sklearn-color-fitted-level-3);\n",
       "  color: var(--sklearn-color-background);\n",
       "  text-decoration: none;\n",
       "}\n",
       "\n",
       "/* Span, style for the box shown on hovering the info icon */\n",
       ".sk-estimator-doc-link span {\n",
       "  display: none;\n",
       "  z-index: 9999;\n",
       "  position: relative;\n",
       "  font-weight: normal;\n",
       "  right: .2ex;\n",
       "  padding: .5ex;\n",
       "  margin: .5ex;\n",
       "  width: min-content;\n",
       "  min-width: 20ex;\n",
       "  max-width: 50ex;\n",
       "  color: var(--sklearn-color-text);\n",
       "  box-shadow: 2pt 2pt 4pt #999;\n",
       "  /* unfitted */\n",
       "  background: var(--sklearn-color-unfitted-level-0);\n",
       "  border: .5pt solid var(--sklearn-color-unfitted-level-3);\n",
       "}\n",
       "\n",
       ".sk-estimator-doc-link.fitted span {\n",
       "  /* fitted */\n",
       "  background: var(--sklearn-color-fitted-level-0);\n",
       "  border: var(--sklearn-color-fitted-level-3);\n",
       "}\n",
       "\n",
       ".sk-estimator-doc-link:hover span {\n",
       "  display: block;\n",
       "}\n",
       "\n",
       "/* \"?\"-specific style due to the `<a>` HTML tag */\n",
       "\n",
       "#sk-container-id-1 a.estimator_doc_link {\n",
       "  float: right;\n",
       "  font-size: 1rem;\n",
       "  line-height: 1em;\n",
       "  font-family: monospace;\n",
       "  background-color: var(--sklearn-color-background);\n",
       "  border-radius: 1rem;\n",
       "  height: 1rem;\n",
       "  width: 1rem;\n",
       "  text-decoration: none;\n",
       "  /* unfitted */\n",
       "  color: var(--sklearn-color-unfitted-level-1);\n",
       "  border: var(--sklearn-color-unfitted-level-1) 1pt solid;\n",
       "}\n",
       "\n",
       "#sk-container-id-1 a.estimator_doc_link.fitted {\n",
       "  /* fitted */\n",
       "  border: var(--sklearn-color-fitted-level-1) 1pt solid;\n",
       "  color: var(--sklearn-color-fitted-level-1);\n",
       "}\n",
       "\n",
       "/* On hover */\n",
       "#sk-container-id-1 a.estimator_doc_link:hover {\n",
       "  /* unfitted */\n",
       "  background-color: var(--sklearn-color-unfitted-level-3);\n",
       "  color: var(--sklearn-color-background);\n",
       "  text-decoration: none;\n",
       "}\n",
       "\n",
       "#sk-container-id-1 a.estimator_doc_link.fitted:hover {\n",
       "  /* fitted */\n",
       "  background-color: var(--sklearn-color-fitted-level-3);\n",
       "}\n",
       "</style><div id=\"sk-container-id-1\" class=\"sk-top-container\"><div class=\"sk-text-repr-fallback\"><pre>GridSearchCV(cv=5, estimator=RandomForestClassifier(random_state=42), n_jobs=-1,\n",
       "             param_grid={&#x27;max_depth&#x27;: [10, 20, 30, None],\n",
       "                         &#x27;max_features&#x27;: [&#x27;sqrt&#x27;, &#x27;log2&#x27;],\n",
       "                         &#x27;min_samples_leaf&#x27;: [1, 2, 4],\n",
       "                         &#x27;min_samples_split&#x27;: [2, 5, 10],\n",
       "                         &#x27;n_estimators&#x27;: [100, 200, 300]},\n",
       "             scoring=&#x27;accuracy&#x27;, verbose=1)</pre><b>In a Jupyter environment, please rerun this cell to show the HTML representation or trust the notebook. <br />On GitHub, the HTML representation is unable to render, please try loading this page with nbviewer.org.</b></div><div class=\"sk-container\" hidden><div class=\"sk-item sk-dashed-wrapped\"><div class=\"sk-label-container\"><div class=\"sk-label fitted sk-toggleable\"><input class=\"sk-toggleable__control sk-hidden--visually\" id=\"sk-estimator-id-1\" type=\"checkbox\" ><label for=\"sk-estimator-id-1\" class=\"sk-toggleable__label fitted sk-toggleable__label-arrow fitted\">&nbsp;&nbsp;GridSearchCV<a class=\"sk-estimator-doc-link fitted\" rel=\"noreferrer\" target=\"_blank\" href=\"https://scikit-learn.org/1.5/modules/generated/sklearn.model_selection.GridSearchCV.html\">?<span>Documentation for GridSearchCV</span></a><span class=\"sk-estimator-doc-link fitted\">i<span>Fitted</span></span></label><div class=\"sk-toggleable__content fitted\"><pre>GridSearchCV(cv=5, estimator=RandomForestClassifier(random_state=42), n_jobs=-1,\n",
       "             param_grid={&#x27;max_depth&#x27;: [10, 20, 30, None],\n",
       "                         &#x27;max_features&#x27;: [&#x27;sqrt&#x27;, &#x27;log2&#x27;],\n",
       "                         &#x27;min_samples_leaf&#x27;: [1, 2, 4],\n",
       "                         &#x27;min_samples_split&#x27;: [2, 5, 10],\n",
       "                         &#x27;n_estimators&#x27;: [100, 200, 300]},\n",
       "             scoring=&#x27;accuracy&#x27;, verbose=1)</pre></div> </div></div><div class=\"sk-parallel\"><div class=\"sk-parallel-item\"><div class=\"sk-item\"><div class=\"sk-label-container\"><div class=\"sk-label fitted sk-toggleable\"><input class=\"sk-toggleable__control sk-hidden--visually\" id=\"sk-estimator-id-2\" type=\"checkbox\" ><label for=\"sk-estimator-id-2\" class=\"sk-toggleable__label fitted sk-toggleable__label-arrow fitted\">best_estimator_: RandomForestClassifier</label><div class=\"sk-toggleable__content fitted\"><pre>RandomForestClassifier(max_depth=10, n_estimators=200, random_state=42)</pre></div> </div></div><div class=\"sk-serial\"><div class=\"sk-item\"><div class=\"sk-estimator fitted sk-toggleable\"><input class=\"sk-toggleable__control sk-hidden--visually\" id=\"sk-estimator-id-3\" type=\"checkbox\" ><label for=\"sk-estimator-id-3\" class=\"sk-toggleable__label fitted sk-toggleable__label-arrow fitted\">&nbsp;RandomForestClassifier<a class=\"sk-estimator-doc-link fitted\" rel=\"noreferrer\" target=\"_blank\" href=\"https://scikit-learn.org/1.5/modules/generated/sklearn.ensemble.RandomForestClassifier.html\">?<span>Documentation for RandomForestClassifier</span></a></label><div class=\"sk-toggleable__content fitted\"><pre>RandomForestClassifier(max_depth=10, n_estimators=200, random_state=42)</pre></div> </div></div></div></div></div></div></div></div></div>"
      ],
      "text/plain": [
       "GridSearchCV(cv=5, estimator=RandomForestClassifier(random_state=42), n_jobs=-1,\n",
       "             param_grid={'max_depth': [10, 20, 30, None],\n",
       "                         'max_features': ['sqrt', 'log2'],\n",
       "                         'min_samples_leaf': [1, 2, 4],\n",
       "                         'min_samples_split': [2, 5, 10],\n",
       "                         'n_estimators': [100, 200, 300]},\n",
       "             scoring='accuracy', verbose=1)"
      ]
     },
     "execution_count": 11,
     "metadata": {},
     "output_type": "execute_result"
    }
   ],
   "source": [
    "# Initialize Grid Search\n",
    "grid_search = GridSearchCV(\n",
    "    estimator=RandomForestClassifier(random_state=42),\n",
    "    param_grid=param_grid,\n",
    "    cv=5,                    # 5-fold cross-validation\n",
    "    scoring='accuracy',\n",
    "    n_jobs=-1,              # Use all CPU cores\n",
    "    verbose=1\n",
    ")\n",
    "\n",
    "# Fit Grid Search\n",
    "grid_search.fit(X_train, y_train)"
   ]
  },
  {
   "cell_type": "code",
   "execution_count": 40,
   "metadata": {},
   "outputs": [
    {
     "name": "stdout",
     "output_type": "stream",
     "text": [
      "============================================================\n",
      "\t\tGRID SEARCH RESULTS\n",
      "============================================================\n",
      "\n",
      "Best Parameters:\n",
      "  max_depth: 10\n",
      "  max_features: sqrt\n",
      "  min_samples_leaf: 1\n",
      "  min_samples_split: 2\n",
      "  n_estimators: 200\n",
      "\n",
      "Best Cross-Validation Score: 0.9604\n",
      "Test Set Accuracy: 0.9561\n",
      "Improvement over baseline: 0.00%\n"
     ]
    }
   ],
   "source": [
    "# Best parameters and score\n",
    "print(\"=\" * 60)\n",
    "print(\"\\t\\tGRID SEARCH RESULTS\")\n",
    "print(\"=\" * 60)\n",
    "print(f\"\\nBest Parameters:\")\n",
    "for param, value in grid_search.best_params_.items():\n",
    "    print(f\"  {param}: {value}\")\n",
    "\n",
    "print(f\"\\nBest Cross-Validation Score: {grid_search.best_score_:.4f}\")\n",
    "\n",
    "# Test on held-out test set\n",
    "y_pred_grid = grid_search.predict(X_test)\n",
    "grid_accuracy = accuracy_score(y_test, y_pred_grid)\n",
    "print(f\"Test Set Accuracy: {grid_accuracy:.4f}\")\n",
    "print(f\"Improvement over baseline: {(grid_accuracy - baseline_accuracy)*100:.2f}%\")\n",
    "\n",
    "results['Grid Search'] = grid_accuracy"
   ]
  },
  {
   "cell_type": "code",
   "execution_count": 13,
   "metadata": {},
   "outputs": [
    {
     "data": {
      "image/png": "[encoded data removed]",
      "text/plain": [
       "<Figure size 1500x500 with 2 Axes>"
      ]
     },
     "metadata": {},
     "output_type": "display_data"
    }
   ],
   "source": [
    "# Visualize Grid Search results\n",
    "cv_results = pd.DataFrame(grid_search.cv_results_)\n",
    "\n",
    "fig, axes = plt.subplots(1, 2, figsize=(15, 5))\n",
    "\n",
    "# Plot 1: Top 10 configurations\n",
    "top_10 = cv_results.nlargest(10, 'mean_test_score')[['mean_test_score', 'rank_test_score']]\n",
    "axes[0].barh(range(10), top_10['mean_test_score'].values)\n",
    "axes[0].set_xlabel('Mean CV Score')\n",
    "axes[0].set_ylabel('Configuration Rank')\n",
    "axes[0].set_title('Top 10 Hyperparameter Configurations')\n",
    "axes[0].axvline(x=baseline_accuracy, color='red', linestyle='--', label='Baseline')\n",
    "axes[0].legend()\n",
    "\n",
    "# Plot 2: Score distribution\n",
    "axes[1].hist(cv_results['mean_test_score'], bins=30, edgecolor='black')\n",
    "axes[1].axvline(x=baseline_accuracy, color='red', linestyle='--', linewidth=2, label='Baseline')\n",
    "axes[1].axvline(x=grid_search.best_score_, color='green', linestyle='--', linewidth=2, label='Best')\n",
    "axes[1].set_xlabel('Cross-Validation Score')\n",
    "axes[1].set_ylabel('Frequency')\n",
    "axes[1].set_title('Distribution of All Grid Search Scores')\n",
    "axes[1].legend()\n",
    "\n",
    "plt.tight_layout()\n",
    "plt.show()"
   ]
  },
  {
   "cell_type": "markdown",
   "metadata": {},
   "source": [
    "### Interpreting Hyperparameter Tuning Results\n",
    "\n",
    "Look at those two charts! They're showing us exactly how well our hyperparameter tuning worked.\n",
    "\n",
    "**What You're Seeing:**\n",
    "\n",
    "1. **Left Chart - Top Performers:** Those horizontal bars show our best 10 hyperparameter combinations. Notice how they ALL beat the red dashed line (our baseline)? That means our tuning found multiple ways to make the model better!\n",
    "\n",
    "2. **Right Chart - The Big Picture:** This histogram shows ALL the scores we tested. See how most scores cluster around 0.954-0.958? That's good - it means most combinations worked well. The green dashed line shows our absolute best score (around 0.960), which is clearly better than our baseline.\n",
    "\n",
    "**Why This Actually Matters:**\n",
    "\n",
    "- **We Found Better Models:** The charts prove our tuning worked. We didn't just get lucky - we systematically found better hyperparameters.\n",
    "\n",
    "- **Multiple Good Options:** Having several high-performing configurations means our model isn't fragile. If one parameter changes slightly, we still get good results.\n",
    "\n",
    "- **Real Improvement:** The green line being higher than the red line shows we genuinely improved the model, not just got a random lucky result.\n",
    "\n",
    "- **Confidence in Our Choice:** The distribution tells us our \"best\" model is truly better, not just a fluke.\n",
    "\n",
    "**The Bottom Line:**\n",
    "\n",
    "These charts prove that hyperparameter tuning isn't just theoretical - it actually works! We can see the improvement with our own eyes, and that's what matters when building real ML systems."
   ]
  },
  {
   "cell_type": "markdown",
   "metadata": {},
   "source": [
    "---\n",
    "\n",
    "## 6. Method 2: Randomized Search\n",
    "\n",
    "### How Random Search Works\n",
    "\n",
    "Instead of testing all combinations, Random Search samples a fixed number of configurations randomly.\n",
    "\n",
    "**Key Insight (Research by Bergstra & Bengio, 2012):**\n",
    "- Often only a few hyperparameters really matter\n",
    "- Random sampling is more efficient at exploring the space\n",
    "- Can achieve 95% of Grid Search performance with 10% of the computation\n",
    "\n",
    "**Pros:**\n",
    "- Much faster than Grid Search\n",
    "- Can explore wider ranges\n",
    "- Better for high-dimensional spaces\n",
    "- You control the budget (n_iter)\n",
    "\n",
    "**Cons:**\n",
    "- May miss the absolute best combination\n",
    "- Results can vary between runs\n",
    "\n",
    "**When to Use:**\n",
    "- Large hyperparameter space\n",
    "- Limited computational budget\n",
    "- Initial exploration phase"
   ]
  },
  {
   "cell_type": "code",
   "execution_count": null,
   "metadata": {},
   "outputs": [
    {
     "name": "stdout",
     "output_type": "stream",
     "text": [
      "Random Search Configuration:\n",
      "Sampling 100 random combinations\n",
      "With 5-fold CV: 100 × 5 = 500 model fits\n",
      "Much faster than Grid Search's 1,080 fits!\n",
      "\n"
     ]
    }
   ],
   "source": [
    "from scipy.stats import randint, uniform\n",
    "\n",
    "# Define hyperparameter distributions\n",
    "param_distributions = {\n",
    "    'n_estimators': randint(100, 500),                    # Random integers between 100-500\n",
    "    'max_depth': [10, 20, 30, 40, 50, None],              # Discrete choices\n",
    "    'min_samples_split': randint(2, 20),                  # Random integers between 2-20\n",
    "    'min_samples_leaf': randint(1, 10),                   # Random integers between 1-10\n",
    "    'max_features': ['sqrt', 'log2', None],               # Discrete choices\n",
    "    'bootstrap': [True, False]                            # Boolean\n",
    "}\n",
    "\n",
    "print(\"Random Search Configuration:\")\n",
    "print(f\"Sampling 100 random combinations\")\n",
    "print(f\"With 5-fold CV: 100 × 5 = 500 model fits\")\n",
    "print(f\"Much faster than Grid Search's 1,080 fits!\\n\")"
   ]
  },
  {
   "cell_type": "code",
   "execution_count": 15,
   "metadata": {},
   "outputs": [
    {
     "name": "stdout",
     "output_type": "stream",
     "text": [
      "Fitting 5 folds for each of 100 candidates, totalling 500 fits\n"
     ]
    },
    {
     "data": {
      "text/html": [
       "<style>#sk-container-id-2 {\n",
       "  /* Definition of color scheme common for light and dark mode */\n",
       "  --sklearn-color-text: black;\n",
       "  --sklearn-color-line: gray;\n",
       "  /* Definition of color scheme for unfitted estimators */\n",
       "  --sklearn-color-unfitted-level-0: #fff5e6;\n",
       "  --sklearn-color-unfitted-level-1: #f6e4d2;\n",
       "  --sklearn-color-unfitted-level-2: #ffe0b3;\n",
       "  --sklearn-color-unfitted-level-3: chocolate;\n",
       "  /* Definition of color scheme for fitted estimators */\n",
       "  --sklearn-color-fitted-level-0: #f0f8ff;\n",
       "  --sklearn-color-fitted-level-1: #d4ebff;\n",
       "  --sklearn-color-fitted-level-2: #b3dbfd;\n",
       "  --sklearn-color-fitted-level-3: cornflowerblue;\n",
       "\n",
       "  /* Specific color for light theme */\n",
       "  --sklearn-color-text-on-default-background: var(--sg-text-color, var(--theme-code-foreground, var(--jp-content-font-color1, black)));\n",
       "  --sklearn-color-background: var(--sg-background-color, var(--theme-background, var(--jp-layout-color0, white)));\n",
       "  --sklearn-color-border-box: var(--sg-text-color, var(--theme-code-foreground, var(--jp-content-font-color1, black)));\n",
       "  --sklearn-color-icon: #696969;\n",
       "\n",
       "  @media (prefers-color-scheme: dark) {\n",
       "    /* Redefinition of color scheme for dark theme */\n",
       "    --sklearn-color-text-on-default-background: var(--sg-text-color, var(--theme-code-foreground, var(--jp-content-font-color1, white)));\n",
       "    --sklearn-color-background: var(--sg-background-color, var(--theme-background, var(--jp-layout-color0, #111)));\n",
       "    --sklearn-color-border-box: var(--sg-text-color, var(--theme-code-foreground, var(--jp-content-font-color1, white)));\n",
       "    --sklearn-color-icon: #878787;\n",
       "  }\n",
       "}\n",
       "\n",
       "#sk-container-id-2 {\n",
       "  color: var(--sklearn-color-text);\n",
       "}\n",
       "\n",
       "#sk-container-id-2 pre {\n",
       "  padding: 0;\n",
       "}\n",
       "\n",
       "#sk-container-id-2 input.sk-hidden--visually {\n",
       "  border: 0;\n",
       "  clip: rect(1px 1px 1px 1px);\n",
       "  clip: rect(1px, 1px, 1px, 1px);\n",
       "  height: 1px;\n",
       "  margin: -1px;\n",
       "  overflow: hidden;\n",
       "  padding: 0;\n",
       "  position: absolute;\n",
       "  width: 1px;\n",
       "}\n",
       "\n",
       "#sk-container-id-2 div.sk-dashed-wrapped {\n",
       "  border: 1px dashed var(--sklearn-color-line);\n",
       "  margin: 0 0.4em 0.5em 0.4em;\n",
       "  box-sizing: border-box;\n",
       "  padding-bottom: 0.4em;\n",
       "  background-color: var(--sklearn-color-background);\n",
       "}\n",
       "\n",
       "#sk-container-id-2 div.sk-container {\n",
       "  /* jupyter's `normalize.less` sets `[hidden] { display: none; }`\n",
       "     but bootstrap.min.css set `[hidden] { display: none !important; }`\n",
       "     so we also need the `!important` here to be able to override the\n",
       "     default hidden behavior on the sphinx rendered scikit-learn.org.\n",
       "     See: https://github.com/scikit-learn/scikit-learn/issues/21755 */\n",
       "  display: inline-block !important;\n",
       "  position: relative;\n",
       "}\n",
       "\n",
       "#sk-container-id-2 div.sk-text-repr-fallback {\n",
       "  display: none;\n",
       "}\n",
       "\n",
       "div.sk-parallel-item,\n",
       "div.sk-serial,\n",
       "div.sk-item {\n",
       "  /* draw centered vertical line to link estimators */\n",
       "  background-image: linear-gradient(var(--sklearn-color-text-on-default-background), var(--sklearn-color-text-on-default-background));\n",
       "  background-size: 2px 100%;\n",
       "  background-repeat: no-repeat;\n",
       "  background-position: center center;\n",
       "}\n",
       "\n",
       "/* Parallel-specific style estimator block */\n",
       "\n",
       "#sk-container-id-2 div.sk-parallel-item::after {\n",
       "  content: \"\";\n",
       "  width: 100%;\n",
       "  border-bottom: 2px solid var(--sklearn-color-text-on-default-background);\n",
       "  flex-grow: 1;\n",
       "}\n",
       "\n",
       "#sk-container-id-2 div.sk-parallel {\n",
       "  display: flex;\n",
       "  align-items: stretch;\n",
       "  justify-content: center;\n",
       "  background-color: var(--sklearn-color-background);\n",
       "  position: relative;\n",
       "}\n",
       "\n",
       "#sk-container-id-2 div.sk-parallel-item {\n",
       "  display: flex;\n",
       "  flex-direction: column;\n",
       "}\n",
       "\n",
       "#sk-container-id-2 div.sk-parallel-item:first-child::after {\n",
       "  align-self: flex-end;\n",
       "  width: 50%;\n",
       "}\n",
       "\n",
       "#sk-container-id-2 div.sk-parallel-item:last-child::after {\n",
       "  align-self: flex-start;\n",
       "  width: 50%;\n",
       "}\n",
       "\n",
       "#sk-container-id-2 div.sk-parallel-item:only-child::after {\n",
       "  width: 0;\n",
       "}\n",
       "\n",
       "/* Serial-specific style estimator block */\n",
       "\n",
       "#sk-container-id-2 div.sk-serial {\n",
       "  display: flex;\n",
       "  flex-direction: column;\n",
       "  align-items: center;\n",
       "  background-color: var(--sklearn-color-background);\n",
       "  padding-right: 1em;\n",
       "  padding-left: 1em;\n",
       "}\n",
       "\n",
       "\n",
       "/* Toggleable style: style used for estimator/Pipeline/ColumnTransformer box that is\n",
       "clickable and can be expanded/collapsed.\n",
       "- Pipeline and ColumnTransformer use this feature and define the default style\n",
       "- Estimators will overwrite some part of the style using the `sk-estimator` class\n",
       "*/\n",
       "\n",
       "/* Pipeline and ColumnTransformer style (default) */\n",
       "\n",
       "#sk-container-id-2 div.sk-toggleable {\n",
       "  /* Default theme specific background. It is overwritten whether we have a\n",
       "  specific estimator or a Pipeline/ColumnTransformer */\n",
       "  background-color: var(--sklearn-color-background);\n",
       "}\n",
       "\n",
       "/* Toggleable label */\n",
       "#sk-container-id-2 label.sk-toggleable__label {\n",
       "  cursor: pointer;\n",
       "  display: block;\n",
       "  width: 100%;\n",
       "  margin-bottom: 0;\n",
       "  padding: 0.5em;\n",
       "  box-sizing: border-box;\n",
       "  text-align: center;\n",
       "}\n",
       "\n",
       "#sk-container-id-2 label.sk-toggleable__label-arrow:before {\n",
       "  /* Arrow on the left of the label */\n",
       "  content: \"▸\";\n",
       "  float: left;\n",
       "  margin-right: 0.25em;\n",
       "  color: var(--sklearn-color-icon);\n",
       "}\n",
       "\n",
       "#sk-container-id-2 label.sk-toggleable__label-arrow:hover:before {\n",
       "  color: var(--sklearn-color-text);\n",
       "}\n",
       "\n",
       "/* Toggleable content - dropdown */\n",
       "\n",
       "#sk-container-id-2 div.sk-toggleable__content {\n",
       "  max-height: 0;\n",
       "  max-width: 0;\n",
       "  overflow: hidden;\n",
       "  text-align: left;\n",
       "  /* unfitted */\n",
       "  background-color: var(--sklearn-color-unfitted-level-0);\n",
       "}\n",
       "\n",
       "#sk-container-id-2 div.sk-toggleable__content.fitted {\n",
       "  /* fitted */\n",
       "  background-color: var(--sklearn-color-fitted-level-0);\n",
       "}\n",
       "\n",
       "#sk-container-id-2 div.sk-toggleable__content pre {\n",
       "  margin: 0.2em;\n",
       "  border-radius: 0.25em;\n",
       "  color: var(--sklearn-color-text);\n",
       "  /* unfitted */\n",
       "  background-color: var(--sklearn-color-unfitted-level-0);\n",
       "}\n",
       "\n",
       "#sk-container-id-2 div.sk-toggleable__content.fitted pre {\n",
       "  /* unfitted */\n",
       "  background-color: var(--sklearn-color-fitted-level-0);\n",
       "}\n",
       "\n",
       "#sk-container-id-2 input.sk-toggleable__control:checked~div.sk-toggleable__content {\n",
       "  /* Expand drop-down */\n",
       "  max-height: 200px;\n",
       "  max-width: 100%;\n",
       "  overflow: auto;\n",
       "}\n",
       "\n",
       "#sk-container-id-2 input.sk-toggleable__control:checked~label.sk-toggleable__label-arrow:before {\n",
       "  content: \"▾\";\n",
       "}\n",
       "\n",
       "/* Pipeline/ColumnTransformer-specific style */\n",
       "\n",
       "#sk-container-id-2 div.sk-label input.sk-toggleable__control:checked~label.sk-toggleable__label {\n",
       "  color: var(--sklearn-color-text);\n",
       "  background-color: var(--sklearn-color-unfitted-level-2);\n",
       "}\n",
       "\n",
       "#sk-container-id-2 div.sk-label.fitted input.sk-toggleable__control:checked~label.sk-toggleable__label {\n",
       "  background-color: var(--sklearn-color-fitted-level-2);\n",
       "}\n",
       "\n",
       "/* Estimator-specific style */\n",
       "\n",
       "/* Colorize estimator box */\n",
       "#sk-container-id-2 div.sk-estimator input.sk-toggleable__control:checked~label.sk-toggleable__label {\n",
       "  /* unfitted */\n",
       "  background-color: var(--sklearn-color-unfitted-level-2);\n",
       "}\n",
       "\n",
       "#sk-container-id-2 div.sk-estimator.fitted input.sk-toggleable__control:checked~label.sk-toggleable__label {\n",
       "  /* fitted */\n",
       "  background-color: var(--sklearn-color-fitted-level-2);\n",
       "}\n",
       "\n",
       "#sk-container-id-2 div.sk-label label.sk-toggleable__label,\n",
       "#sk-container-id-2 div.sk-label label {\n",
       "  /* The background is the default theme color */\n",
       "  color: var(--sklearn-color-text-on-default-background);\n",
       "}\n",
       "\n",
       "/* On hover, darken the color of the background */\n",
       "#sk-container-id-2 div.sk-label:hover label.sk-toggleable__label {\n",
       "  color: var(--sklearn-color-text);\n",
       "  background-color: var(--sklearn-color-unfitted-level-2);\n",
       "}\n",
       "\n",
       "/* Label box, darken color on hover, fitted */\n",
       "#sk-container-id-2 div.sk-label.fitted:hover label.sk-toggleable__label.fitted {\n",
       "  color: var(--sklearn-color-text);\n",
       "  background-color: var(--sklearn-color-fitted-level-2);\n",
       "}\n",
       "\n",
       "/* Estimator label */\n",
       "\n",
       "#sk-container-id-2 div.sk-label label {\n",
       "  font-family: monospace;\n",
       "  font-weight: bold;\n",
       "  display: inline-block;\n",
       "  line-height: 1.2em;\n",
       "}\n",
       "\n",
       "#sk-container-id-2 div.sk-label-container {\n",
       "  text-align: center;\n",
       "}\n",
       "\n",
       "/* Estimator-specific */\n",
       "#sk-container-id-2 div.sk-estimator {\n",
       "  font-family: monospace;\n",
       "  border: 1px dotted var(--sklearn-color-border-box);\n",
       "  border-radius: 0.25em;\n",
       "  box-sizing: border-box;\n",
       "  margin-bottom: 0.5em;\n",
       "  /* unfitted */\n",
       "  background-color: var(--sklearn-color-unfitted-level-0);\n",
       "}\n",
       "\n",
       "#sk-container-id-2 div.sk-estimator.fitted {\n",
       "  /* fitted */\n",
       "  background-color: var(--sklearn-color-fitted-level-0);\n",
       "}\n",
       "\n",
       "/* on hover */\n",
       "#sk-container-id-2 div.sk-estimator:hover {\n",
       "  /* unfitted */\n",
       "  background-color: var(--sklearn-color-unfitted-level-2);\n",
       "}\n",
       "\n",
       "#sk-container-id-2 div.sk-estimator.fitted:hover {\n",
       "  /* fitted */\n",
       "  background-color: var(--sklearn-color-fitted-level-2);\n",
       "}\n",
       "\n",
       "/* Specification for estimator info (e.g. \"i\" and \"?\") */\n",
       "\n",
       "/* Common style for \"i\" and \"?\" */\n",
       "\n",
       ".sk-estimator-doc-link,\n",
       "a:link.sk-estimator-doc-link,\n",
       "a:visited.sk-estimator-doc-link {\n",
       "  float: right;\n",
       "  font-size: smaller;\n",
       "  line-height: 1em;\n",
       "  font-family: monospace;\n",
       "  background-color: var(--sklearn-color-background);\n",
       "  border-radius: 1em;\n",
       "  height: 1em;\n",
       "  width: 1em;\n",
       "  text-decoration: none !important;\n",
       "  margin-left: 1ex;\n",
       "  /* unfitted */\n",
       "  border: var(--sklearn-color-unfitted-level-1) 1pt solid;\n",
       "  color: var(--sklearn-color-unfitted-level-1);\n",
       "}\n",
       "\n",
       ".sk-estimator-doc-link.fitted,\n",
       "a:link.sk-estimator-doc-link.fitted,\n",
       "a:visited.sk-estimator-doc-link.fitted {\n",
       "  /* fitted */\n",
       "  border: var(--sklearn-color-fitted-level-1) 1pt solid;\n",
       "  color: var(--sklearn-color-fitted-level-1);\n",
       "}\n",
       "\n",
       "/* On hover */\n",
       "div.sk-estimator:hover .sk-estimator-doc-link:hover,\n",
       ".sk-estimator-doc-link:hover,\n",
       "div.sk-label-container:hover .sk-estimator-doc-link:hover,\n",
       ".sk-estimator-doc-link:hover {\n",
       "  /* unfitted */\n",
       "  background-color: var(--sklearn-color-unfitted-level-3);\n",
       "  color: var(--sklearn-color-background);\n",
       "  text-decoration: none;\n",
       "}\n",
       "\n",
       "div.sk-estimator.fitted:hover .sk-estimator-doc-link.fitted:hover,\n",
       ".sk-estimator-doc-link.fitted:hover,\n",
       "div.sk-label-container:hover .sk-estimator-doc-link.fitted:hover,\n",
       ".sk-estimator-doc-link.fitted:hover {\n",
       "  /* fitted */\n",
       "  background-color: var(--sklearn-color-fitted-level-3);\n",
       "  color: var(--sklearn-color-background);\n",
       "  text-decoration: none;\n",
       "}\n",
       "\n",
       "/* Span, style for the box shown on hovering the info icon */\n",
       ".sk-estimator-doc-link span {\n",
       "  display: none;\n",
       "  z-index: 9999;\n",
       "  position: relative;\n",
       "  font-weight: normal;\n",
       "  right: .2ex;\n",
       "  padding: .5ex;\n",
       "  margin: .5ex;\n",
       "  width: min-content;\n",
       "  min-width: 20ex;\n",
       "  max-width: 50ex;\n",
       "  color: var(--sklearn-color-text);\n",
       "  box-shadow: 2pt 2pt 4pt #999;\n",
       "  /* unfitted */\n",
       "  background: var(--sklearn-color-unfitted-level-0);\n",
       "  border: .5pt solid var(--sklearn-color-unfitted-level-3);\n",
       "}\n",
       "\n",
       ".sk-estimator-doc-link.fitted span {\n",
       "  /* fitted */\n",
       "  background: var(--sklearn-color-fitted-level-0);\n",
       "  border: var(--sklearn-color-fitted-level-3);\n",
       "}\n",
       "\n",
       ".sk-estimator-doc-link:hover span {\n",
       "  display: block;\n",
       "}\n",
       "\n",
       "/* \"?\"-specific style due to the `<a>` HTML tag */\n",
       "\n",
       "#sk-container-id-2 a.estimator_doc_link {\n",
       "  float: right;\n",
       "  font-size: 1rem;\n",
       "  line-height: 1em;\n",
       "  font-family: monospace;\n",
       "  background-color: var(--sklearn-color-background);\n",
       "  border-radius: 1rem;\n",
       "  height: 1rem;\n",
       "  width: 1rem;\n",
       "  text-decoration: none;\n",
       "  /* unfitted */\n",
       "  color: var(--sklearn-color-unfitted-level-1);\n",
       "  border: var(--sklearn-color-unfitted-level-1) 1pt solid;\n",
       "}\n",
       "\n",
       "#sk-container-id-2 a.estimator_doc_link.fitted {\n",
       "  /* fitted */\n",
       "  border: var(--sklearn-color-fitted-level-1) 1pt solid;\n",
       "  color: var(--sklearn-color-fitted-level-1);\n",
       "}\n",
       "\n",
       "/* On hover */\n",
       "#sk-container-id-2 a.estimator_doc_link:hover {\n",
       "  /* unfitted */\n",
       "  background-color: var(--sklearn-color-unfitted-level-3);\n",
       "  color: var(--sklearn-color-background);\n",
       "  text-decoration: none;\n",
       "}\n",
       "\n",
       "#sk-container-id-2 a.estimator_doc_link.fitted:hover {\n",
       "  /* fitted */\n",
       "  background-color: var(--sklearn-color-fitted-level-3);\n",
       "}\n",
       "</style><div id=\"sk-container-id-2\" class=\"sk-top-container\"><div class=\"sk-text-repr-fallback\"><pre>RandomizedSearchCV(cv=5, estimator=RandomForestClassifier(random_state=42),\n",
       "                   n_iter=100, n_jobs=-1,\n",
       "                   param_distributions={&#x27;bootstrap&#x27;: [True, False],\n",
       "                                        &#x27;max_depth&#x27;: [10, 20, 30, 40, 50, None],\n",
       "                                        &#x27;max_features&#x27;: [&#x27;sqrt&#x27;, &#x27;log2&#x27;, None],\n",
       "                                        &#x27;min_samples_leaf&#x27;: &lt;scipy.stats._distn_infrastructure.rv_discrete_frozen object at 0x000001ECFC05FF50&gt;,\n",
       "                                        &#x27;min_samples_split&#x27;: &lt;scipy.stats._distn_infrastructure.rv_discrete_frozen object at 0x000001ECFC05D490&gt;,\n",
       "                                        &#x27;n_estimators&#x27;: &lt;scipy.stats._distn_infrastructure.rv_discrete_frozen object at 0x000001ECFBD31820&gt;},\n",
       "                   random_state=42, scoring=&#x27;accuracy&#x27;, verbose=1)</pre><b>In a Jupyter environment, please rerun this cell to show the HTML representation or trust the notebook. <br />On GitHub, the HTML representation is unable to render, please try loading this page with nbviewer.org.</b></div><div class=\"sk-container\" hidden><div class=\"sk-item sk-dashed-wrapped\"><div class=\"sk-label-container\"><div class=\"sk-label fitted sk-toggleable\"><input class=\"sk-toggleable__control sk-hidden--visually\" id=\"sk-estimator-id-4\" type=\"checkbox\" ><label for=\"sk-estimator-id-4\" class=\"sk-toggleable__label fitted sk-toggleable__label-arrow fitted\">&nbsp;&nbsp;RandomizedSearchCV<a class=\"sk-estimator-doc-link fitted\" rel=\"noreferrer\" target=\"_blank\" href=\"https://scikit-learn.org/1.5/modules/generated/sklearn.model_selection.RandomizedSearchCV.html\">?<span>Documentation for RandomizedSearchCV</span></a><span class=\"sk-estimator-doc-link fitted\">i<span>Fitted</span></span></label><div class=\"sk-toggleable__content fitted\"><pre>RandomizedSearchCV(cv=5, estimator=RandomForestClassifier(random_state=42),\n",
       "                   n_iter=100, n_jobs=-1,\n",
       "                   param_distributions={&#x27;bootstrap&#x27;: [True, False],\n",
       "                                        &#x27;max_depth&#x27;: [10, 20, 30, 40, 50, None],\n",
       "                                        &#x27;max_features&#x27;: [&#x27;sqrt&#x27;, &#x27;log2&#x27;, None],\n",
       "                                        &#x27;min_samples_leaf&#x27;: &lt;scipy.stats._distn_infrastructure.rv_discrete_frozen object at 0x000001ECFC05FF50&gt;,\n",
       "                                        &#x27;min_samples_split&#x27;: &lt;scipy.stats._distn_infrastructure.rv_discrete_frozen object at 0x000001ECFC05D490&gt;,\n",
       "                                        &#x27;n_estimators&#x27;: &lt;scipy.stats._distn_infrastructure.rv_discrete_frozen object at 0x000001ECFBD31820&gt;},\n",
       "                   random_state=42, scoring=&#x27;accuracy&#x27;, verbose=1)</pre></div> </div></div><div class=\"sk-parallel\"><div class=\"sk-parallel-item\"><div class=\"sk-item\"><div class=\"sk-label-container\"><div class=\"sk-label fitted sk-toggleable\"><input class=\"sk-toggleable__control sk-hidden--visually\" id=\"sk-estimator-id-5\" type=\"checkbox\" ><label for=\"sk-estimator-id-5\" class=\"sk-toggleable__label fitted sk-toggleable__label-arrow fitted\">best_estimator_: RandomForestClassifier</label><div class=\"sk-toggleable__content fitted\"><pre>RandomForestClassifier(bootstrap=False, max_features=&#x27;log2&#x27;, min_samples_leaf=2,\n",
       "                       n_estimators=413, random_state=42)</pre></div> </div></div><div class=\"sk-serial\"><div class=\"sk-item\"><div class=\"sk-estimator fitted sk-toggleable\"><input class=\"sk-toggleable__control sk-hidden--visually\" id=\"sk-estimator-id-6\" type=\"checkbox\" ><label for=\"sk-estimator-id-6\" class=\"sk-toggleable__label fitted sk-toggleable__label-arrow fitted\">&nbsp;RandomForestClassifier<a class=\"sk-estimator-doc-link fitted\" rel=\"noreferrer\" target=\"_blank\" href=\"https://scikit-learn.org/1.5/modules/generated/sklearn.ensemble.RandomForestClassifier.html\">?<span>Documentation for RandomForestClassifier</span></a></label><div class=\"sk-toggleable__content fitted\"><pre>RandomForestClassifier(bootstrap=False, max_features=&#x27;log2&#x27;, min_samples_leaf=2,\n",
       "                       n_estimators=413, random_state=42)</pre></div> </div></div></div></div></div></div></div></div></div>"
      ],
      "text/plain": [
       "RandomizedSearchCV(cv=5, estimator=RandomForestClassifier(random_state=42),\n",
       "                   n_iter=100, n_jobs=-1,\n",
       "                   param_distributions={'bootstrap': [True, False],\n",
       "                                        'max_depth': [10, 20, 30, 40, 50, None],\n",
       "                                        'max_features': ['sqrt', 'log2', None],\n",
       "                                        'min_samples_leaf': <scipy.stats._distn_infrastructure.rv_discrete_frozen object at 0x000001ECFC05FF50>,\n",
       "                                        'min_samples_split': <scipy.stats._distn_infrastructure.rv_discrete_frozen object at 0x000001ECFC05D490>,\n",
       "                                        'n_estimators': <scipy.stats._distn_infrastructure.rv_discrete_frozen object at 0x000001ECFBD31820>},\n",
       "                   random_state=42, scoring='accuracy', verbose=1)"
      ]
     },
     "execution_count": 15,
     "metadata": {},
     "output_type": "execute_result"
    }
   ],
   "source": [
    "# Initialize Random Search\n",
    "random_search = RandomizedSearchCV(\n",
    "    estimator=RandomForestClassifier(random_state=42),\n",
    "    param_distributions=param_distributions,\n",
    "    n_iter=100,             # Number of random samples\n",
    "    cv=5,\n",
    "    scoring='accuracy',\n",
    "    n_jobs=-1,\n",
    "    verbose=1,\n",
    "    random_state=42\n",
    ")\n",
    "\n",
    "# Fit Random Search\n",
    "random_search.fit(X_train, y_train)"
   ]
  },
  {
   "cell_type": "code",
   "execution_count": 41,
   "metadata": {},
   "outputs": [
    {
     "name": "stdout",
     "output_type": "stream",
     "text": [
      "============================================================\n",
      "\t\tRANDOM SEARCH RESULTS\n",
      "============================================================\n",
      "\n",
      "Best Parameters:\n",
      "  bootstrap: False\n",
      "  max_depth: None\n",
      "  max_features: log2\n",
      "  min_samples_leaf: 2\n",
      "  min_samples_split: 2\n",
      "  n_estimators: 413\n",
      "\n",
      "Best Cross-Validation Score: 0.9626\n",
      "Test Set Accuracy: 0.9561\n",
      "Improvement over baseline: 0.00%\n"
     ]
    }
   ],
   "source": [
    "# Best parameters and score\n",
    "print(\"=\" * 60)\n",
    "print(\"\\t\\tRANDOM SEARCH RESULTS\")\n",
    "print(\"=\" * 60)\n",
    "print(f\"\\nBest Parameters:\")\n",
    "for param, value in random_search.best_params_.items():\n",
    "    print(f\"  {param}: {value}\")\n",
    "\n",
    "print(f\"\\nBest Cross-Validation Score: {random_search.best_score_:.4f}\")\n",
    "\n",
    "# Test on held-out test set\n",
    "y_pred_random = random_search.predict(X_test)\n",
    "random_accuracy = accuracy_score(y_test, y_pred_random)\n",
    "print(f\"Test Set Accuracy: {random_accuracy:.4f}\")\n",
    "print(f\"Improvement over baseline: {(random_accuracy - baseline_accuracy)*100:.2f}%\")\n",
    "\n",
    "results['Random Search'] = random_accuracy"
   ]
  },
  {
   "cell_type": "code",
   "execution_count": 42,
   "metadata": {},
   "outputs": [
    {
     "name": "stdout",
     "output_type": "stream",
     "text": [
      "\n",
      "============================================================\n",
      "\t\tEFFICIENCY COMPARISON\n",
      "============================================================\n",
      "Grid Search - Best Score: 0.9604\n",
      "Random Search - Best Score: 0.9626\n",
      "\n",
      "Random Search used ~46% fewer model fits\n",
      "Performance difference: 0.0022\n"
     ]
    }
   ],
   "source": [
    "# Compare Grid vs Random Search efficiency\n",
    "print(\"\\n\" + \"=\" * 60)\n",
    "print(\"\\t\\tEFFICIENCY COMPARISON\")\n",
    "print(\"=\" * 60)\n",
    "print(f\"Grid Search - Best Score: {grid_search.best_score_:.4f}\")\n",
    "print(f\"Random Search - Best Score: {random_search.best_score_:.4f}\")\n",
    "print(f\"\\nRandom Search used ~46% fewer model fits\")\n",
    "print(f\"Performance difference: {abs(grid_search.best_score_ - random_search.best_score_):.4f}\")"
   ]
  },
  {
   "cell_type": "markdown",
   "metadata": {},
   "source": [
    "### Did You See the Results Above? What Did You Understand From This Comparison?\n",
    "\n",
    "Look at those numbers! This comparison tells us something really important about hyperparameter tuning.\n",
    "\n",
    "**What Just Happened:**\n",
    "\n",
    "- **Random Search Won!** It found a slightly better score (0.9626) than Grid Search (0.9604)\n",
    "- **Random Search Was Much Faster!** It used ~46% fewer model fits than Grid Search\n",
    "- **Think About It:** Random Search did less work but got better results!\n",
    "\n",
    "**Why This Matters:**\n",
    "\n",
    "- **Time is Money:** In real projects, you don't have unlimited time to test every possible combination. Random Search gives you great results much faster.\n",
    "\n",
    "- **Smart vs Exhaustive:** Grid Search tries every combination (like checking every single house in a neighborhood). Random Search is smarter - it picks random combinations and often finds the best one anyway.\n",
    "\n",
    "- **Real-World Impact:** When you're building models for companies, faster tuning means:\n",
    "  - You can try more ideas\n",
    "  - You can iterate faster\n",
    "  - You can focus on other important things like feature engineering\n",
    "\n",
    "**The Big Takeaway:**\n",
    "\n",
    "Don't always assume that checking everything is better. Sometimes being smart about where you look gives you better results with less effort. This is why Random Search is often preferred in production ML systems!\n",
    "\n",
    "**Next Time You Tune Hyperparameters:**\n",
    "Start with Random Search first - it's usually the sweet spot between performance and efficiency."
   ]
  },
  {
   "cell_type": "markdown",
   "metadata": {},
   "source": [
    "---\n",
    "\n",
    "## 7. Method 3: Bayesian Optimization with Optuna\n",
    "\n",
    "### How Bayesian Optimization Works\n",
    "\n",
    "Bayesian optimization is a **smart search strategy** that learns from previous trials:\n",
    "\n",
    "1. Builds a probabilistic model of the objective function\n",
    "2. Uses this model to decide where to search next\n",
    "3. Balances **exploration** (trying new regions) vs **exploitation** (refining known good regions)\n",
    "4. Converges faster to optimal hyperparameters\n",
    "\n",
    "**Why Optuna?**\n",
    "- Modern, pythonic API\n",
    "- Efficient sampling algorithms (TPE, CMA-ES)\n",
    "- Pruning: stops unpromising trials early\n",
    "- Built-in visualization\n",
    "- Used in production at many companies\n",
    "\n",
    "**Pros:**\n",
    "- Most efficient use of computational budget\n",
    "- Finds better hyperparameters faster\n",
    "- Handles complex search spaces\n",
    "- Automatic early stopping of bad trials\n",
    "\n",
    "**Cons:**\n",
    "- More complex to set up initially\n",
    "- Requires understanding of the framework\n",
    "\n",
    "**When to Use:**\n",
    "- Production models where performance matters\n",
    "- Expensive model training (deep learning)\n",
    "- Complex hyperparameter spaces\n",
    "- Modern ML projects"
   ]
  },
  {
   "cell_type": "markdown",
   "metadata": {},
   "source": [
    "### 7.1 Optuna with Random Forest"
   ]
  },
  {
   "cell_type": "code",
   "execution_count": 18,
   "metadata": {},
   "outputs": [
    {
     "name": "stdout",
     "output_type": "stream",
     "text": [
      "Objective function defined. Ready for optimization.\n"
     ]
    }
   ],
   "source": [
    "# Define objective function for Optuna\n",
    "def objective_rf(trial):\n",
    "    \"\"\"\n",
    "    Objective function for Optuna optimization.\n",
    "    This function is called for each trial.\n",
    "    \"\"\"\n",
    "    # Suggest hyperparameters\n",
    "    params = {\n",
    "        'n_estimators': trial.suggest_int('n_estimators', 100, 500),\n",
    "        'max_depth': trial.suggest_int('max_depth', 10, 50),\n",
    "        'min_samples_split': trial.suggest_int('min_samples_split', 2, 20),\n",
    "        'min_samples_leaf': trial.suggest_int('min_samples_leaf', 1, 10),\n",
    "        'max_features': trial.suggest_categorical('max_features', ['sqrt', 'log2', None]),\n",
    "        'bootstrap': trial.suggest_categorical('bootstrap', [True, False]),\n",
    "        'random_state': 42\n",
    "    }\n",
    "    \n",
    "    # Create and evaluate model\n",
    "    model = RandomForestClassifier(**params)\n",
    "    \n",
    "    # Cross-validation score\n",
    "    scores = cross_val_score(model, X_train, y_train, cv=5, scoring='accuracy', n_jobs=-1)\n",
    "    \n",
    "    return scores.mean()\n",
    "\n",
    "print(\"Objective function defined. Ready for optimization.\")"
   ]
  },
  {
   "cell_type": "code",
   "execution_count": 19,
   "metadata": {},
   "outputs": [
    {
     "name": "stderr",
     "output_type": "stream",
     "text": [
      "[I 2025-10-07 22:20:40,572] A new study created in memory with name: Random Forest Tuning\n"
     ]
    },
    {
     "name": "stdout",
     "output_type": "stream",
     "text": [
      "Starting Optuna optimization...\n",
      "\n"
     ]
    },
    {
     "data": {
      "application/vnd.jupyter.widget-view+json": {
       "model_id": "29b1fc14696b4332b9caa320039c1784",
       "version_major": 2,
       "version_minor": 0
      },
      "text/plain": [
       "  0%|          | 0/100 [00:00<?, ?it/s]"
      ]
     },
     "metadata": {},
     "output_type": "display_data"
    },
    {
     "name": "stdout",
     "output_type": "stream",
     "text": [
      "[I 2025-10-07 22:20:43,300] Trial 0 finished with value: 0.9516483516483516 and parameters: {'n_estimators': 250, 'max_depth': 48, 'min_samples_split': 15, 'min_samples_leaf': 6, 'max_features': 'sqrt', 'bootstrap': True}. Best is trial 0 with value: 0.9516483516483516.\n",
      "[I 2025-10-07 22:20:47,039] Trial 1 finished with value: 0.9582417582417584 and parameters: {'n_estimators': 383, 'max_depth': 10, 'min_samples_split': 20, 'min_samples_leaf': 9, 'max_features': 'sqrt', 'bootstrap': False}. Best is trial 1 with value: 0.9582417582417584.\n",
      "[I 2025-10-07 22:20:52,591] Trial 2 finished with value: 0.9538461538461538 and parameters: {'n_estimators': 273, 'max_depth': 21, 'min_samples_split': 13, 'min_samples_leaf': 2, 'max_features': None, 'bootstrap': True}. Best is trial 1 with value: 0.9582417582417584.\n",
      "[I 2025-10-07 22:20:57,715] Trial 3 finished with value: 0.9538461538461538 and parameters: {'n_estimators': 306, 'max_depth': 34, 'min_samples_split': 2, 'min_samples_leaf': 7, 'max_features': None, 'bootstrap': True}. Best is trial 1 with value: 0.9582417582417584.\n",
      "[I 2025-10-07 22:20:59,517] Trial 4 finished with value: 0.9538461538461538 and parameters: {'n_estimators': 222, 'max_depth': 14, 'min_samples_split': 15, 'min_samples_leaf': 5, 'max_features': 'log2', 'bootstrap': True}. Best is trial 1 with value: 0.9582417582417584.\n",
      "[I 2025-10-07 22:21:02,506] Trial 5 finished with value: 0.9538461538461538 and parameters: {'n_estimators': 365, 'max_depth': 22, 'min_samples_split': 11, 'min_samples_leaf': 6, 'max_features': 'log2', 'bootstrap': True}. Best is trial 1 with value: 0.9582417582417584.\n",
      "[I 2025-10-07 22:21:11,202] Trial 6 finished with value: 0.9318681318681318 and parameters: {'n_estimators': 339, 'max_depth': 47, 'min_samples_split': 3, 'min_samples_leaf': 2, 'max_features': None, 'bootstrap': False}. Best is trial 1 with value: 0.9582417582417584.\n",
      "[I 2025-10-07 22:21:15,398] Trial 7 finished with value: 0.9538461538461538 and parameters: {'n_estimators': 243, 'max_depth': 21, 'min_samples_split': 12, 'min_samples_leaf': 2, 'max_features': None, 'bootstrap': True}. Best is trial 1 with value: 0.9582417582417584.\n",
      "[I 2025-10-07 22:21:16,192] Trial 8 finished with value: 0.9582417582417584 and parameters: {'n_estimators': 102, 'max_depth': 43, 'min_samples_split': 15, 'min_samples_leaf': 8, 'max_features': 'sqrt', 'bootstrap': False}. Best is trial 1 with value: 0.9582417582417584.\n",
      "[I 2025-10-07 22:21:19,332] Trial 9 finished with value: 0.9560439560439562 and parameters: {'n_estimators': 349, 'max_depth': 23, 'min_samples_split': 3, 'min_samples_leaf': 4, 'max_features': 'log2', 'bootstrap': True}. Best is trial 1 with value: 0.9582417582417584.\n",
      "[I 2025-10-07 22:21:23,184] Trial 10 finished with value: 0.9582417582417584 and parameters: {'n_estimators': 488, 'max_depth': 10, 'min_samples_split': 20, 'min_samples_leaf': 10, 'max_features': 'sqrt', 'bootstrap': False}. Best is trial 1 with value: 0.9582417582417584.\n",
      "[I 2025-10-07 22:21:24,148] Trial 11 finished with value: 0.9582417582417584 and parameters: {'n_estimators': 106, 'max_depth': 37, 'min_samples_split': 20, 'min_samples_leaf': 9, 'max_features': 'sqrt', 'bootstrap': False}. Best is trial 1 with value: 0.9582417582417584.\n",
      "[I 2025-10-07 22:21:27,714] Trial 12 finished with value: 0.9582417582417584 and parameters: {'n_estimators': 437, 'max_depth': 40, 'min_samples_split': 17, 'min_samples_leaf': 8, 'max_features': 'sqrt', 'bootstrap': False}. Best is trial 1 with value: 0.9582417582417584.\n",
      "[I 2025-10-07 22:21:28,597] Trial 13 finished with value: 0.9582417582417584 and parameters: {'n_estimators': 106, 'max_depth': 28, 'min_samples_split': 17, 'min_samples_leaf': 10, 'max_features': 'sqrt', 'bootstrap': False}. Best is trial 1 with value: 0.9582417582417584.\n",
      "[I 2025-10-07 22:21:32,631] Trial 14 finished with value: 0.9582417582417584 and parameters: {'n_estimators': 409, 'max_depth': 42, 'min_samples_split': 8, 'min_samples_leaf': 8, 'max_features': 'sqrt', 'bootstrap': False}. Best is trial 1 with value: 0.9582417582417584.\n",
      "[I 2025-10-07 22:21:34,081] Trial 15 finished with value: 0.9560439560439562 and parameters: {'n_estimators': 179, 'max_depth': 31, 'min_samples_split': 8, 'min_samples_leaf': 8, 'max_features': 'sqrt', 'bootstrap': False}. Best is trial 1 with value: 0.9582417582417584.\n",
      "[I 2025-10-07 22:21:35,542] Trial 16 finished with value: 0.956043956043956 and parameters: {'n_estimators': 163, 'max_depth': 16, 'min_samples_split': 18, 'min_samples_leaf': 9, 'max_features': 'sqrt', 'bootstrap': False}. Best is trial 1 with value: 0.9582417582417584.\n",
      "[I 2025-10-07 22:21:38,941] Trial 17 finished with value: 0.9582417582417584 and parameters: {'n_estimators': 414, 'max_depth': 42, 'min_samples_split': 15, 'min_samples_leaf': 4, 'max_features': 'sqrt', 'bootstrap': False}. Best is trial 1 with value: 0.9582417582417584.\n",
      "[I 2025-10-07 22:21:43,353] Trial 18 finished with value: 0.9582417582417584 and parameters: {'n_estimators': 475, 'max_depth': 28, 'min_samples_split': 8, 'min_samples_leaf': 7, 'max_features': 'sqrt', 'bootstrap': False}. Best is trial 1 with value: 0.9582417582417584.\n",
      "[I 2025-10-07 22:21:45,064] Trial 19 finished with value: 0.9560439560439562 and parameters: {'n_estimators': 189, 'max_depth': 10, 'min_samples_split': 18, 'min_samples_leaf': 9, 'max_features': 'log2', 'bootstrap': False}. Best is trial 1 with value: 0.9582417582417584.\n",
      "[I 2025-10-07 22:21:48,027] Trial 20 finished with value: 0.9582417582417584 and parameters: {'n_estimators': 299, 'max_depth': 45, 'min_samples_split': 14, 'min_samples_leaf': 7, 'max_features': 'sqrt', 'bootstrap': False}. Best is trial 1 with value: 0.9582417582417584.\n",
      "[I 2025-10-07 22:21:52,685] Trial 21 finished with value: 0.9582417582417584 and parameters: {'n_estimators': 480, 'max_depth': 10, 'min_samples_split': 20, 'min_samples_leaf': 10, 'max_features': 'sqrt', 'bootstrap': False}. Best is trial 1 with value: 0.9582417582417584.\n",
      "[I 2025-10-07 22:21:57,429] Trial 22 finished with value: 0.9582417582417584 and parameters: {'n_estimators': 496, 'max_depth': 16, 'min_samples_split': 20, 'min_samples_leaf': 10, 'max_features': 'sqrt', 'bootstrap': False}. Best is trial 1 with value: 0.9582417582417584.\n",
      "[I 2025-10-07 22:22:01,028] Trial 23 finished with value: 0.9582417582417584 and parameters: {'n_estimators': 390, 'max_depth': 13, 'min_samples_split': 18, 'min_samples_leaf': 9, 'max_features': 'sqrt', 'bootstrap': False}. Best is trial 1 with value: 0.9582417582417584.\n",
      "[I 2025-10-07 22:22:06,025] Trial 24 finished with value: 0.9582417582417584 and parameters: {'n_estimators': 444, 'max_depth': 18, 'min_samples_split': 17, 'min_samples_leaf': 10, 'max_features': 'sqrt', 'bootstrap': False}. Best is trial 1 with value: 0.9582417582417584.\n",
      "[I 2025-10-07 22:22:11,008] Trial 25 finished with value: 0.9582417582417584 and parameters: {'n_estimators': 445, 'max_depth': 25, 'min_samples_split': 19, 'min_samples_leaf': 8, 'max_features': 'sqrt', 'bootstrap': False}. Best is trial 1 with value: 0.9582417582417584.\n",
      "[I 2025-10-07 22:22:17,466] Trial 26 finished with value: 0.9582417582417584 and parameters: {'n_estimators': 379, 'max_depth': 50, 'min_samples_split': 16, 'min_samples_leaf': 9, 'max_features': 'sqrt', 'bootstrap': False}. Best is trial 1 with value: 0.9582417582417584.\n",
      "[I 2025-10-07 22:22:21,175] Trial 27 finished with value: 0.9582417582417584 and parameters: {'n_estimators': 328, 'max_depth': 36, 'min_samples_split': 6, 'min_samples_leaf': 10, 'max_features': 'sqrt', 'bootstrap': False}. Best is trial 1 with value: 0.9582417582417584.\n",
      "[I 2025-10-07 22:22:27,888] Trial 28 finished with value: 0.923076923076923 and parameters: {'n_estimators': 140, 'max_depth': 13, 'min_samples_split': 10, 'min_samples_leaf': 7, 'max_features': None, 'bootstrap': False}. Best is trial 1 with value: 0.9582417582417584.\n",
      "[I 2025-10-07 22:22:30,220] Trial 29 finished with value: 0.9582417582417584 and parameters: {'n_estimators': 225, 'max_depth': 18, 'min_samples_split': 15, 'min_samples_leaf': 6, 'max_features': 'log2', 'bootstrap': False}. Best is trial 1 with value: 0.9582417582417584.\n",
      "[I 2025-10-07 22:22:35,976] Trial 30 finished with value: 0.9582417582417584 and parameters: {'n_estimators': 462, 'max_depth': 31, 'min_samples_split': 19, 'min_samples_leaf': 8, 'max_features': 'sqrt', 'bootstrap': False}. Best is trial 1 with value: 0.9582417582417584.\n",
      "[I 2025-10-07 22:22:36,956] Trial 31 finished with value: 0.9582417582417584 and parameters: {'n_estimators': 105, 'max_depth': 36, 'min_samples_split': 20, 'min_samples_leaf': 9, 'max_features': 'sqrt', 'bootstrap': False}. Best is trial 1 with value: 0.9582417582417584.\n",
      "[I 2025-10-07 22:22:38,397] Trial 32 finished with value: 0.9582417582417584 and parameters: {'n_estimators': 141, 'max_depth': 40, 'min_samples_split': 19, 'min_samples_leaf': 9, 'max_features': 'sqrt', 'bootstrap': False}. Best is trial 1 with value: 0.9582417582417584.\n",
      "[I 2025-10-07 22:22:39,715] Trial 33 finished with value: 0.9582417582417584 and parameters: {'n_estimators': 132, 'max_depth': 37, 'min_samples_split': 13, 'min_samples_leaf': 10, 'max_features': 'sqrt', 'bootstrap': False}. Best is trial 1 with value: 0.9582417582417584.\n",
      "[I 2025-10-07 22:22:44,923] Trial 34 finished with value: 0.9538461538461538 and parameters: {'n_estimators': 282, 'max_depth': 43, 'min_samples_split': 20, 'min_samples_leaf': 9, 'max_features': None, 'bootstrap': True}. Best is trial 1 with value: 0.9582417582417584.\n",
      "[I 2025-10-07 22:22:47,012] Trial 35 finished with value: 0.9516483516483516 and parameters: {'n_estimators': 200, 'max_depth': 33, 'min_samples_split': 16, 'min_samples_leaf': 8, 'max_features': 'sqrt', 'bootstrap': True}. Best is trial 1 with value: 0.9582417582417584.\n",
      "[I 2025-10-07 22:22:49,765] Trial 36 finished with value: 0.9582417582417584 and parameters: {'n_estimators': 253, 'max_depth': 38, 'min_samples_split': 18, 'min_samples_leaf': 7, 'max_features': 'sqrt', 'bootstrap': False}. Best is trial 1 with value: 0.9582417582417584.\n",
      "[I 2025-10-07 22:22:51,208] Trial 37 finished with value: 0.9516483516483516 and parameters: {'n_estimators': 124, 'max_depth': 46, 'min_samples_split': 16, 'min_samples_leaf': 1, 'max_features': 'log2', 'bootstrap': True}. Best is trial 1 with value: 0.9582417582417584.\n",
      "[I 2025-10-07 22:22:59,960] Trial 38 finished with value: 0.9274725274725274 and parameters: {'n_estimators': 321, 'max_depth': 49, 'min_samples_split': 13, 'min_samples_leaf': 6, 'max_features': None, 'bootstrap': False}. Best is trial 1 with value: 0.9582417582417584.\n",
      "[I 2025-10-07 22:23:01,491] Trial 39 finished with value: 0.9582417582417584 and parameters: {'n_estimators': 156, 'max_depth': 12, 'min_samples_split': 19, 'min_samples_leaf': 5, 'max_features': 'sqrt', 'bootstrap': False}. Best is trial 1 with value: 0.9582417582417584.\n",
      "[I 2025-10-07 22:23:03,507] Trial 40 finished with value: 0.9538461538461538 and parameters: {'n_estimators': 216, 'max_depth': 39, 'min_samples_split': 14, 'min_samples_leaf': 10, 'max_features': 'log2', 'bootstrap': True}. Best is trial 1 with value: 0.9582417582417584.\n",
      "[I 2025-10-07 22:23:07,692] Trial 41 finished with value: 0.9582417582417584 and parameters: {'n_estimators': 434, 'max_depth': 34, 'min_samples_split': 17, 'min_samples_leaf': 8, 'max_features': 'sqrt', 'bootstrap': False}. Best is trial 1 with value: 0.9582417582417584.\n",
      "[I 2025-10-07 22:23:11,383] Trial 42 finished with value: 0.9582417582417584 and parameters: {'n_estimators': 415, 'max_depth': 44, 'min_samples_split': 20, 'min_samples_leaf': 8, 'max_features': 'sqrt', 'bootstrap': False}. Best is trial 1 with value: 0.9582417582417584.\n",
      "[I 2025-10-07 22:23:15,453] Trial 43 finished with value: 0.9582417582417584 and parameters: {'n_estimators': 500, 'max_depth': 41, 'min_samples_split': 17, 'min_samples_leaf': 9, 'max_features': 'sqrt', 'bootstrap': False}. Best is trial 1 with value: 0.9582417582417584.\n",
      "[I 2025-10-07 22:23:18,195] Trial 44 finished with value: 0.9582417582417584 and parameters: {'n_estimators': 353, 'max_depth': 40, 'min_samples_split': 19, 'min_samples_leaf': 7, 'max_features': 'sqrt', 'bootstrap': False}. Best is trial 1 with value: 0.9582417582417584.\n",
      "[I 2025-10-07 22:23:21,788] Trial 45 finished with value: 0.9582417582417584 and parameters: {'n_estimators': 394, 'max_depth': 27, 'min_samples_split': 18, 'min_samples_leaf': 9, 'max_features': 'sqrt', 'bootstrap': False}. Best is trial 1 with value: 0.9582417582417584.\n",
      "[I 2025-10-07 22:23:31,567] Trial 46 finished with value: 0.9208791208791208 and parameters: {'n_estimators': 456, 'max_depth': 48, 'min_samples_split': 16, 'min_samples_leaf': 10, 'max_features': None, 'bootstrap': False}. Best is trial 1 with value: 0.9582417582417584.\n",
      "[I 2025-10-07 22:23:36,232] Trial 47 finished with value: 0.9582417582417584 and parameters: {'n_estimators': 427, 'max_depth': 20, 'min_samples_split': 19, 'min_samples_leaf': 8, 'max_features': 'sqrt', 'bootstrap': False}. Best is trial 1 with value: 0.9582417582417584.\n",
      "[I 2025-10-07 22:23:41,146] Trial 48 finished with value: 0.9538461538461538 and parameters: {'n_estimators': 478, 'max_depth': 33, 'min_samples_split': 15, 'min_samples_leaf': 3, 'max_features': 'sqrt', 'bootstrap': True}. Best is trial 1 with value: 0.9582417582417584.\n",
      "[I 2025-10-07 22:23:42,734] Trial 49 finished with value: 0.956043956043956 and parameters: {'n_estimators': 166, 'max_depth': 11, 'min_samples_split': 10, 'min_samples_leaf': 9, 'max_features': 'sqrt', 'bootstrap': False}. Best is trial 1 with value: 0.9582417582417584.\n",
      "[I 2025-10-07 22:23:45,870] Trial 50 finished with value: 0.9582417582417584 and parameters: {'n_estimators': 372, 'max_depth': 15, 'min_samples_split': 17, 'min_samples_leaf': 7, 'max_features': 'log2', 'bootstrap': False}. Best is trial 1 with value: 0.9582417582417584.\n",
      "[I 2025-10-07 22:23:46,990] Trial 51 finished with value: 0.9582417582417584 and parameters: {'n_estimators': 100, 'max_depth': 24, 'min_samples_split': 18, 'min_samples_leaf': 10, 'max_features': 'sqrt', 'bootstrap': False}. Best is trial 1 with value: 0.9582417582417584.\n",
      "[I 2025-10-07 22:23:48,285] Trial 52 finished with value: 0.9582417582417584 and parameters: {'n_estimators': 123, 'max_depth': 43, 'min_samples_split': 20, 'min_samples_leaf': 10, 'max_features': 'sqrt', 'bootstrap': False}. Best is trial 1 with value: 0.9582417582417584.\n",
      "[I 2025-10-07 22:23:49,306] Trial 53 finished with value: 0.956043956043956 and parameters: {'n_estimators': 110, 'max_depth': 46, 'min_samples_split': 14, 'min_samples_leaf': 9, 'max_features': 'sqrt', 'bootstrap': False}. Best is trial 1 with value: 0.9582417582417584.\n",
      "[I 2025-10-07 22:23:50,713] Trial 54 finished with value: 0.9582417582417584 and parameters: {'n_estimators': 155, 'max_depth': 27, 'min_samples_split': 17, 'min_samples_leaf': 8, 'max_features': 'sqrt', 'bootstrap': False}. Best is trial 1 with value: 0.9582417582417584.\n",
      "[I 2025-10-07 22:23:55,193] Trial 55 finished with value: 0.9582417582417584 and parameters: {'n_estimators': 464, 'max_depth': 35, 'min_samples_split': 12, 'min_samples_leaf': 10, 'max_features': 'sqrt', 'bootstrap': False}. Best is trial 1 with value: 0.9582417582417584.\n",
      "[I 2025-10-07 22:23:56,230] Trial 56 finished with value: 0.956043956043956 and parameters: {'n_estimators': 115, 'max_depth': 30, 'min_samples_split': 18, 'min_samples_leaf': 9, 'max_features': 'sqrt', 'bootstrap': False}. Best is trial 1 with value: 0.9582417582417584.\n",
      "[I 2025-10-07 22:23:57,799] Trial 57 finished with value: 0.9582417582417584 and parameters: {'n_estimators': 176, 'max_depth': 18, 'min_samples_split': 19, 'min_samples_leaf': 10, 'max_features': 'sqrt', 'bootstrap': False}. Best is trial 1 with value: 0.9582417582417584.\n",
      "[I 2025-10-07 22:24:01,223] Trial 58 finished with value: 0.9582417582417584 and parameters: {'n_estimators': 391, 'max_depth': 10, 'min_samples_split': 20, 'min_samples_leaf': 9, 'max_features': 'sqrt', 'bootstrap': False}. Best is trial 1 with value: 0.9582417582417584.\n",
      "[I 2025-10-07 22:24:11,940] Trial 59 finished with value: 0.9274725274725274 and parameters: {'n_estimators': 488, 'max_depth': 14, 'min_samples_split': 16, 'min_samples_leaf': 8, 'max_features': None, 'bootstrap': False}. Best is trial 1 with value: 0.9582417582417584.\n",
      "[I 2025-10-07 22:24:13,305] Trial 60 finished with value: 0.9626373626373628 and parameters: {'n_estimators': 140, 'max_depth': 39, 'min_samples_split': 5, 'min_samples_leaf': 4, 'max_features': 'sqrt', 'bootstrap': False}. Best is trial 60 with value: 0.9626373626373628.\n",
      "[I 2025-10-07 22:24:14,546] Trial 61 finished with value: 0.9626373626373628 and parameters: {'n_estimators': 139, 'max_depth': 38, 'min_samples_split': 6, 'min_samples_leaf': 4, 'max_features': 'sqrt', 'bootstrap': False}. Best is trial 60 with value: 0.9626373626373628.\n",
      "[I 2025-10-07 22:24:15,904] Trial 62 finished with value: 0.9626373626373628 and parameters: {'n_estimators': 147, 'max_depth': 39, 'min_samples_split': 7, 'min_samples_leaf': 4, 'max_features': 'sqrt', 'bootstrap': False}. Best is trial 60 with value: 0.9626373626373628.\n",
      "[I 2025-10-07 22:24:17,166] Trial 63 finished with value: 0.9626373626373628 and parameters: {'n_estimators': 142, 'max_depth': 38, 'min_samples_split': 5, 'min_samples_leaf': 4, 'max_features': 'sqrt', 'bootstrap': False}. Best is trial 60 with value: 0.9626373626373628.\n",
      "[I 2025-10-07 22:24:18,593] Trial 64 finished with value: 0.9626373626373628 and parameters: {'n_estimators': 148, 'max_depth': 38, 'min_samples_split': 5, 'min_samples_leaf': 4, 'max_features': 'sqrt', 'bootstrap': False}. Best is trial 60 with value: 0.9626373626373628.\n",
      "[I 2025-10-07 22:24:19,825] Trial 65 finished with value: 0.9626373626373628 and parameters: {'n_estimators': 142, 'max_depth': 38, 'min_samples_split': 5, 'min_samples_leaf': 4, 'max_features': 'sqrt', 'bootstrap': False}. Best is trial 60 with value: 0.9626373626373628.\n",
      "[I 2025-10-07 22:24:21,175] Trial 66 finished with value: 0.9626373626373628 and parameters: {'n_estimators': 147, 'max_depth': 38, 'min_samples_split': 4, 'min_samples_leaf': 4, 'max_features': 'sqrt', 'bootstrap': False}. Best is trial 60 with value: 0.9626373626373628.\n",
      "[I 2025-10-07 22:24:22,505] Trial 67 finished with value: 0.9626373626373628 and parameters: {'n_estimators': 143, 'max_depth': 39, 'min_samples_split': 5, 'min_samples_leaf': 4, 'max_features': 'sqrt', 'bootstrap': False}. Best is trial 60 with value: 0.9626373626373628.\n",
      "[I 2025-10-07 22:24:24,586] Trial 68 finished with value: 0.9582417582417582 and parameters: {'n_estimators': 195, 'max_depth': 38, 'min_samples_split': 5, 'min_samples_leaf': 3, 'max_features': 'sqrt', 'bootstrap': False}. Best is trial 60 with value: 0.9626373626373628.\n",
      "[I 2025-10-07 22:24:26,203] Trial 69 finished with value: 0.9626373626373628 and parameters: {'n_estimators': 180, 'max_depth': 41, 'min_samples_split': 3, 'min_samples_leaf': 4, 'max_features': 'sqrt', 'bootstrap': False}. Best is trial 60 with value: 0.9626373626373628.\n",
      "[I 2025-10-07 22:24:27,690] Trial 70 finished with value: 0.9560439560439562 and parameters: {'n_estimators': 149, 'max_depth': 36, 'min_samples_split': 7, 'min_samples_leaf': 3, 'max_features': 'sqrt', 'bootstrap': True}. Best is trial 60 with value: 0.9626373626373628.\n",
      "[I 2025-10-07 22:24:29,074] Trial 71 finished with value: 0.9626373626373628 and parameters: {'n_estimators': 139, 'max_depth': 38, 'min_samples_split': 5, 'min_samples_leaf': 4, 'max_features': 'sqrt', 'bootstrap': False}. Best is trial 60 with value: 0.9626373626373628.\n",
      "[I 2025-10-07 22:24:30,792] Trial 72 finished with value: 0.9626373626373628 and parameters: {'n_estimators': 169, 'max_depth': 39, 'min_samples_split': 4, 'min_samples_leaf': 5, 'max_features': 'sqrt', 'bootstrap': False}. Best is trial 60 with value: 0.9626373626373628.\n",
      "[I 2025-10-07 22:24:32,859] Trial 73 finished with value: 0.9626373626373628 and parameters: {'n_estimators': 130, 'max_depth': 41, 'min_samples_split': 2, 'min_samples_leaf': 4, 'max_features': 'sqrt', 'bootstrap': False}. Best is trial 60 with value: 0.9626373626373628.\n",
      "[I 2025-10-07 22:24:34,519] Trial 74 finished with value: 0.9582417582417582 and parameters: {'n_estimators': 148, 'max_depth': 37, 'min_samples_split': 6, 'min_samples_leaf': 3, 'max_features': 'sqrt', 'bootstrap': False}. Best is trial 60 with value: 0.9626373626373628.\n",
      "[I 2025-10-07 22:24:35,673] Trial 75 finished with value: 0.964835164835165 and parameters: {'n_estimators': 119, 'max_depth': 35, 'min_samples_split': 4, 'min_samples_leaf': 5, 'max_features': 'sqrt', 'bootstrap': False}. Best is trial 75 with value: 0.964835164835165.\n",
      "[I 2025-10-07 22:24:36,709] Trial 76 finished with value: 0.9604395604395606 and parameters: {'n_estimators': 121, 'max_depth': 34, 'min_samples_split': 4, 'min_samples_leaf': 5, 'max_features': 'log2', 'bootstrap': False}. Best is trial 75 with value: 0.964835164835165.\n",
      "[I 2025-10-07 22:24:38,774] Trial 77 finished with value: 0.9626373626373628 and parameters: {'n_estimators': 162, 'max_depth': 32, 'min_samples_split': 6, 'min_samples_leaf': 5, 'max_features': 'sqrt', 'bootstrap': False}. Best is trial 75 with value: 0.964835164835165.\n",
      "[I 2025-10-07 22:24:41,373] Trial 78 finished with value: 0.964835164835165 and parameters: {'n_estimators': 186, 'max_depth': 35, 'min_samples_split': 7, 'min_samples_leaf': 4, 'max_features': 'sqrt', 'bootstrap': False}. Best is trial 75 with value: 0.964835164835165.\n",
      "[I 2025-10-07 22:24:43,617] Trial 79 finished with value: 0.9626373626373628 and parameters: {'n_estimators': 205, 'max_depth': 35, 'min_samples_split': 7, 'min_samples_leaf': 3, 'max_features': 'sqrt', 'bootstrap': False}. Best is trial 75 with value: 0.964835164835165.\n",
      "[I 2025-10-07 22:24:49,148] Trial 80 finished with value: 0.9340659340659341 and parameters: {'n_estimators': 180, 'max_depth': 36, 'min_samples_split': 7, 'min_samples_leaf': 4, 'max_features': None, 'bootstrap': False}. Best is trial 75 with value: 0.964835164835165.\n",
      "[I 2025-10-07 22:24:50,745] Trial 81 finished with value: 0.964835164835165 and parameters: {'n_estimators': 131, 'max_depth': 37, 'min_samples_split': 4, 'min_samples_leaf': 4, 'max_features': 'sqrt', 'bootstrap': False}. Best is trial 75 with value: 0.964835164835165.\n",
      "[I 2025-10-07 22:24:52,856] Trial 82 finished with value: 0.9626373626373628 and parameters: {'n_estimators': 130, 'max_depth': 37, 'min_samples_split': 3, 'min_samples_leaf': 5, 'max_features': 'sqrt', 'bootstrap': False}. Best is trial 75 with value: 0.964835164835165.\n",
      "[I 2025-10-07 22:24:54,555] Trial 83 finished with value: 0.964835164835165 and parameters: {'n_estimators': 116, 'max_depth': 42, 'min_samples_split': 5, 'min_samples_leaf': 4, 'max_features': 'sqrt', 'bootstrap': False}. Best is trial 75 with value: 0.964835164835165.\n",
      "[I 2025-10-07 22:24:56,828] Trial 84 finished with value: 0.9604395604395606 and parameters: {'n_estimators': 115, 'max_depth': 42, 'min_samples_split': 9, 'min_samples_leaf': 4, 'max_features': 'sqrt', 'bootstrap': False}. Best is trial 75 with value: 0.964835164835165.\n",
      "[I 2025-10-07 22:24:58,289] Trial 85 finished with value: 0.964835164835165 and parameters: {'n_estimators': 128, 'max_depth': 35, 'min_samples_split': 4, 'min_samples_leaf': 5, 'max_features': 'sqrt', 'bootstrap': False}. Best is trial 75 with value: 0.964835164835165.\n",
      "[I 2025-10-07 22:24:59,889] Trial 86 finished with value: 0.9516483516483516 and parameters: {'n_estimators': 134, 'max_depth': 40, 'min_samples_split': 4, 'min_samples_leaf': 5, 'max_features': 'sqrt', 'bootstrap': True}. Best is trial 75 with value: 0.964835164835165.\n",
      "[I 2025-10-07 22:25:01,403] Trial 87 finished with value: 0.9604395604395606 and parameters: {'n_estimators': 117, 'max_depth': 35, 'min_samples_split': 2, 'min_samples_leaf': 6, 'max_features': 'sqrt', 'bootstrap': False}. Best is trial 75 with value: 0.964835164835165.\n",
      "[I 2025-10-07 22:25:03,097] Trial 88 finished with value: 0.9626373626373628 and parameters: {'n_estimators': 158, 'max_depth': 43, 'min_samples_split': 6, 'min_samples_leaf': 5, 'max_features': 'sqrt', 'bootstrap': False}. Best is trial 75 with value: 0.964835164835165.\n",
      "[I 2025-10-07 22:25:04,030] Trial 89 finished with value: 0.9604395604395606 and parameters: {'n_estimators': 101, 'max_depth': 33, 'min_samples_split': 3, 'min_samples_leaf': 3, 'max_features': 'log2', 'bootstrap': False}. Best is trial 75 with value: 0.964835164835165.\n",
      "[I 2025-10-07 22:25:05,442] Trial 90 finished with value: 0.9604395604395606 and parameters: {'n_estimators': 126, 'max_depth': 31, 'min_samples_split': 8, 'min_samples_leaf': 2, 'max_features': 'sqrt', 'bootstrap': False}. Best is trial 75 with value: 0.964835164835165.\n",
      "[I 2025-10-07 22:25:07,975] Trial 91 finished with value: 0.9626373626373628 and parameters: {'n_estimators': 172, 'max_depth': 40, 'min_samples_split': 5, 'min_samples_leaf': 4, 'max_features': 'sqrt', 'bootstrap': False}. Best is trial 75 with value: 0.964835164835165.\n",
      "[I 2025-10-07 22:25:10,148] Trial 92 finished with value: 0.9626373626373628 and parameters: {'n_estimators': 155, 'max_depth': 36, 'min_samples_split': 6, 'min_samples_leaf': 4, 'max_features': 'sqrt', 'bootstrap': False}. Best is trial 75 with value: 0.964835164835165.\n",
      "[I 2025-10-07 22:25:12,713] Trial 93 finished with value: 0.9626373626373628 and parameters: {'n_estimators': 188, 'max_depth': 39, 'min_samples_split': 4, 'min_samples_leaf': 4, 'max_features': 'sqrt', 'bootstrap': False}. Best is trial 75 with value: 0.964835164835165.\n",
      "[I 2025-10-07 22:25:14,131] Trial 94 finished with value: 0.9604395604395606 and parameters: {'n_estimators': 112, 'max_depth': 37, 'min_samples_split': 5, 'min_samples_leaf': 5, 'max_features': 'sqrt', 'bootstrap': False}. Best is trial 75 with value: 0.964835164835165.\n",
      "[I 2025-10-07 22:25:15,754] Trial 95 finished with value: 0.9604395604395606 and parameters: {'n_estimators': 135, 'max_depth': 42, 'min_samples_split': 7, 'min_samples_leaf': 3, 'max_features': 'sqrt', 'bootstrap': False}. Best is trial 75 with value: 0.964835164835165.\n",
      "[I 2025-10-07 22:25:19,347] Trial 96 finished with value: 0.9626373626373628 and parameters: {'n_estimators': 248, 'max_depth': 32, 'min_samples_split': 4, 'min_samples_leaf': 5, 'max_features': 'sqrt', 'bootstrap': False}. Best is trial 75 with value: 0.964835164835165.\n",
      "[I 2025-10-07 22:25:20,923] Trial 97 finished with value: 0.964835164835165 and parameters: {'n_estimators': 126, 'max_depth': 35, 'min_samples_split': 6, 'min_samples_leaf': 4, 'max_features': 'sqrt', 'bootstrap': False}. Best is trial 75 with value: 0.964835164835165.\n",
      "[I 2025-10-07 22:25:24,618] Trial 98 finished with value: 0.9296703296703296 and parameters: {'n_estimators': 125, 'max_depth': 34, 'min_samples_split': 6, 'min_samples_leaf': 6, 'max_features': None, 'bootstrap': False}. Best is trial 75 with value: 0.964835164835165.\n",
      "[I 2025-10-07 22:25:25,630] Trial 99 finished with value: 0.9582417582417584 and parameters: {'n_estimators': 108, 'max_depth': 35, 'min_samples_split': 3, 'min_samples_leaf': 4, 'max_features': 'sqrt', 'bootstrap': True}. Best is trial 75 with value: 0.964835164835165.\n",
      "\n",
      "Optimization complete!\n"
     ]
    }
   ],
   "source": [
    "# Create Optuna study\n",
    "study_rf = optuna.create_study(\n",
    "    direction='maximize',           # Maximize accuracy\n",
    "    study_name='Random Forest Tuning',\n",
    "    sampler=optuna.samplers.TPESampler(seed=42)  # Tree-structured Parzen Estimator\n",
    ")\n",
    "\n",
    "# Optimize\n",
    "print(\"Starting Optuna optimization...\\n\")\n",
    "study_rf.optimize(\n",
    "    objective_rf,\n",
    "    n_trials=100,                   # Number of trials\n",
    "    show_progress_bar=True\n",
    ")\n",
    "\n",
    "print(\"\\nOptimization complete!\")"
   ]
  },
  {
   "cell_type": "code",
   "execution_count": 44,
   "metadata": {},
   "outputs": [
    {
     "name": "stdout",
     "output_type": "stream",
     "text": [
      "============================================================\n",
      "\t\t\tOPTUNA RESULTS\n",
      "============================================================\n",
      "\n",
      "Best Parameters:\n",
      "  n_estimators: 119\n",
      "  max_depth: 35\n",
      "  min_samples_split: 4\n",
      "  min_samples_leaf: 5\n",
      "  max_features: sqrt\n",
      "  bootstrap: False\n",
      "\n",
      "Best Cross-Validation Score: 0.9648\n",
      "Number of trials: 100\n",
      "\n",
      "Test Set Accuracy: 0.9561\n",
      "Improvement over baseline: 0.00%\n"
     ]
    }
   ],
   "source": [
    "# Best parameters and score\n",
    "print(\"=\" * 60)\n",
    "print(\"\\t\\t\\tOPTUNA RESULTS\")\n",
    "print(\"=\" * 60)\n",
    "print(f\"\\nBest Parameters:\")\n",
    "for param, value in study_rf.best_params.items():\n",
    "    print(f\"  {param}: {value}\")\n",
    "\n",
    "print(f\"\\nBest Cross-Validation Score: {study_rf.best_value:.4f}\")\n",
    "print(f\"Number of trials: {len(study_rf.trials)}\")\n",
    "\n",
    "# Train final model with best parameters\n",
    "best_rf = RandomForestClassifier(**study_rf.best_params)\n",
    "best_rf.fit(X_train, y_train)\n",
    "\n",
    "# Test on held-out test set\n",
    "y_pred_optuna = best_rf.predict(X_test)\n",
    "optuna_accuracy = accuracy_score(y_test, y_pred_optuna)\n",
    "print(f\"\\nTest Set Accuracy: {optuna_accuracy:.4f}\")\n",
    "print(f\"Improvement over baseline: {(optuna_accuracy - baseline_accuracy)*100:.2f}%\")\n",
    "\n",
    "results['Optuna (RF)'] = optuna_accuracy"
   ]
  },
  {
   "cell_type": "code",
   "execution_count": 21,
   "metadata": {},
   "outputs": [
    {
     "data": {
      "application/vnd.plotly.v1+json": {
       "config": {
        "plotlyServerURL": "https://plot.ly"
       },
       "data": [
        {
         "mode": "markers",
         "name": "Objective Value",
         "type": "scatter",
         "x": [
          0,
          1,
          2,
          3,
          4,
          5,
          6,
          7,
          8,
          9,
          10,
          11,
          12,
          13,
          14,
          15,
          16,
          17,
          18,
          19,
          20,
          21,
          22,
          23,
          24,
          25,
          26,
          27,
          28,
          29,
          30,
          31,
          32,
          33,
          34,
          35,
          36,
          37,
          38,
          39,
          40,
          41,
          42,
          43,
          44,
          45,
          46,
          47,
          48,
          49,
          50,
          51,
          52,
          53,
          54,
          55,
          56,
          57,
          58,
          59,
          60,
          61,
          62,
          63,
          64,
          65,
          66,
          67,
          68,
          69,
          70,
          71,
          72,
          73,
          74,
          75,
          76,
          77,
          78,
          79,
          80,
          81,
          82,
          83,
          84,
          85,
          86,
          87,
          88,
          89,
          90,
          91,
          92,
          93,
          94,
          95,
          96,
          97,
          98,
          99
         ],
         "y": [
          0.9516483516483516,
          0.9582417582417584,
          0.9538461538461538,
          0.9538461538461538,
          0.9538461538461538,
          0.9538461538461538,
          0.9318681318681318,
          0.9538461538461538,
          0.9582417582417584,
          0.9560439560439562,
          0.9582417582417584,
          0.9582417582417584,
          0.9582417582417584,
          0.9582417582417584,
          0.9582417582417584,
          0.9560439560439562,
          0.956043956043956,
          0.9582417582417584,
          0.9582417582417584,
          0.9560439560439562,
          0.9582417582417584,
          0.9582417582417584,
          0.9582417582417584,
          0.9582417582417584,
          0.9582417582417584,
          0.9582417582417584,
          0.9582417582417584,
          0.9582417582417584,
          0.923076923076923,
          0.9582417582417584,
          0.9582417582417584,
          0.9582417582417584,
          0.9582417582417584,
          0.9582417582417584,
          0.9538461538461538,
          0.9516483516483516,
          0.9582417582417584,
          0.9516483516483516,
          0.9274725274725274,
          0.9582417582417584,
          0.9538461538461538,
          0.9582417582417584,
          0.9582417582417584,
          0.9582417582417584,
          0.9582417582417584,
          0.9582417582417584,
          0.9208791208791208,
          0.9582417582417584,
          0.9538461538461538,
          0.956043956043956,
          0.9582417582417584,
          0.9582417582417584,
          0.9582417582417584,
          0.956043956043956,
          0.9582417582417584,
          0.9582417582417584,
          0.956043956043956,
          0.9582417582417584,
          0.9582417582417584,
          0.9274725274725274,
          0.9626373626373628,
          0.9626373626373628,
          0.9626373626373628,
          0.9626373626373628,
          0.9626373626373628,
          0.9626373626373628,
          0.9626373626373628,
          0.9626373626373628,
          0.9582417582417582,
          0.9626373626373628,
          0.9560439560439562,
          0.9626373626373628,
          0.9626373626373628,
          0.9626373626373628,
          0.9582417582417582,
          0.964835164835165,
          0.9604395604395606,
          0.9626373626373628,
          0.964835164835165,
          0.9626373626373628,
          0.9340659340659341,
          0.964835164835165,
          0.9626373626373628,
          0.964835164835165,
          0.9604395604395606,
          0.964835164835165,
          0.9516483516483516,
          0.9604395604395606,
          0.9626373626373628,
          0.9604395604395606,
          0.9604395604395606,
          0.9626373626373628,
          0.9626373626373628,
          0.9626373626373628,
          0.9604395604395606,
          0.9604395604395606,
          0.9626373626373628,
          0.964835164835165,
          0.9296703296703296,
          0.9582417582417584
         ]
        },
        {
         "mode": "lines",
         "name": "Best Value",
         "type": "scatter",
         "x": [
          0,
          1,
          2,
          3,
          4,
          5,
          6,
          7,
          8,
          9,
          10,
          11,
          12,
          13,
          14,
          15,
          16,
          17,
          18,
          19,
          20,
          21,
          22,
          23,
          24,
          25,
          26,
          27,
          28,
          29,
          30,
          31,
          32,
          33,
          34,
          35,
          36,
          37,
          38,
          39,
          40,
          41,
          42,
          43,
          44,
          45,
          46,
          47,
          48,
          49,
          50,
          51,
          52,
          53,
          54,
          55,
          56,
          57,
          58,
          59,
          60,
          61,
          62,
          63,
          64,
          65,
          66,
          67,
          68,
          69,
          70,
          71,
          72,
          73,
          74,
          75,
          76,
          77,
          78,
          79,
          80,
          81,
          82,
          83,
          84,
          85,
          86,
          87,
          88,
          89,
          90,
          91,
          92,
          93,
          94,
          95,
          96,
          97,
          98,
          99
         ],
         "y": [
          0.9516483516483516,
          0.9582417582417584,
          0.9582417582417584,
          0.9582417582417584,
          0.9582417582417584,
          0.9582417582417584,
          0.9582417582417584,
          0.9582417582417584,
          0.9582417582417584,
          0.9582417582417584,
          0.9582417582417584,
          0.9582417582417584,
          0.9582417582417584,
          0.9582417582417584,
          0.9582417582417584,
          0.9582417582417584,
          0.9582417582417584,
          0.9582417582417584,
          0.9582417582417584,
          0.9582417582417584,
          0.9582417582417584,
          0.9582417582417584,
          0.9582417582417584,
          0.9582417582417584,
          0.9582417582417584,
          0.9582417582417584,
          0.9582417582417584,
          0.9582417582417584,
          0.9582417582417584,
          0.9582417582417584,
          0.9582417582417584,
          0.9582417582417584,
          0.9582417582417584,
          0.9582417582417584,
          0.9582417582417584,
          0.9582417582417584,
          0.9582417582417584,
          0.9582417582417584,
          0.9582417582417584,
          0.9582417582417584,
          0.9582417582417584,
          0.9582417582417584,
          0.9582417582417584,
          0.9582417582417584,
          0.9582417582417584,
          0.9582417582417584,
          0.9582417582417584,
          0.9582417582417584,
          0.9582417582417584,
          0.9582417582417584,
          0.9582417582417584,
          0.9582417582417584,
          0.9582417582417584,
          0.9582417582417584,
          0.9582417582417584,
          0.9582417582417584,
          0.9582417582417584,
          0.9582417582417584,
          0.9582417582417584,
          0.9582417582417584,
          0.9626373626373628,
          0.9626373626373628,
          0.9626373626373628,
          0.9626373626373628,
          0.9626373626373628,
          0.9626373626373628,
          0.9626373626373628,
          0.9626373626373628,
          0.9626373626373628,
          0.9626373626373628,
          0.9626373626373628,
          0.9626373626373628,
          0.9626373626373628,
          0.9626373626373628,
          0.9626373626373628,
          0.964835164835165,
          0.964835164835165,
          0.964835164835165,
          0.964835164835165,
          0.964835164835165,
          0.964835164835165,
          0.964835164835165,
          0.964835164835165,
          0.964835164835165,
          0.964835164835165,
          0.964835164835165,
          0.964835164835165,
          0.964835164835165,
          0.964835164835165,
          0.964835164835165,
          0.964835164835165,
          0.964835164835165,
          0.964835164835165,
          0.964835164835165,
          0.964835164835165,
          0.964835164835165,
          0.964835164835165,
          0.964835164835165,
          0.964835164835165,
          0.964835164835165
         ]
        },
        {
         "marker": {
          "color": "#cccccc"
         },
         "mode": "markers",
         "name": "Infeasible Trial",
         "showlegend": false,
         "type": "scatter",
         "x": [],
         "y": []
        }
       ],
       "layout": {
        "template": {
         "data": {
          "bar": [
           {
            "error_x": {
             "color": "#2a3f5f"
            },
            "error_y": {
             "color": "#2a3f5f"
            },
            "marker": {
             "line": {
              "color": "#E5ECF6",
              "width": 0.5
             },
             "pattern": {
              "fillmode": "overlay",
              "size": 10,
              "solidity": 0.2
             }
            },
            "type": "bar"
           }
          ],
          "barpolar": [
           {
            "marker": {
             "line": {
              "color": "#E5ECF6",
              "width": 0.5
             },
             "pattern": {
              "fillmode": "overlay",
              "size": 10,
              "solidity": 0.2
             }
            },
            "type": "barpolar"
           }
          ],
          "carpet": [
           {
            "aaxis": {
             "endlinecolor": "#2a3f5f",
             "gridcolor": "white",
             "linecolor": "white",
             "minorgridcolor": "white",
             "startlinecolor": "#2a3f5f"
            },
            "baxis": {
             "endlinecolor": "#2a3f5f",
             "gridcolor": "white",
             "linecolor": "white",
             "minorgridcolor": "white",
             "startlinecolor": "#2a3f5f"
            },
            "type": "carpet"
           }
          ],
          "choropleth": [
           {
            "colorbar": {
             "outlinewidth": 0,
             "ticks": ""
            },
            "type": "choropleth"
           }
          ],
          "contour": [
           {
            "colorbar": {
             "outlinewidth": 0,
             "ticks": ""
            },
            "colorscale": [
             [
              0,
              "#0d0887"
             ],
             [
              0.1111111111111111,
              "#46039f"
             ],
             [
              0.2222222222222222,
              "#7201a8"
             ],
             [
              0.3333333333333333,
              "#9c179e"
             ],
             [
              0.4444444444444444,
              "#bd3786"
             ],
             [
              0.5555555555555556,
              "#d8576b"
             ],
             [
              0.6666666666666666,
              "#ed7953"
             ],
             [
              0.7777777777777778,
              "#fb9f3a"
             ],
             [
              0.8888888888888888,
              "#fdca26"
             ],
             [
              1,
              "#f0f921"
             ]
            ],
            "type": "contour"
           }
          ],
          "contourcarpet": [
           {
            "colorbar": {
             "outlinewidth": 0,
             "ticks": ""
            },
            "type": "contourcarpet"
           }
          ],
          "heatmap": [
           {
            "colorbar": {
             "outlinewidth": 0,
             "ticks": ""
            },
            "colorscale": [
             [
              0,
              "#0d0887"
             ],
             [
              0.1111111111111111,
              "#46039f"
             ],
             [
              0.2222222222222222,
              "#7201a8"
             ],
             [
              0.3333333333333333,
              "#9c179e"
             ],
             [
              0.4444444444444444,
              "#bd3786"
             ],
             [
              0.5555555555555556,
              "#d8576b"
             ],
             [
              0.6666666666666666,
              "#ed7953"
             ],
             [
              0.7777777777777778,
              "#fb9f3a"
             ],
             [
              0.8888888888888888,
              "#fdca26"
             ],
             [
              1,
              "#f0f921"
             ]
            ],
            "type": "heatmap"
           }
          ],
          "heatmapgl": [
           {
            "colorbar": {
             "outlinewidth": 0,
             "ticks": ""
            },
            "colorscale": [
             [
              0,
              "#0d0887"
             ],
             [
              0.1111111111111111,
              "#46039f"
             ],
             [
              0.2222222222222222,
              "#7201a8"
             ],
             [
              0.3333333333333333,
              "#9c179e"
             ],
             [
              0.4444444444444444,
              "#bd3786"
             ],
             [
              0.5555555555555556,
              "#d8576b"
             ],
             [
              0.6666666666666666,
              "#ed7953"
             ],
             [
              0.7777777777777778,
              "#fb9f3a"
             ],
             [
              0.8888888888888888,
              "#fdca26"
             ],
             [
              1,
              "#f0f921"
             ]
            ],
            "type": "heatmapgl"
           }
          ],
          "histogram": [
           {
            "marker": {
             "pattern": {
              "fillmode": "overlay",
              "size": 10,
              "solidity": 0.2
             }
            },
            "type": "histogram"
           }
          ],
          "histogram2d": [
           {
            "colorbar": {
             "outlinewidth": 0,
             "ticks": ""
            },
            "colorscale": [
             [
              0,
              "#0d0887"
             ],
             [
              0.1111111111111111,
              "#46039f"
             ],
             [
              0.2222222222222222,
              "#7201a8"
             ],
             [
              0.3333333333333333,
              "#9c179e"
             ],
             [
              0.4444444444444444,
              "#bd3786"
             ],
             [
              0.5555555555555556,
              "#d8576b"
             ],
             [
              0.6666666666666666,
              "#ed7953"
             ],
             [
              0.7777777777777778,
              "#fb9f3a"
             ],
             [
              0.8888888888888888,
              "#fdca26"
             ],
             [
              1,
              "#f0f921"
             ]
            ],
            "type": "histogram2d"
           }
          ],
          "histogram2dcontour": [
           {
            "colorbar": {
             "outlinewidth": 0,
             "ticks": ""
            },
            "colorscale": [
             [
              0,
              "#0d0887"
             ],
             [
              0.1111111111111111,
              "#46039f"
             ],
             [
              0.2222222222222222,
              "#7201a8"
             ],
             [
              0.3333333333333333,
              "#9c179e"
             ],
             [
              0.4444444444444444,
              "#bd3786"
             ],
             [
              0.5555555555555556,
              "#d8576b"
             ],
             [
              0.6666666666666666,
              "#ed7953"
             ],
             [
              0.7777777777777778,
              "#fb9f3a"
             ],
             [
              0.8888888888888888,
              "#fdca26"
             ],
             [
              1,
              "#f0f921"
             ]
            ],
            "type": "histogram2dcontour"
           }
          ],
          "mesh3d": [
           {
            "colorbar": {
             "outlinewidth": 0,
             "ticks": ""
            },
            "type": "mesh3d"
           }
          ],
          "parcoords": [
           {
            "line": {
             "colorbar": {
              "outlinewidth": 0,
              "ticks": ""
             }
            },
            "type": "parcoords"
           }
          ],
          "pie": [
           {
            "automargin": true,
            "type": "pie"
           }
          ],
          "scatter": [
           {
            "fillpattern": {
             "fillmode": "overlay",
             "size": 10,
             "solidity": 0.2
            },
            "type": "scatter"
           }
          ],
          "scatter3d": [
           {
            "line": {
             "colorbar": {
              "outlinewidth": 0,
              "ticks": ""
             }
            },
            "marker": {
             "colorbar": {
              "outlinewidth": 0,
              "ticks": ""
             }
            },
            "type": "scatter3d"
           }
          ],
          "scattercarpet": [
           {
            "marker": {
             "colorbar": {
              "outlinewidth": 0,
              "ticks": ""
             }
            },
            "type": "scattercarpet"
           }
          ],
          "scattergeo": [
           {
            "marker": {
             "colorbar": {
              "outlinewidth": 0,
              "ticks": ""
             }
            },
            "type": "scattergeo"
           }
          ],
          "scattergl": [
           {
            "marker": {
             "colorbar": {
              "outlinewidth": 0,
              "ticks": ""
             }
            },
            "type": "scattergl"
           }
          ],
          "scattermapbox": [
           {
            "marker": {
             "colorbar": {
              "outlinewidth": 0,
              "ticks": ""
             }
            },
            "type": "scattermapbox"
           }
          ],
          "scatterpolar": [
           {
            "marker": {
             "colorbar": {
              "outlinewidth": 0,
              "ticks": ""
             }
            },
            "type": "scatterpolar"
           }
          ],
          "scatterpolargl": [
           {
            "marker": {
             "colorbar": {
              "outlinewidth": 0,
              "ticks": ""
             }
            },
            "type": "scatterpolargl"
           }
          ],
          "scatterternary": [
           {
            "marker": {
             "colorbar": {
              "outlinewidth": 0,
              "ticks": ""
             }
            },
            "type": "scatterternary"
           }
          ],
          "surface": [
           {
            "colorbar": {
             "outlinewidth": 0,
             "ticks": ""
            },
            "colorscale": [
             [
              0,
              "#0d0887"
             ],
             [
              0.1111111111111111,
              "#46039f"
             ],
             [
              0.2222222222222222,
              "#7201a8"
             ],
             [
              0.3333333333333333,
              "#9c179e"
             ],
             [
              0.4444444444444444,
              "#bd3786"
             ],
             [
              0.5555555555555556,
              "#d8576b"
             ],
             [
              0.6666666666666666,
              "#ed7953"
             ],
             [
              0.7777777777777778,
              "#fb9f3a"
             ],
             [
              0.8888888888888888,
              "#fdca26"
             ],
             [
              1,
              "#f0f921"
             ]
            ],
            "type": "surface"
           }
          ],
          "table": [
           {
            "cells": {
             "fill": {
              "color": "#EBF0F8"
             },
             "line": {
              "color": "white"
             }
            },
            "header": {
             "fill": {
              "color": "#C8D4E3"
             },
             "line": {
              "color": "white"
             }
            },
            "type": "table"
           }
          ]
         },
         "layout": {
          "annotationdefaults": {
           "arrowcolor": "#2a3f5f",
           "arrowhead": 0,
           "arrowwidth": 1
          },
          "autotypenumbers": "strict",
          "coloraxis": {
           "colorbar": {
            "outlinewidth": 0,
            "ticks": ""
           }
          },
          "colorscale": {
           "diverging": [
            [
             0,
             "#8e0152"
            ],
            [
             0.1,
             "#c51b7d"
            ],
            [
             0.2,
             "#de77ae"
            ],
            [
             0.3,
             "#f1b6da"
            ],
            [
             0.4,
             "#fde0ef"
            ],
            [
             0.5,
             "#f7f7f7"
            ],
            [
             0.6,
             "#e6f5d0"
            ],
            [
             0.7,
             "#b8e186"
            ],
            [
             0.8,
             "#7fbc41"
            ],
            [
             0.9,
             "#4d9221"
            ],
            [
             1,
             "#276419"
            ]
           ],
           "sequential": [
            [
             0,
             "#0d0887"
            ],
            [
             0.1111111111111111,
             "#46039f"
            ],
            [
             0.2222222222222222,
             "#7201a8"
            ],
            [
             0.3333333333333333,
             "#9c179e"
            ],
            [
             0.4444444444444444,
             "#bd3786"
            ],
            [
             0.5555555555555556,
             "#d8576b"
            ],
            [
             0.6666666666666666,
             "#ed7953"
            ],
            [
             0.7777777777777778,
             "#fb9f3a"
            ],
            [
             0.8888888888888888,
             "#fdca26"
            ],
            [
             1,
             "#f0f921"
            ]
           ],
           "sequentialminus": [
            [
             0,
             "#0d0887"
            ],
            [
             0.1111111111111111,
             "#46039f"
            ],
            [
             0.2222222222222222,
             "#7201a8"
            ],
            [
             0.3333333333333333,
             "#9c179e"
            ],
            [
             0.4444444444444444,
             "#bd3786"
            ],
            [
             0.5555555555555556,
             "#d8576b"
            ],
            [
             0.6666666666666666,
             "#ed7953"
            ],
            [
             0.7777777777777778,
             "#fb9f3a"
            ],
            [
             0.8888888888888888,
             "#fdca26"
            ],
            [
             1,
             "#f0f921"
            ]
           ]
          },
          "colorway": [
           "#636efa",
           "#EF553B",
           "#00cc96",
           "#ab63fa",
           "#FFA15A",
           "#19d3f3",
           "#FF6692",
           "#B6E880",
           "#FF97FF",
           "#FECB52"
          ],
          "font": {
           "color": "#2a3f5f"
          },
          "geo": {
           "bgcolor": "white",
           "lakecolor": "white",
           "landcolor": "#E5ECF6",
           "showlakes": true,
           "showland": true,
           "subunitcolor": "white"
          },
          "hoverlabel": {
           "align": "left"
          },
          "hovermode": "closest",
          "mapbox": {
           "style": "light"
          },
          "paper_bgcolor": "white",
          "plot_bgcolor": "#E5ECF6",
          "polar": {
           "angularaxis": {
            "gridcolor": "white",
            "linecolor": "white",
            "ticks": ""
           },
           "bgcolor": "#E5ECF6",
           "radialaxis": {
            "gridcolor": "white",
            "linecolor": "white",
            "ticks": ""
           }
          },
          "scene": {
           "xaxis": {
            "backgroundcolor": "#E5ECF6",
            "gridcolor": "white",
            "gridwidth": 2,
            "linecolor": "white",
            "showbackground": true,
            "ticks": "",
            "zerolinecolor": "white"
           },
           "yaxis": {
            "backgroundcolor": "#E5ECF6",
            "gridcolor": "white",
            "gridwidth": 2,
            "linecolor": "white",
            "showbackground": true,
            "ticks": "",
            "zerolinecolor": "white"
           },
           "zaxis": {
            "backgroundcolor": "#E5ECF6",
            "gridcolor": "white",
            "gridwidth": 2,
            "linecolor": "white",
            "showbackground": true,
            "ticks": "",
            "zerolinecolor": "white"
           }
          },
          "shapedefaults": {
           "line": {
            "color": "#2a3f5f"
           }
          },
          "ternary": {
           "aaxis": {
            "gridcolor": "white",
            "linecolor": "white",
            "ticks": ""
           },
           "baxis": {
            "gridcolor": "white",
            "linecolor": "white",
            "ticks": ""
           },
           "bgcolor": "#E5ECF6",
           "caxis": {
            "gridcolor": "white",
            "linecolor": "white",
            "ticks": ""
           }
          },
          "title": {
           "x": 0.05
          },
          "xaxis": {
           "automargin": true,
           "gridcolor": "white",
           "linecolor": "white",
           "ticks": "",
           "title": {
            "standoff": 15
           },
           "zerolinecolor": "white",
           "zerolinewidth": 2
          },
          "yaxis": {
           "automargin": true,
           "gridcolor": "white",
           "linecolor": "white",
           "ticks": "",
           "title": {
            "standoff": 15
           },
           "zerolinecolor": "white",
           "zerolinewidth": 2
          }
         }
        },
        "title": {
         "text": "Optuna Optimization History - Random Forest"
        },
        "xaxis": {
         "title": {
          "text": "Trial"
         }
        },
        "yaxis": {
         "title": {
          "text": "Objective Value"
         }
        }
       }
      }
     },
     "metadata": {},
     "output_type": "display_data"
    }
   ],
   "source": [
    "# Visualize optimization history\n",
    "fig = optuna.visualization.plot_optimization_history(study_rf)\n",
    "fig.update_layout(title='Optuna Optimization History - Random Forest')\n",
    "fig.show()"
   ]
  },
  {
   "cell_type": "markdown",
   "metadata": {},
   "source": [
    "### Have you looked at this chart? What insights does it reveal about Optuna’s tuning journey?\n",
    "\n",
    "Take a good look at this chart! It's showing us how Optuna, our smart hyperparameter tuner, worked its magic to find the best settings for our Random Forest model.\n",
    "\n",
    "**What You're Seeing:**\n",
    "\n",
    "1. **Blue Dots (Objective Value):** Each blue dot is the performance score (Objective Value) of our model for a *single* set of hyperparameters that Optuna tried. You can see Optuna tried many different combinations, and some worked better than others!\n",
    "\n",
    "2. **Orange Line (Best Value):** This is the superstar line! It tracks the *absolute best score* Optuna has found *up to that point* in the trials. Notice how it only goes up or stays flat? That's because it's always remembering the highest score achieved so far.\n",
    "\n",
    "**Key Observations:**\n",
    "\n",
    "- **Quick Start:** Right at the beginning (around Trial 0-5), the orange line jumps up quickly. This means Optuna found some pretty good settings very early on!\n",
    "\n",
    "- **Smart Jumps:** See how the orange line makes a big leap around Trial 60? That's Optuna discovering a significantly better set of hyperparameters! It didn't just randomly stumble upon it; it used what it learned from previous trials to make an educated guess.\n",
    "\n",
    "- **Continuous Improvement:** Over the 100 trials, the \"Best Value\" (orange line) steadily climbed from around 0.952 to over 0.96. This shows that Optuna was successfully improving our model's performance.\n",
    "\n",
    "- **Exploration in Action:** Even when the orange line is flat, you still see blue dots scattered around, some high, some low. This is Optuna continuing to explore different parts of the hyperparameter space, trying new combinations to see if it can find an even better one.\n",
    "\n",
    "**Why This Matters:**\n",
    "\n",
    "- **Efficiency:** This chart visually proves that Optuna is not just guessing randomly. It's intelligently exploring the possibilities, leading to better results over time.\n",
    "\n",
    "- **Finding the Peak:** The rising orange line confirms that our tuning process is effectively pushing the model towards its optimal performance.\n",
    "\n",
    "- **Knowing When to Stop:** If the orange line flattens out completely and stays flat for many trials, it might suggest that Optuna has explored the most promising areas, and continuing for many more trials might not yield significant improvements."
   ]
  },
  {
   "cell_type": "code",
   "execution_count": 49,
   "metadata": {},
   "outputs": [
    {
     "data": {
      "application/vnd.plotly.v1+json": {
       "config": {
        "plotlyServerURL": "https://plot.ly"
       },
       "data": [
        {
         "cliponaxis": false,
         "hovertemplate": [
          "max_depth (IntDistribution): 0.0017715036053559767<extra></extra>",
          "n_estimators (IntDistribution): 0.008470185099277298<extra></extra>",
          "min_samples_leaf (IntDistribution): 0.009553894592181962<extra></extra>",
          "min_samples_split (IntDistribution): 0.01094325442690918<extra></extra>",
          "bootstrap (CategoricalDistribution): 0.3170434417578005<extra></extra>",
          "max_features (CategoricalDistribution): 0.6522177205184752<extra></extra>"
         ],
         "name": "Objective Value",
         "orientation": "h",
         "text": [
          "<0.01",
          "<0.01",
          "<0.01",
          "0.01",
          "0.32",
          "0.65"
         ],
         "textposition": "outside",
         "type": "bar",
         "x": [
          0.0017715036053559767,
          0.008470185099277298,
          0.009553894592181962,
          0.01094325442690918,
          0.3170434417578005,
          0.6522177205184752
         ],
         "y": [
          "max_depth",
          "n_estimators",
          "min_samples_leaf",
          "min_samples_split",
          "bootstrap",
          "max_features"
         ]
        }
       ],
       "layout": {
        "template": {
         "data": {
          "bar": [
           {
            "error_x": {
             "color": "#2a3f5f"
            },
            "error_y": {
             "color": "#2a3f5f"
            },
            "marker": {
             "line": {
              "color": "#E5ECF6",
              "width": 0.5
             },
             "pattern": {
              "fillmode": "overlay",
              "size": 10,
              "solidity": 0.2
             }
            },
            "type": "bar"
           }
          ],
          "barpolar": [
           {
            "marker": {
             "line": {
              "color": "#E5ECF6",
              "width": 0.5
             },
             "pattern": {
              "fillmode": "overlay",
              "size": 10,
              "solidity": 0.2
             }
            },
            "type": "barpolar"
           }
          ],
          "carpet": [
           {
            "aaxis": {
             "endlinecolor": "#2a3f5f",
             "gridcolor": "white",
             "linecolor": "white",
             "minorgridcolor": "white",
             "startlinecolor": "#2a3f5f"
            },
            "baxis": {
             "endlinecolor": "#2a3f5f",
             "gridcolor": "white",
             "linecolor": "white",
             "minorgridcolor": "white",
             "startlinecolor": "#2a3f5f"
            },
            "type": "carpet"
           }
          ],
          "choropleth": [
           {
            "colorbar": {
             "outlinewidth": 0,
             "ticks": ""
            },
            "type": "choropleth"
           }
          ],
          "contour": [
           {
            "colorbar": {
             "outlinewidth": 0,
             "ticks": ""
            },
            "colorscale": [
             [
              0,
              "#0d0887"
             ],
             [
              0.1111111111111111,
              "#46039f"
             ],
             [
              0.2222222222222222,
              "#7201a8"
             ],
             [
              0.3333333333333333,
              "#9c179e"
             ],
             [
              0.4444444444444444,
              "#bd3786"
             ],
             [
              0.5555555555555556,
              "#d8576b"
             ],
             [
              0.6666666666666666,
              "#ed7953"
             ],
             [
              0.7777777777777778,
              "#fb9f3a"
             ],
             [
              0.8888888888888888,
              "#fdca26"
             ],
             [
              1,
              "#f0f921"
             ]
            ],
            "type": "contour"
           }
          ],
          "contourcarpet": [
           {
            "colorbar": {
             "outlinewidth": 0,
             "ticks": ""
            },
            "type": "contourcarpet"
           }
          ],
          "heatmap": [
           {
            "colorbar": {
             "outlinewidth": 0,
             "ticks": ""
            },
            "colorscale": [
             [
              0,
              "#0d0887"
             ],
             [
              0.1111111111111111,
              "#46039f"
             ],
             [
              0.2222222222222222,
              "#7201a8"
             ],
             [
              0.3333333333333333,
              "#9c179e"
             ],
             [
              0.4444444444444444,
              "#bd3786"
             ],
             [
              0.5555555555555556,
              "#d8576b"
             ],
             [
              0.6666666666666666,
              "#ed7953"
             ],
             [
              0.7777777777777778,
              "#fb9f3a"
             ],
             [
              0.8888888888888888,
              "#fdca26"
             ],
             [
              1,
              "#f0f921"
             ]
            ],
            "type": "heatmap"
           }
          ],
          "heatmapgl": [
           {
            "colorbar": {
             "outlinewidth": 0,
             "ticks": ""
            },
            "colorscale": [
             [
              0,
              "#0d0887"
             ],
             [
              0.1111111111111111,
              "#46039f"
             ],
             [
              0.2222222222222222,
              "#7201a8"
             ],
             [
              0.3333333333333333,
              "#9c179e"
             ],
             [
              0.4444444444444444,
              "#bd3786"
             ],
             [
              0.5555555555555556,
              "#d8576b"
             ],
             [
              0.6666666666666666,
              "#ed7953"
             ],
             [
              0.7777777777777778,
              "#fb9f3a"
             ],
             [
              0.8888888888888888,
              "#fdca26"
             ],
             [
              1,
              "#f0f921"
             ]
            ],
            "type": "heatmapgl"
           }
          ],
          "histogram": [
           {
            "marker": {
             "pattern": {
              "fillmode": "overlay",
              "size": 10,
              "solidity": 0.2
             }
            },
            "type": "histogram"
           }
          ],
          "histogram2d": [
           {
            "colorbar": {
             "outlinewidth": 0,
             "ticks": ""
            },
            "colorscale": [
             [
              0,
              "#0d0887"
             ],
             [
              0.1111111111111111,
              "#46039f"
             ],
             [
              0.2222222222222222,
              "#7201a8"
             ],
             [
              0.3333333333333333,
              "#9c179e"
             ],
             [
              0.4444444444444444,
              "#bd3786"
             ],
             [
              0.5555555555555556,
              "#d8576b"
             ],
             [
              0.6666666666666666,
              "#ed7953"
             ],
             [
              0.7777777777777778,
              "#fb9f3a"
             ],
             [
              0.8888888888888888,
              "#fdca26"
             ],
             [
              1,
              "#f0f921"
             ]
            ],
            "type": "histogram2d"
           }
          ],
          "histogram2dcontour": [
           {
            "colorbar": {
             "outlinewidth": 0,
             "ticks": ""
            },
            "colorscale": [
             [
              0,
              "#0d0887"
             ],
             [
              0.1111111111111111,
              "#46039f"
             ],
             [
              0.2222222222222222,
              "#7201a8"
             ],
             [
              0.3333333333333333,
              "#9c179e"
             ],
             [
              0.4444444444444444,
              "#bd3786"
             ],
             [
              0.5555555555555556,
              "#d8576b"
             ],
             [
              0.6666666666666666,
              "#ed7953"
             ],
             [
              0.7777777777777778,
              "#fb9f3a"
             ],
             [
              0.8888888888888888,
              "#fdca26"
             ],
             [
              1,
              "#f0f921"
             ]
            ],
            "type": "histogram2dcontour"
           }
          ],
          "mesh3d": [
           {
            "colorbar": {
             "outlinewidth": 0,
             "ticks": ""
            },
            "type": "mesh3d"
           }
          ],
          "parcoords": [
           {
            "line": {
             "colorbar": {
              "outlinewidth": 0,
              "ticks": ""
             }
            },
            "type": "parcoords"
           }
          ],
          "pie": [
           {
            "automargin": true,
            "type": "pie"
           }
          ],
          "scatter": [
           {
            "fillpattern": {
             "fillmode": "overlay",
             "size": 10,
             "solidity": 0.2
            },
            "type": "scatter"
           }
          ],
          "scatter3d": [
           {
            "line": {
             "colorbar": {
              "outlinewidth": 0,
              "ticks": ""
             }
            },
            "marker": {
             "colorbar": {
              "outlinewidth": 0,
              "ticks": ""
             }
            },
            "type": "scatter3d"
           }
          ],
          "scattercarpet": [
           {
            "marker": {
             "colorbar": {
              "outlinewidth": 0,
              "ticks": ""
             }
            },
            "type": "scattercarpet"
           }
          ],
          "scattergeo": [
           {
            "marker": {
             "colorbar": {
              "outlinewidth": 0,
              "ticks": ""
             }
            },
            "type": "scattergeo"
           }
          ],
          "scattergl": [
           {
            "marker": {
             "colorbar": {
              "outlinewidth": 0,
              "ticks": ""
             }
            },
            "type": "scattergl"
           }
          ],
          "scattermapbox": [
           {
            "marker": {
             "colorbar": {
              "outlinewidth": 0,
              "ticks": ""
             }
            },
            "type": "scattermapbox"
           }
          ],
          "scatterpolar": [
           {
            "marker": {
             "colorbar": {
              "outlinewidth": 0,
              "ticks": ""
             }
            },
            "type": "scatterpolar"
           }
          ],
          "scatterpolargl": [
           {
            "marker": {
             "colorbar": {
              "outlinewidth": 0,
              "ticks": ""
             }
            },
            "type": "scatterpolargl"
           }
          ],
          "scatterternary": [
           {
            "marker": {
             "colorbar": {
              "outlinewidth": 0,
              "ticks": ""
             }
            },
            "type": "scatterternary"
           }
          ],
          "surface": [
           {
            "colorbar": {
             "outlinewidth": 0,
             "ticks": ""
            },
            "colorscale": [
             [
              0,
              "#0d0887"
             ],
             [
              0.1111111111111111,
              "#46039f"
             ],
             [
              0.2222222222222222,
              "#7201a8"
             ],
             [
              0.3333333333333333,
              "#9c179e"
             ],
             [
              0.4444444444444444,
              "#bd3786"
             ],
             [
              0.5555555555555556,
              "#d8576b"
             ],
             [
              0.6666666666666666,
              "#ed7953"
             ],
             [
              0.7777777777777778,
              "#fb9f3a"
             ],
             [
              0.8888888888888888,
              "#fdca26"
             ],
             [
              1,
              "#f0f921"
             ]
            ],
            "type": "surface"
           }
          ],
          "table": [
           {
            "cells": {
             "fill": {
              "color": "#EBF0F8"
             },
             "line": {
              "color": "white"
             }
            },
            "header": {
             "fill": {
              "color": "#C8D4E3"
             },
             "line": {
              "color": "white"
             }
            },
            "type": "table"
           }
          ]
         },
         "layout": {
          "annotationdefaults": {
           "arrowcolor": "#2a3f5f",
           "arrowhead": 0,
           "arrowwidth": 1
          },
          "autotypenumbers": "strict",
          "coloraxis": {
           "colorbar": {
            "outlinewidth": 0,
            "ticks": ""
           }
          },
          "colorscale": {
           "diverging": [
            [
             0,
             "#8e0152"
            ],
            [
             0.1,
             "#c51b7d"
            ],
            [
             0.2,
             "#de77ae"
            ],
            [
             0.3,
             "#f1b6da"
            ],
            [
             0.4,
             "#fde0ef"
            ],
            [
             0.5,
             "#f7f7f7"
            ],
            [
             0.6,
             "#e6f5d0"
            ],
            [
             0.7,
             "#b8e186"
            ],
            [
             0.8,
             "#7fbc41"
            ],
            [
             0.9,
             "#4d9221"
            ],
            [
             1,
             "#276419"
            ]
           ],
           "sequential": [
            [
             0,
             "#0d0887"
            ],
            [
             0.1111111111111111,
             "#46039f"
            ],
            [
             0.2222222222222222,
             "#7201a8"
            ],
            [
             0.3333333333333333,
             "#9c179e"
            ],
            [
             0.4444444444444444,
             "#bd3786"
            ],
            [
             0.5555555555555556,
             "#d8576b"
            ],
            [
             0.6666666666666666,
             "#ed7953"
            ],
            [
             0.7777777777777778,
             "#fb9f3a"
            ],
            [
             0.8888888888888888,
             "#fdca26"
            ],
            [
             1,
             "#f0f921"
            ]
           ],
           "sequentialminus": [
            [
             0,
             "#0d0887"
            ],
            [
             0.1111111111111111,
             "#46039f"
            ],
            [
             0.2222222222222222,
             "#7201a8"
            ],
            [
             0.3333333333333333,
             "#9c179e"
            ],
            [
             0.4444444444444444,
             "#bd3786"
            ],
            [
             0.5555555555555556,
             "#d8576b"
            ],
            [
             0.6666666666666666,
             "#ed7953"
            ],
            [
             0.7777777777777778,
             "#fb9f3a"
            ],
            [
             0.8888888888888888,
             "#fdca26"
            ],
            [
             1,
             "#f0f921"
            ]
           ]
          },
          "colorway": [
           "#636efa",
           "#EF553B",
           "#00cc96",
           "#ab63fa",
           "#FFA15A",
           "#19d3f3",
           "#FF6692",
           "#B6E880",
           "#FF97FF",
           "#FECB52"
          ],
          "font": {
           "color": "#2a3f5f"
          },
          "geo": {
           "bgcolor": "white",
           "lakecolor": "white",
           "landcolor": "#E5ECF6",
           "showlakes": true,
           "showland": true,
           "subunitcolor": "white"
          },
          "hoverlabel": {
           "align": "left"
          },
          "hovermode": "closest",
          "mapbox": {
           "style": "light"
          },
          "paper_bgcolor": "white",
          "plot_bgcolor": "#E5ECF6",
          "polar": {
           "angularaxis": {
            "gridcolor": "white",
            "linecolor": "white",
            "ticks": ""
           },
           "bgcolor": "#E5ECF6",
           "radialaxis": {
            "gridcolor": "white",
            "linecolor": "white",
            "ticks": ""
           }
          },
          "scene": {
           "xaxis": {
            "backgroundcolor": "#E5ECF6",
            "gridcolor": "white",
            "gridwidth": 2,
            "linecolor": "white",
            "showbackground": true,
            "ticks": "",
            "zerolinecolor": "white"
           },
           "yaxis": {
            "backgroundcolor": "#E5ECF6",
            "gridcolor": "white",
            "gridwidth": 2,
            "linecolor": "white",
            "showbackground": true,
            "ticks": "",
            "zerolinecolor": "white"
           },
           "zaxis": {
            "backgroundcolor": "#E5ECF6",
            "gridcolor": "white",
            "gridwidth": 2,
            "linecolor": "white",
            "showbackground": true,
            "ticks": "",
            "zerolinecolor": "white"
           }
          },
          "shapedefaults": {
           "line": {
            "color": "#2a3f5f"
           }
          },
          "ternary": {
           "aaxis": {
            "gridcolor": "white",
            "linecolor": "white",
            "ticks": ""
           },
           "baxis": {
            "gridcolor": "white",
            "linecolor": "white",
            "ticks": ""
           },
           "bgcolor": "#E5ECF6",
           "caxis": {
            "gridcolor": "white",
            "linecolor": "white",
            "ticks": ""
           }
          },
          "title": {
           "x": 0.05
          },
          "xaxis": {
           "automargin": true,
           "gridcolor": "white",
           "linecolor": "white",
           "ticks": "",
           "title": {
            "standoff": 15
           },
           "zerolinecolor": "white",
           "zerolinewidth": 2
          },
          "yaxis": {
           "automargin": true,
           "gridcolor": "white",
           "linecolor": "white",
           "ticks": "",
           "title": {
            "standoff": 15
           },
           "zerolinecolor": "white",
           "zerolinewidth": 2
          }
         }
        },
        "title": {
         "text": "Hyperparameter Importance - Random Forest"
        },
        "xaxis": {
         "title": {
          "text": "Hyperparameter Importance"
         }
        },
        "yaxis": {
         "title": {
          "text": "Hyperparameter"
         }
        }
       }
      }
     },
     "metadata": {},
     "output_type": "display_data"
    },
    {
     "name": "stdout",
     "output_type": "stream",
     "text": [
      "\n",
      "Insight: This plot shows which hyperparameters have the biggest impact on performance.\n",
      "Focus your tuning efforts on the most important ones!\n"
     ]
    }
   ],
   "source": [
    "# Visualize parameter importance\n",
    "fig = optuna.visualization.plot_param_importances(study_rf)\n",
    "fig.update_layout(title='Hyperparameter Importance - Random Forest')\n",
    "fig.show()\n",
    "\n",
    "\n",
    "print(\"\\nInsight: This plot shows which hyperparameters have the biggest impact on performance.\")\n",
    "print(\"Focus your tuning efforts on the most important ones!\")"
   ]
  },
  {
   "cell_type": "markdown",
   "metadata": {},
   "source": [
    "### 7.2 Optuna with XGBoost\n",
    "\n",
    "Let's see Optuna's power with a more complex model: XGBoost."
   ]
  },
  {
   "cell_type": "code",
   "execution_count": 23,
   "metadata": {},
   "outputs": [
    {
     "name": "stdout",
     "output_type": "stream",
     "text": [
      "XGBoost objective function defined.\n"
     ]
    }
   ],
   "source": [
    "# Define objective function for XGBoost\n",
    "def objective_xgb(trial):\n",
    "    \"\"\"\n",
    "    Objective function for XGBoost optimization.\n",
    "    \"\"\"\n",
    "    params = {\n",
    "        'n_estimators': trial.suggest_int('n_estimators', 100, 1000),\n",
    "        'max_depth': trial.suggest_int('max_depth', 3, 10),\n",
    "        'learning_rate': trial.suggest_float('learning_rate', 0.01, 0.3, log=True),\n",
    "        'subsample': trial.suggest_float('subsample', 0.6, 1.0),\n",
    "        'colsample_bytree': trial.suggest_float('colsample_bytree', 0.6, 1.0),\n",
    "        'min_child_weight': trial.suggest_int('min_child_weight', 1, 10),\n",
    "        'gamma': trial.suggest_float('gamma', 0, 0.5),\n",
    "        'reg_alpha': trial.suggest_float('reg_alpha', 0, 1),\n",
    "        'reg_lambda': trial.suggest_float('reg_lambda', 0, 1),\n",
    "        'random_state': 42,\n",
    "        'eval_metric': 'logloss',\n",
    "        'use_label_encoder': False\n",
    "    }\n",
    "    \n",
    "    # Create and evaluate model\n",
    "    model = xgb.XGBClassifier(**params)\n",
    "    \n",
    "    # Cross-validation score\n",
    "    scores = cross_val_score(model, X_train, y_train, cv=5, scoring='accuracy', n_jobs=-1)\n",
    "    \n",
    "    return scores.mean()\n",
    "\n",
    "print(\"XGBoost objective function defined.\")"
   ]
  },
  {
   "cell_type": "code",
   "execution_count": 24,
   "metadata": {},
   "outputs": [
    {
     "name": "stderr",
     "output_type": "stream",
     "text": [
      "[I 2025-10-07 22:25:28,462] A new study created in memory with name: XGBoost Tuning\n"
     ]
    },
    {
     "name": "stdout",
     "output_type": "stream",
     "text": [
      "Starting XGBoost optimization...\n",
      "\n"
     ]
    },
    {
     "data": {
      "application/vnd.jupyter.widget-view+json": {
       "model_id": "6115d301081545dfb270cb2287005792",
       "version_major": 2,
       "version_minor": 0
      },
      "text/plain": [
       "  0%|          | 0/100 [00:00<?, ?it/s]"
      ]
     },
     "metadata": {},
     "output_type": "display_data"
    },
    {
     "name": "stdout",
     "output_type": "stream",
     "text": [
      "[I 2025-10-07 22:25:32,528] Trial 0 finished with value: 0.9758241758241759 and parameters: {'n_estimators': 437, 'max_depth': 10, 'learning_rate': 0.1205712628744377, 'subsample': 0.8394633936788146, 'colsample_bytree': 0.6624074561769746, 'min_child_weight': 2, 'gamma': 0.02904180608409973, 'reg_alpha': 0.8661761457749352, 'reg_lambda': 0.6011150117432088}. Best is trial 0 with value: 0.9758241758241759.\n",
      "[I 2025-10-07 22:25:33,402] Trial 1 finished with value: 0.9714285714285715 and parameters: {'n_estimators': 737, 'max_depth': 3, 'learning_rate': 0.2708160864249968, 'subsample': 0.9329770563201687, 'colsample_bytree': 0.6849356442713105, 'min_child_weight': 2, 'gamma': 0.09170225492671691, 'reg_alpha': 0.3042422429595377, 'reg_lambda': 0.5247564316322378}. Best is trial 0 with value: 0.9758241758241759.\n",
      "[I 2025-10-07 22:25:34,007] Trial 2 finished with value: 0.9648351648351647 and parameters: {'n_estimators': 489, 'max_depth': 5, 'learning_rate': 0.08012737503998542, 'subsample': 0.6557975442608167, 'colsample_bytree': 0.7168578594140873, 'min_child_weight': 4, 'gamma': 0.22803499210851796, 'reg_alpha': 0.7851759613930136, 'reg_lambda': 0.19967378215835974}. Best is trial 0 with value: 0.9758241758241759.\n",
      "[I 2025-10-07 22:25:36,750] Trial 3 finished with value: 0.9714285714285715 and parameters: {'n_estimators': 563, 'max_depth': 7, 'learning_rate': 0.011711509955524094, 'subsample': 0.8430179407605753, 'colsample_bytree': 0.6682096494749166, 'min_child_weight': 1, 'gamma': 0.4744427686266666, 'reg_alpha': 0.9656320330745594, 'reg_lambda': 0.8083973481164611}. Best is trial 0 with value: 0.9758241758241759.\n",
      "[I 2025-10-07 22:25:37,223] Trial 4 finished with value: 0.9692307692307691 and parameters: {'n_estimators': 374, 'max_depth': 3, 'learning_rate': 0.1024932221692416, 'subsample': 0.7760609974958406, 'colsample_bytree': 0.6488152939379115, 'min_child_weight': 5, 'gamma': 0.017194260557609198, 'reg_alpha': 0.9093204020787821, 'reg_lambda': 0.2587799816000169}. Best is trial 0 with value: 0.9758241758241759.\n",
      "[I 2025-10-07 22:25:38,059] Trial 5 finished with value: 0.956043956043956 and parameters: {'n_estimators': 696, 'max_depth': 5, 'learning_rate': 0.05864129169696527, 'subsample': 0.8186841117373118, 'colsample_bytree': 0.6739417822102108, 'min_child_weight': 10, 'gamma': 0.3875664116805573, 'reg_alpha': 0.9394989415641891, 'reg_lambda': 0.8948273504276488}. Best is trial 0 with value: 0.9758241758241759.\n",
      "[I 2025-10-07 22:25:39,748] Trial 6 finished with value: 0.9736263736263737 and parameters: {'n_estimators': 638, 'max_depth': 10, 'learning_rate': 0.01351182947645082, 'subsample': 0.6783931449676581, 'colsample_bytree': 0.6180909155642152, 'min_child_weight': 4, 'gamma': 0.194338644844741, 'reg_alpha': 0.2713490317738959, 'reg_lambda': 0.8287375091519293}. Best is trial 0 with value: 0.9758241758241759.\n",
      "[I 2025-10-07 22:25:40,701] Trial 7 finished with value: 0.9736263736263737 and parameters: {'n_estimators': 421, 'max_depth': 5, 'learning_rate': 0.06333268775321843, 'subsample': 0.6563696899899051, 'colsample_bytree': 0.9208787923016158, 'min_child_weight': 1, 'gamma': 0.49344346830025865, 'reg_alpha': 0.7722447692966574, 'reg_lambda': 0.1987156815341724}. Best is trial 0 with value: 0.9758241758241759.\n",
      "[I 2025-10-07 22:25:41,225] Trial 8 finished with value: 0.9780219780219781 and parameters: {'n_estimators': 104, 'max_depth': 9, 'learning_rate': 0.11069143219393454, 'subsample': 0.8916028672163949, 'colsample_bytree': 0.9085081386743783, 'min_child_weight': 1, 'gamma': 0.1792328642721363, 'reg_alpha': 0.11586905952512971, 'reg_lambda': 0.8631034258755935}. Best is trial 8 with value: 0.9780219780219781.\n",
      "[I 2025-10-07 22:25:42,310] Trial 9 finished with value: 0.956043956043956 and parameters: {'n_estimators': 661, 'max_depth': 5, 'learning_rate': 0.012413189635294229, 'subsample': 0.7243929286862649, 'colsample_bytree': 0.7300733288106989, 'min_child_weight': 8, 'gamma': 0.31877873567760656, 'reg_alpha': 0.8872127425763265, 'reg_lambda': 0.4722149251619493}. Best is trial 8 with value: 0.9780219780219781.\n",
      "[I 2025-10-07 22:25:42,847] Trial 10 finished with value: 0.9582417582417584 and parameters: {'n_estimators': 118, 'max_depth': 8, 'learning_rate': 0.02847748683027988, 'subsample': 0.9746595013029591, 'colsample_bytree': 0.9916893928795038, 'min_child_weight': 7, 'gamma': 0.12896347630074606, 'reg_alpha': 0.011114384822711279, 'reg_lambda': 0.9693130727540948}. Best is trial 8 with value: 0.9780219780219781.\n",
      "[I 2025-10-07 22:25:43,961] Trial 11 finished with value: 0.9670329670329669 and parameters: {'n_estimators': 971, 'max_depth': 10, 'learning_rate': 0.19265640527744937, 'subsample': 0.8794972169146561, 'colsample_bytree': 0.8278877235479689, 'min_child_weight': 3, 'gamma': 0.020605586924480307, 'reg_alpha': 0.5732909776512292, 'reg_lambda': 0.5916836359300597}. Best is trial 8 with value: 0.9780219780219781.\n",
      "[I 2025-10-07 22:25:44,370] Trial 12 finished with value: 0.9736263736263737 and parameters: {'n_estimators': 111, 'max_depth': 9, 'learning_rate': 0.14671986661140868, 'subsample': 0.8884170683398009, 'colsample_bytree': 0.8436295453734978, 'min_child_weight': 2, 'gamma': 0.14545682763381246, 'reg_alpha': 0.03358588493447223, 'reg_lambda': 0.6826926211335165}. Best is trial 8 with value: 0.9780219780219781.\n",
      "[I 2025-10-07 22:25:45,781] Trial 13 finished with value: 0.9692307692307693 and parameters: {'n_estimators': 263, 'max_depth': 8, 'learning_rate': 0.03891469423179501, 'subsample': 0.7631435327819819, 'colsample_bytree': 0.8900861018982393, 'min_child_weight': 1, 'gamma': 0.28055698656642614, 'reg_alpha': 0.5606709171996369, 'reg_lambda': 0.4070760230586949}. Best is trial 8 with value: 0.9780219780219781.\n",
      "[I 2025-10-07 22:25:46,344] Trial 14 finished with value: 0.9758241758241759 and parameters: {'n_estimators': 272, 'max_depth': 9, 'learning_rate': 0.12827665257949752, 'subsample': 0.9984067957444853, 'colsample_bytree': 0.7653656398770851, 'min_child_weight': 3, 'gamma': 0.06116566139656414, 'reg_alpha': 0.3849679031223864, 'reg_lambda': 0.7049270826015105}. Best is trial 8 with value: 0.9780219780219781.\n",
      "[I 2025-10-07 22:25:47,254] Trial 15 finished with value: 0.9670329670329669 and parameters: {'n_estimators': 844, 'max_depth': 10, 'learning_rate': 0.2702272241241032, 'subsample': 0.913015650975963, 'colsample_bytree': 0.9762859108345051, 'min_child_weight': 6, 'gamma': 0.1609682589502694, 'reg_alpha': 0.14158424165235128, 'reg_lambda': 0.696727845589272}. Best is trial 8 with value: 0.9780219780219781.\n",
      "[I 2025-10-07 22:25:48,044] Trial 16 finished with value: 0.9714285714285715 and parameters: {'n_estimators': 252, 'max_depth': 8, 'learning_rate': 0.03167502366659872, 'subsample': 0.8503991699305873, 'colsample_bytree': 0.7911302960155628, 'min_child_weight': 3, 'gamma': 0.34977915939450394, 'reg_alpha': 0.6984304833488653, 'reg_lambda': 0.013179214380923565}. Best is trial 8 with value: 0.9780219780219781.\n",
      "[I 2025-10-07 22:25:48,836] Trial 17 finished with value: 0.9780219780219781 and parameters: {'n_estimators': 348, 'max_depth': 9, 'learning_rate': 0.08941345391208691, 'subsample': 0.9406069544760227, 'colsample_bytree': 0.9256294637309682, 'min_child_weight': 2, 'gamma': 0.08438904132591529, 'reg_alpha': 0.42141068294783923, 'reg_lambda': 0.9917406634319929}. Best is trial 8 with value: 0.9780219780219781.\n",
      "[I 2025-10-07 22:25:49,290] Trial 18 finished with value: 0.9758241758241759 and parameters: {'n_estimators': 208, 'max_depth': 7, 'learning_rate': 0.08157518067232787, 'subsample': 0.9391128730383521, 'colsample_bytree': 0.9276269504938003, 'min_child_weight': 5, 'gamma': 0.23757330365082688, 'reg_alpha': 0.4270014630160177, 'reg_lambda': 0.9865303984697575}. Best is trial 8 with value: 0.9780219780219781.\n",
      "[I 2025-10-07 22:25:49,806] Trial 19 finished with value: 0.9494505494505494 and parameters: {'n_estimators': 346, 'max_depth': 9, 'learning_rate': 0.04408397301842399, 'subsample': 0.9642557173060162, 'colsample_bytree': 0.8870630788741121, 'min_child_weight': 10, 'gamma': 0.1020914931801978, 'reg_alpha': 0.1786167678806641, 'reg_lambda': 0.8545906384686411}. Best is trial 8 with value: 0.9780219780219781.\n",
      "[I 2025-10-07 22:25:50,150] Trial 20 finished with value: 0.9648351648351647 and parameters: {'n_estimators': 176, 'max_depth': 6, 'learning_rate': 0.18590112816357693, 'subsample': 0.8910149050713664, 'colsample_bytree': 0.9551953544108763, 'min_child_weight': 4, 'gamma': 0.18420832516989977, 'reg_alpha': 0.17143803727050552, 'reg_lambda': 0.9938427850497087}. Best is trial 8 with value: 0.9780219780219781.\n",
      "[I 2025-10-07 22:25:50,948] Trial 21 finished with value: 0.9758241758241759 and parameters: {'n_estimators': 443, 'max_depth': 9, 'learning_rate': 0.10386273724133417, 'subsample': 0.8508945283786257, 'colsample_bytree': 0.8581994551448502, 'min_child_weight': 2, 'gamma': 0.05585848422443365, 'reg_alpha': 0.6167505564922331, 'reg_lambda': 0.7611983209859814}. Best is trial 8 with value: 0.9780219780219781.\n",
      "[I 2025-10-07 22:25:51,692] Trial 22 finished with value: 0.9692307692307693 and parameters: {'n_estimators': 502, 'max_depth': 10, 'learning_rate': 0.13353997796128783, 'subsample': 0.8058234372444598, 'colsample_bytree': 0.9224758987157714, 'min_child_weight': 2, 'gamma': 0.07379449537109892, 'reg_alpha': 0.3861881501383746, 'reg_lambda': 0.9103512150708541}. Best is trial 8 with value: 0.9780219780219781.\n",
      "[I 2025-10-07 22:25:52,612] Trial 23 finished with value: 0.9736263736263737 and parameters: {'n_estimators': 342, 'max_depth': 8, 'learning_rate': 0.07816715965340068, 'subsample': 0.6073248792362045, 'colsample_bytree': 0.8091770185429796, 'min_child_weight': 1, 'gamma': 0.0020148675711239017, 'reg_alpha': 0.4945656137199099, 'reg_lambda': 0.6066369826515574}. Best is trial 8 with value: 0.9780219780219781.\n",
      "[I 2025-10-07 22:25:53,278] Trial 24 finished with value: 0.9670329670329672 and parameters: {'n_estimators': 595, 'max_depth': 9, 'learning_rate': 0.17817360872388072, 'subsample': 0.9140702245419707, 'colsample_bytree': 0.7600323220535375, 'min_child_weight': 3, 'gamma': 0.11729875900963474, 'reg_alpha': 0.2698018845414131, 'reg_lambda': 0.7705163614166437}. Best is trial 8 with value: 0.9780219780219781.\n",
      "[I 2025-10-07 22:25:54,114] Trial 25 finished with value: 0.9714285714285715 and parameters: {'n_estimators': 307, 'max_depth': 10, 'learning_rate': 0.09264282484848921, 'subsample': 0.9548679506765706, 'colsample_bytree': 0.8715221182521762, 'min_child_weight': 2, 'gamma': 0.04869758501380997, 'reg_alpha': 0.08288066214855122, 'reg_lambda': 0.376401083849056}. Best is trial 8 with value: 0.9780219780219781.\n",
      "[I 2025-10-07 22:25:55,237] Trial 26 finished with value: 0.9714285714285715 and parameters: {'n_estimators': 423, 'max_depth': 7, 'learning_rate': 0.050192113938891655, 'subsample': 0.8681279758396023, 'colsample_bytree': 0.953904126168963, 'min_child_weight': 1, 'gamma': 0.19038320100635814, 'reg_alpha': 0.7034602224555131, 'reg_lambda': 0.9146387587758043}. Best is trial 8 with value: 0.9780219780219781.\n",
      "[I 2025-10-07 22:25:55,699] Trial 27 finished with value: 0.9516483516483516 and parameters: {'n_estimators': 185, 'max_depth': 9, 'learning_rate': 0.01963341665257106, 'subsample': 0.7717756175465251, 'colsample_bytree': 0.60362662491687, 'min_child_weight': 8, 'gamma': 0.14888188632236019, 'reg_alpha': 0.4795409791257077, 'reg_lambda': 0.6177114102673383}. Best is trial 8 with value: 0.9780219780219781.\n",
      "[I 2025-10-07 22:25:56,529] Trial 28 finished with value: 0.9714285714285715 and parameters: {'n_estimators': 473, 'max_depth': 8, 'learning_rate': 0.06327925345239788, 'subsample': 0.9008235023086753, 'colsample_bytree': 0.950737142690298, 'min_child_weight': 3, 'gamma': 0.26625149055652814, 'reg_alpha': 0.8245704694298697, 'reg_lambda': 0.8857699221932108}. Best is trial 8 with value: 0.9780219780219781.\n",
      "[I 2025-10-07 22:25:57,300] Trial 29 finished with value: 0.9780219780219781 and parameters: {'n_estimators': 801, 'max_depth': 3, 'learning_rate': 0.2689063721419708, 'subsample': 0.9323370966044481, 'colsample_bytree': 0.7109869669928413, 'min_child_weight': 2, 'gamma': 0.09421552952140619, 'reg_alpha': 0.22944279300706732, 'reg_lambda': 0.5076128849192602}. Best is trial 8 with value: 0.9780219780219781.\n",
      "[I 2025-10-07 22:25:58,113] Trial 30 finished with value: 0.9604395604395604 and parameters: {'n_estimators': 838, 'max_depth': 4, 'learning_rate': 0.25334510655212067, 'subsample': 0.9983609789989699, 'colsample_bytree': 0.7239625709566383, 'min_child_weight': 4, 'gamma': 0.21099798599752004, 'reg_alpha': 0.31574591402919017, 'reg_lambda': 0.04388915739798904}. Best is trial 8 with value: 0.9780219780219781.\n",
      "[I 2025-10-07 22:25:58,870] Trial 31 finished with value: 0.9714285714285715 and parameters: {'n_estimators': 772, 'max_depth': 3, 'learning_rate': 0.2268135711588381, 'subsample': 0.938207280180972, 'colsample_bytree': 0.6380522037865372, 'min_child_weight': 2, 'gamma': 0.08595655871285272, 'reg_alpha': 0.22908000773734197, 'reg_lambda': 0.5159958792219146}. Best is trial 8 with value: 0.9780219780219781.\n",
      "[I 2025-10-07 22:26:00,147] Trial 32 finished with value: 0.9692307692307693 and parameters: {'n_estimators': 958, 'max_depth': 6, 'learning_rate': 0.12056152782850567, 'subsample': 0.9248060499474774, 'colsample_bytree': 0.7020758428360839, 'min_child_weight': 1, 'gamma': 0.10317634644804477, 'reg_alpha': 0.09459758851616917, 'reg_lambda': 0.4095978521593234}. Best is trial 8 with value: 0.9780219780219781.\n",
      "[I 2025-10-07 22:26:00,838] Trial 33 finished with value: 0.9626373626373628 and parameters: {'n_estimators': 536, 'max_depth': 4, 'learning_rate': 0.16813236084242658, 'subsample': 0.84331339774136, 'colsample_bytree': 0.6847938767393694, 'min_child_weight': 2, 'gamma': 0.04614464930508222, 'reg_alpha': 0.3030062274151255, 'reg_lambda': 0.5643412643836694}. Best is trial 8 with value: 0.9780219780219781.\n",
      "[I 2025-10-07 22:26:01,560] Trial 34 finished with value: 0.9736263736263737 and parameters: {'n_estimators': 390, 'max_depth': 4, 'learning_rate': 0.10955399129874702, 'subsample': 0.8223619497652763, 'colsample_bytree': 0.6454683962986405, 'min_child_weight': 1, 'gamma': 0.03291531951153732, 'reg_alpha': 0.35906700206107883, 'reg_lambda': 0.2662276409943858}. Best is trial 8 with value: 0.9780219780219781.\n",
      "[I 2025-10-07 22:26:02,378] Trial 35 finished with value: 0.9692307692307693 and parameters: {'n_estimators': 597, 'max_depth': 7, 'learning_rate': 0.07625292628979498, 'subsample': 0.8672457717580376, 'colsample_bytree': 0.7607284879416079, 'min_child_weight': 5, 'gamma': 0.08466367074272212, 'reg_alpha': 0.20209667555177124, 'reg_lambda': 0.7686636169675403}. Best is trial 8 with value: 0.9780219780219781.\n",
      "[I 2025-10-07 22:26:03,217] Trial 36 finished with value: 0.9692307692307693 and parameters: {'n_estimators': 778, 'max_depth': 10, 'learning_rate': 0.21636766825830547, 'subsample': 0.9483492877828397, 'colsample_bytree': 0.8993373837392208, 'min_child_weight': 3, 'gamma': 0.4268381767504691, 'reg_alpha': 0.10813049015220771, 'reg_lambda': 0.4774304541486215}. Best is trial 8 with value: 0.9780219780219781.\n",
      "[I 2025-10-07 22:26:04,114] Trial 37 finished with value: 0.964835164835165 and parameters: {'n_estimators': 870, 'max_depth': 6, 'learning_rate': 0.2977059026950096, 'subsample': 0.9771420381187541, 'colsample_bytree': 0.6629219137733234, 'min_child_weight': 4, 'gamma': 0.16169044194379578, 'reg_alpha': 0.9818540631463814, 'reg_lambda': 0.9378002674701033}. Best is trial 8 with value: 0.9780219780219781.\n",
      "[I 2025-10-07 22:26:04,863] Trial 38 finished with value: 0.9670329670329672 and parameters: {'n_estimators': 530, 'max_depth': 9, 'learning_rate': 0.16138781962075247, 'subsample': 0.7445197788694421, 'colsample_bytree': 0.6912429442800053, 'min_child_weight': 2, 'gamma': 0.1109513288699826, 'reg_alpha': 0.24834102811960376, 'reg_lambda': 0.6652563824060226}. Best is trial 8 with value: 0.9780219780219781.\n",
      "[I 2025-10-07 22:26:05,571] Trial 39 finished with value: 0.9780219780219781 and parameters: {'n_estimators': 380, 'max_depth': 3, 'learning_rate': 0.09296696743136902, 'subsample': 0.8222712876030399, 'colsample_bytree': 0.7462498034029367, 'min_child_weight': 1, 'gamma': 0.12405184539319494, 'reg_alpha': 0.4440364178911783, 'reg_lambda': 0.2993286864372021}. Best is trial 8 with value: 0.9780219780219781.\n",
      "[I 2025-10-07 22:26:07,101] Trial 40 finished with value: 0.9670329670329672 and parameters: {'n_estimators': 718, 'max_depth': 3, 'learning_rate': 0.06955831524503724, 'subsample': 0.8264924936182207, 'colsample_bytree': 0.7821655049757177, 'min_child_weight': 1, 'gamma': 0.1377485982490771, 'reg_alpha': 0.4539410446103891, 'reg_lambda': 0.15096674437151095}. Best is trial 8 with value: 0.9780219780219781.\n",
      "[I 2025-10-07 22:26:07,928] Trial 41 finished with value: 0.9758241758241759 and parameters: {'n_estimators': 383, 'max_depth': 3, 'learning_rate': 0.09612635827425049, 'subsample': 0.792135714976602, 'colsample_bytree': 0.7381589109926566, 'min_child_weight': 1, 'gamma': 0.01054887632539575, 'reg_alpha': 0.5488476198763192, 'reg_lambda': 0.3108848167051238}. Best is trial 8 with value: 0.9780219780219781.\n",
      "[I 2025-10-07 22:26:08,859] Trial 42 finished with value: 0.9758241758241759 and parameters: {'n_estimators': 465, 'max_depth': 4, 'learning_rate': 0.055287588020528196, 'subsample': 0.905379333190455, 'colsample_bytree': 0.7148543048035975, 'min_child_weight': 2, 'gamma': 0.1738347678669947, 'reg_alpha': 0.6335771708880787, 'reg_lambda': 0.3544382895618573}. Best is trial 8 with value: 0.9780219780219781.\n",
      "[I 2025-10-07 22:26:09,476] Trial 43 finished with value: 0.9670329670329669 and parameters: {'n_estimators': 302, 'max_depth': 3, 'learning_rate': 0.08809079171602532, 'subsample': 0.8702806419771371, 'colsample_bytree': 0.7454896418815409, 'min_child_weight': 1, 'gamma': 0.20960524638208822, 'reg_alpha': 0.34889377548532463, 'reg_lambda': 0.45483692921741736}. Best is trial 8 with value: 0.9780219780219781.\n",
      "[I 2025-10-07 22:26:09,892] Trial 44 finished with value: 0.9626373626373628 and parameters: {'n_estimators': 150, 'max_depth': 5, 'learning_rate': 0.14902880509801072, 'subsample': 0.7079480209383774, 'colsample_bytree': 0.8177346738343053, 'min_child_weight': 3, 'gamma': 0.12842527265579776, 'reg_alpha': 0.4220663794767302, 'reg_lambda': 0.5338115515027317}. Best is trial 8 with value: 0.9780219780219781.\n",
      "[I 2025-10-07 22:26:10,424] Trial 45 finished with value: 0.9758241758241759 and parameters: {'n_estimators': 233, 'max_depth': 4, 'learning_rate': 0.11453243521069534, 'subsample': 0.921127769324205, 'colsample_bytree': 0.6592768496989315, 'min_child_weight': 2, 'gamma': 0.07959477846595722, 'reg_alpha': 0.044236231471538406, 'reg_lambda': 0.8478501002069907}. Best is trial 8 with value: 0.9780219780219781.\n",
      "[I 2025-10-07 22:26:11,036] Trial 46 finished with value: 0.9604395604395604 and parameters: {'n_estimators': 574, 'max_depth': 10, 'learning_rate': 0.1386126337762042, 'subsample': 0.8020739112374323, 'colsample_bytree': 0.7070670536634136, 'min_child_weight': 9, 'gamma': 0.03779726344674927, 'reg_alpha': 0.9019387561229424, 'reg_lambda': 0.1417967250457248}. Best is trial 8 with value: 0.9780219780219781.\n",
      "[I 2025-10-07 22:26:12,359] Trial 47 finished with value: 0.9736263736263737 and parameters: {'n_estimators': 676, 'max_depth': 3, 'learning_rate': 0.07291550089756123, 'subsample': 0.8343905685656033, 'colsample_bytree': 0.9979066591563708, 'min_child_weight': 1, 'gamma': 0.12476146114361525, 'reg_alpha': 0.5213961931257547, 'reg_lambda': 0.9498072066341977}. Best is trial 8 with value: 0.9780219780219781.\n",
      "[I 2025-10-07 22:26:12,956] Trial 48 finished with value: 0.9692307692307691 and parameters: {'n_estimators': 353, 'max_depth': 8, 'learning_rate': 0.0466148350609317, 'subsample': 0.8861079170146086, 'colsample_bytree': 0.6351207085001174, 'min_child_weight': 6, 'gamma': 0.06808333063146153, 'reg_alpha': 0.3075598393541217, 'reg_lambda': 0.8093547410927755}. Best is trial 8 with value: 0.9780219780219781.\n",
      "[I 2025-10-07 22:26:13,710] Trial 49 finished with value: 0.9714285714285713 and parameters: {'n_estimators': 626, 'max_depth': 9, 'learning_rate': 0.21177862539705603, 'subsample': 0.856690806816714, 'colsample_bytree': 0.6754704034947758, 'min_child_weight': 4, 'gamma': 0.022922271430178876, 'reg_alpha': 0.7763880388973875, 'reg_lambda': 0.6470700541285563}. Best is trial 8 with value: 0.9780219780219781.\n",
      "[I 2025-10-07 22:26:14,339] Trial 50 finished with value: 0.9670329670329672 and parameters: {'n_estimators': 305, 'max_depth': 10, 'learning_rate': 0.06048998771597946, 'subsample': 0.781768075806686, 'colsample_bytree': 0.8269838171949644, 'min_child_weight': 3, 'gamma': 0.22020675330360667, 'reg_alpha': 0.13861462107455103, 'reg_lambda': 0.727012488414355}. Best is trial 8 with value: 0.9780219780219781.\n",
      "[I 2025-10-07 22:26:14,845] Trial 51 finished with value: 0.9692307692307693 and parameters: {'n_estimators': 272, 'max_depth': 9, 'learning_rate': 0.13730711179313052, 'subsample': 0.9888697879655717, 'colsample_bytree': 0.7675449258298458, 'min_child_weight': 2, 'gamma': 0.06732225977068415, 'reg_alpha': 0.3920794912601273, 'reg_lambda': 0.5580299794702244}. Best is trial 8 with value: 0.9780219780219781.\n",
      "[I 2025-10-07 22:26:15,517] Trial 52 finished with value: 0.9824175824175825 and parameters: {'n_estimators': 399, 'max_depth': 9, 'learning_rate': 0.12134713880799916, 'subsample': 0.966907507517582, 'colsample_bytree': 0.7942050707003151, 'min_child_weight': 2, 'gamma': 0.09380836887447412, 'reg_alpha': 0.43660478150839854, 'reg_lambda': 0.7335851642229427}. Best is trial 52 with value: 0.9824175824175825.\n",
      "[I 2025-10-07 22:26:16,217] Trial 53 finished with value: 0.9758241758241759 and parameters: {'n_estimators': 419, 'max_depth': 8, 'learning_rate': 0.08680257643989019, 'subsample': 0.9661387494074182, 'colsample_bytree': 0.7912347907978449, 'min_child_weight': 2, 'gamma': 0.1010057828927202, 'reg_alpha': 0.6071926438181611, 'reg_lambda': 0.8849601631231011}. Best is trial 52 with value: 0.9824175824175825.\n",
      "[I 2025-10-07 22:26:17,152] Trial 54 finished with value: 0.9780219780219781 and parameters: {'n_estimators': 499, 'max_depth': 9, 'learning_rate': 0.10302301261734843, 'subsample': 0.9252592394673893, 'colsample_bytree': 0.8476854498419011, 'min_child_weight': 1, 'gamma': 0.09594747614012009, 'reg_alpha': 0.4464654320519647, 'reg_lambda': 0.7278881904225583}. Best is trial 52 with value: 0.9824175824175825.\n",
      "[I 2025-10-07 22:26:18,080] Trial 55 finished with value: 0.9670329670329672 and parameters: {'n_estimators': 498, 'max_depth': 8, 'learning_rate': 0.10350958582011749, 'subsample': 0.9325393162860676, 'colsample_bytree': 0.8497329677816043, 'min_child_weight': 1, 'gamma': 0.16075748253048466, 'reg_alpha': 0.445993595090427, 'reg_lambda': 0.739869078861354}. Best is trial 52 with value: 0.9824175824175825.\n",
      "[I 2025-10-07 22:26:19,277] Trial 56 finished with value: 0.9692307692307693 and parameters: {'n_estimators': 447, 'max_depth': 9, 'learning_rate': 0.12164053480638219, 'subsample': 0.9506015877857208, 'colsample_bytree': 0.9041700499138908, 'min_child_weight': 1, 'gamma': 0.1482184365522901, 'reg_alpha': 0.475205660176978, 'reg_lambda': 0.7995261753402056}. Best is trial 52 with value: 0.9824175824175825.\n",
      "[I 2025-10-07 22:26:20,272] Trial 57 finished with value: 0.9714285714285715 and parameters: {'n_estimators': 400, 'max_depth': 9, 'learning_rate': 0.03972945996641998, 'subsample': 0.982148809003311, 'colsample_bytree': 0.9309244309803952, 'min_child_weight': 3, 'gamma': 0.29996081785268713, 'reg_alpha': 0.41264230353323167, 'reg_lambda': 0.8374281134262662}. Best is trial 52 with value: 0.9824175824175825.\n",
      "[I 2025-10-07 22:26:21,009] Trial 58 finished with value: 0.9736263736263737 and parameters: {'n_estimators': 346, 'max_depth': 5, 'learning_rate': 0.1563836888683601, 'subsample': 0.8980107257369134, 'colsample_bytree': 0.8715228491103689, 'min_child_weight': 2, 'gamma': 0.09412605009114415, 'reg_alpha': 0.5207709259148298, 'reg_lambda': 0.9559800056968376}. Best is trial 52 with value: 0.9824175824175825.\n",
      "[I 2025-10-07 22:26:21,648] Trial 59 finished with value: 0.9670329670329672 and parameters: {'n_estimators': 106, 'max_depth': 8, 'learning_rate': 0.06658835791788305, 'subsample': 0.959899712362596, 'colsample_bytree': 0.8422199570548048, 'min_child_weight': 1, 'gamma': 0.24610528184152797, 'reg_alpha': 0.5841119759717486, 'reg_lambda': 0.8627485537257109}. Best is trial 52 with value: 0.9824175824175825.\n",
      "[I 2025-10-07 22:26:22,397] Trial 60 finished with value: 0.9780219780219781 and parameters: {'n_estimators': 495, 'max_depth': 9, 'learning_rate': 0.09735371037139318, 'subsample': 0.9312802152493982, 'colsample_bytree': 0.7802088837967516, 'min_child_weight': 2, 'gamma': 0.17279480971483535, 'reg_alpha': 0.6716232756577474, 'reg_lambda': 0.993225176681277}. Best is trial 52 with value: 0.9824175824175825.\n",
      "[I 2025-10-07 22:26:23,202] Trial 61 finished with value: 0.9758241758241759 and parameters: {'n_estimators': 521, 'max_depth': 9, 'learning_rate': 0.0995528664900889, 'subsample': 0.9311528464445037, 'colsample_bytree': 0.8036191411223935, 'min_child_weight': 2, 'gamma': 0.11641274679740986, 'reg_alpha': 0.7182292884314638, 'reg_lambda': 0.9892975950449571}. Best is trial 52 with value: 0.9824175824175825.\n",
      "[I 2025-10-07 22:26:24,120] Trial 62 finished with value: 0.9692307692307693 and parameters: {'n_estimators': 566, 'max_depth': 9, 'learning_rate': 0.08985678551406191, 'subsample': 0.9136494408576714, 'colsample_bytree': 0.7720788633806918, 'min_child_weight': 1, 'gamma': 0.17579595957426677, 'reg_alpha': 0.6561023613681896, 'reg_lambda': 0.9131373130613436}. Best is trial 52 with value: 0.9824175824175825.\n",
      "[I 2025-10-07 22:26:24,780] Trial 63 finished with value: 0.9802197802197803 and parameters: {'n_estimators': 482, 'max_depth': 10, 'learning_rate': 0.12296311395115399, 'subsample': 0.9438441541419418, 'colsample_bytree': 0.7503822842655601, 'min_child_weight': 2, 'gamma': 0.19505311938785935, 'reg_alpha': 0.3580817002243396, 'reg_lambda': 0.8114608734526575}. Best is trial 52 with value: 0.9824175824175825.\n",
      "[I 2025-10-07 22:26:25,314] Trial 64 finished with value: 0.9736263736263737 and parameters: {'n_estimators': 455, 'max_depth': 10, 'learning_rate': 0.19142002958546134, 'subsample': 0.9714647546444513, 'colsample_bytree': 0.7430134204889092, 'min_child_weight': 3, 'gamma': 0.20295433970558605, 'reg_alpha': 0.3523731477549642, 'reg_lambda': 0.807520272206752}. Best is trial 52 with value: 0.9824175824175825.\n",
      "[I 2025-10-07 22:26:26,329] Trial 65 finished with value: 0.9736263736263737 and parameters: {'n_estimators': 423, 'max_depth': 10, 'learning_rate': 0.12795694467087634, 'subsample': 0.9545679539931164, 'colsample_bytree': 0.9351104012628481, 'min_child_weight': 1, 'gamma': 0.13638653565668896, 'reg_alpha': 0.2751470456942626, 'reg_lambda': 0.7089927997078934}. Best is trial 52 with value: 0.9824175824175825.\n",
      "[I 2025-10-07 22:26:27,458] Trial 66 finished with value: 0.9758241758241759 and parameters: {'n_estimators': 372, 'max_depth': 10, 'learning_rate': 0.1145380833742602, 'subsample': 0.9459337142869243, 'colsample_bytree': 0.9807476338516802, 'min_child_weight': 1, 'gamma': 0.05751768519428483, 'reg_alpha': 0.37869168028323735, 'reg_lambda': 0.6614485662807903}. Best is trial 52 with value: 0.9824175824175825.\n",
      "[I 2025-10-07 22:26:28,415] Trial 67 finished with value: 0.964835164835165 and parameters: {'n_estimators': 223, 'max_depth': 7, 'learning_rate': 0.02660834138105318, 'subsample': 0.907103882338674, 'colsample_bytree': 0.7525866734465281, 'min_child_weight': 2, 'gamma': 0.2296076356295143, 'reg_alpha': 0.5113654096786817, 'reg_lambda': 0.7876587734016234}. Best is trial 52 with value: 0.9824175824175825.\n",
      "[I 2025-10-07 22:26:29,584] Trial 68 finished with value: 0.9802197802197803 and parameters: {'n_estimators': 939, 'max_depth': 10, 'learning_rate': 0.08008406051718542, 'subsample': 0.8785783804898569, 'colsample_bytree': 0.7307506949630833, 'min_child_weight': 2, 'gamma': 0.192811650620033, 'reg_alpha': 0.2091420064279203, 'reg_lambda': 0.2292473914252398}. Best is trial 52 with value: 0.9824175824175825.\n",
      "[I 2025-10-07 22:26:30,579] Trial 69 finished with value: 0.964835164835165 and parameters: {'n_estimators': 935, 'max_depth': 10, 'learning_rate': 0.0813979581251966, 'subsample': 0.8585947852171015, 'colsample_bytree': 0.7274218604243333, 'min_child_weight': 7, 'gamma': 0.25975445371770245, 'reg_alpha': 0.20943116051949526, 'reg_lambda': 0.21158707250021935}. Best is trial 52 with value: 0.9824175824175825.\n",
      "[I 2025-10-07 22:26:33,123] Trial 70 finished with value: 0.964835164835165 and parameters: {'n_estimators': 894, 'max_depth': 10, 'learning_rate': 0.01623136191532103, 'subsample': 0.8922745197530942, 'colsample_bytree': 0.7147084430856393, 'min_child_weight': 3, 'gamma': 0.15370766283188556, 'reg_alpha': 0.16167273531676407, 'reg_lambda': 0.25954980698524527}. Best is trial 52 with value: 0.9824175824175825.\n",
      "[I 2025-10-07 22:26:34,313] Trial 71 finished with value: 0.9758241758241759 and parameters: {'n_estimators': 997, 'max_depth': 10, 'learning_rate': 0.1078952837929628, 'subsample': 0.879727754752558, 'colsample_bytree': 0.8771317823899, 'min_child_weight': 2, 'gamma': 0.09462780079801177, 'reg_alpha': 0.4473589192297043, 'reg_lambda': 0.14141223018516247}. Best is trial 52 with value: 0.9824175824175825.\n",
      "[I 2025-10-07 22:26:35,612] Trial 72 finished with value: 0.9736263736263737 and parameters: {'n_estimators': 775, 'max_depth': 9, 'learning_rate': 0.07708738166226467, 'subsample': 0.9203957054281222, 'colsample_bytree': 0.9046250944510448, 'min_child_weight': 1, 'gamma': 0.18499230015580925, 'reg_alpha': 0.3243093900240366, 'reg_lambda': 0.29531227889201833}. Best is trial 52 with value: 0.9824175824175825.\n",
      "[I 2025-10-07 22:26:37,367] Trial 73 finished with value: 0.9604395604395606 and parameters: {'n_estimators': 321, 'max_depth': 9, 'learning_rate': 0.010452622019099871, 'subsample': 0.9439669122545671, 'colsample_bytree': 0.7914971177242792, 'min_child_weight': 2, 'gamma': 0.1938160876645604, 'reg_alpha': 0.27522569327791446, 'reg_lambda': 0.6263685931268943}. Best is trial 52 with value: 0.9824175824175825.\n",
      "[I 2025-10-07 22:26:38,516] Trial 74 finished with value: 0.9758241758241759 and parameters: {'n_estimators': 631, 'max_depth': 8, 'learning_rate': 0.054240518468098686, 'subsample': 0.9872078220645244, 'colsample_bytree': 0.7356202227230878, 'min_child_weight': 2, 'gamma': 0.11226982085137226, 'reg_alpha': 0.12706221060675046, 'reg_lambda': 0.19579283954180765}. Best is trial 52 with value: 0.9824175824175825.\n",
      "[I 2025-10-07 22:26:39,818] Trial 75 finished with value: 0.9714285714285715 and parameters: {'n_estimators': 813, 'max_depth': 10, 'learning_rate': 0.08406141271028561, 'subsample': 0.8760144764328928, 'colsample_bytree': 0.6988123178377187, 'min_child_weight': 1, 'gamma': 0.12964654125429262, 'reg_alpha': 0.19692620594136365, 'reg_lambda': 0.7517515693270123}. Best is trial 52 with value: 0.9824175824175825.\n",
      "[I 2025-10-07 22:26:40,724] Trial 76 finished with value: 0.9758241758241759 and parameters: {'n_estimators': 478, 'max_depth': 9, 'learning_rate': 0.24873666347425635, 'subsample': 0.8112908092801325, 'colsample_bytree': 0.7511455519505384, 'min_child_weight': 1, 'gamma': 0.08332066919043243, 'reg_alpha': 0.24682288175886977, 'reg_lambda': 0.4273225798322944}. Best is trial 52 with value: 0.9824175824175825.\n",
      "[I 2025-10-07 22:26:41,448] Trial 77 finished with value: 0.9626373626373625 and parameters: {'n_estimators': 405, 'max_depth': 10, 'learning_rate': 0.12588287217040972, 'subsample': 0.9195280524177717, 'colsample_bytree': 0.9184018402595261, 'min_child_weight': 4, 'gamma': 0.1434203362061423, 'reg_alpha': 0.47097132458879365, 'reg_lambda': 0.08153704072688436}. Best is trial 52 with value: 0.9824175824175825.\n",
      "[I 2025-10-07 22:26:41,965] Trial 78 finished with value: 0.9714285714285715 and parameters: {'n_estimators': 140, 'max_depth': 3, 'learning_rate': 0.16911549449977062, 'subsample': 0.964503090184629, 'colsample_bytree': 0.9397601109522167, 'min_child_weight': 3, 'gamma': 0.1660440528249611, 'reg_alpha': 0.056147244224953874, 'reg_lambda': 0.873226419595075}. Best is trial 52 with value: 0.9824175824175825.\n",
      "[I 2025-10-07 22:26:42,756] Trial 79 finished with value: 0.9670329670329672 and parameters: {'n_estimators': 548, 'max_depth': 8, 'learning_rate': 0.14584232680297463, 'subsample': 0.6084206452361289, 'colsample_bytree': 0.7246232144508035, 'min_child_weight': 2, 'gamma': 0.05339332712841713, 'reg_alpha': 0.41092000863603745, 'reg_lambda': 0.3422126474021057}. Best is trial 52 with value: 0.9824175824175825.\n",
      "[I 2025-10-07 22:26:43,699] Trial 80 finished with value: 0.964835164835165 and parameters: {'n_estimators': 370, 'max_depth': 6, 'learning_rate': 0.07342384141719294, 'subsample': 0.937411514357942, 'colsample_bytree': 0.9651257478784745, 'min_child_weight': 1, 'gamma': 0.3543874944226745, 'reg_alpha': 0.34947763612952304, 'reg_lambda': 0.21738421955687284}. Best is trial 52 with value: 0.9824175824175825.\n",
      "[I 2025-10-07 22:26:44,512] Trial 81 finished with value: 0.9736263736263737 and parameters: {'n_estimators': 500, 'max_depth': 9, 'learning_rate': 0.09898168120981686, 'subsample': 0.927329971103258, 'colsample_bytree': 0.777311642696611, 'min_child_weight': 2, 'gamma': 0.17408351550805823, 'reg_alpha': 0.06783072767123227, 'reg_lambda': 0.9964619996551796}. Best is trial 52 with value: 0.9824175824175825.\n",
      "[I 2025-10-07 22:26:45,718] Trial 82 finished with value: 0.9780219780219781 and parameters: {'n_estimators': 914, 'max_depth': 9, 'learning_rate': 0.09659379669217871, 'subsample': 0.9030841449693369, 'colsample_bytree': 0.7842254925258181, 'min_child_weight': 2, 'gamma': 0.2015136085674843, 'reg_alpha': 0.4982875246112165, 'reg_lambda': 0.9132573838795963}. Best is trial 52 with value: 0.9824175824175825.\n",
      "[I 2025-10-07 22:26:46,641] Trial 83 finished with value: 0.9802197802197803 and parameters: {'n_estimators': 518, 'max_depth': 9, 'learning_rate': 0.11375423352007769, 'subsample': 0.9400881567049897, 'colsample_bytree': 0.7578985992393129, 'min_child_weight': 2, 'gamma': 0.21758750082698297, 'reg_alpha': 0.5365649730276136, 'reg_lambda': 0.9700073192167137}. Best is trial 52 with value: 0.9824175824175825.\n",
      "[I 2025-10-07 22:26:47,966] Trial 84 finished with value: 0.9758241758241759 and parameters: {'n_estimators': 595, 'max_depth': 9, 'learning_rate': 0.11288345768258434, 'subsample': 0.9748558631695926, 'colsample_bytree': 0.755379974280359, 'min_child_weight': 3, 'gamma': 0.2186149920045254, 'reg_alpha': 0.5436955213821437, 'reg_lambda': 0.9379305014954187}. Best is trial 52 with value: 0.9824175824175825.\n",
      "[I 2025-10-07 22:26:48,864] Trial 85 finished with value: 0.9780219780219781 and parameters: {'n_estimators': 525, 'max_depth': 10, 'learning_rate': 0.08951676535983724, 'subsample': 0.9575564196033682, 'colsample_bytree': 0.807669520268176, 'min_child_weight': 2, 'gamma': 0.23858981644230776, 'reg_alpha': 0.3924902497481998, 'reg_lambda': 0.8344008834026421}. Best is trial 52 with value: 0.9824175824175825.\n",
      "[I 2025-10-07 22:26:50,014] Trial 86 finished with value: 0.9714285714285715 and parameters: {'n_estimators': 744, 'max_depth': 3, 'learning_rate': 0.06766118888624827, 'subsample': 0.9421647563465767, 'colsample_bytree': 0.7350436569818206, 'min_child_weight': 1, 'gamma': 0.45236027616531616, 'reg_alpha': 0.0006850798560602278, 'reg_lambda': 0.6925247724594585}. Best is trial 52 with value: 0.9824175824175825.\n",
      "[I 2025-10-07 22:26:50,988] Trial 87 finished with value: 0.9736263736263737 and parameters: {'n_estimators': 443, 'max_depth': 8, 'learning_rate': 0.13271824069447002, 'subsample': 0.908561663314831, 'colsample_bytree': 0.7652883109670562, 'min_child_weight': 1, 'gamma': 0.0707672607004946, 'reg_alpha': 0.43825698955037007, 'reg_lambda': 0.8970334245370939}. Best is trial 52 with value: 0.9824175824175825.\n",
      "[I 2025-10-07 22:26:52,019] Trial 88 finished with value: 0.9758241758241759 and parameters: {'n_estimators': 481, 'max_depth': 4, 'learning_rate': 0.10735919229820388, 'subsample': 0.8947263535174771, 'colsample_bytree': 0.8221142783584977, 'min_child_weight': 3, 'gamma': 0.28580565081545695, 'reg_alpha': 0.5719522128046609, 'reg_lambda': 0.5894419928662741}. Best is trial 52 with value: 0.9824175824175825.\n",
      "[I 2025-10-07 22:26:52,563] Trial 89 finished with value: 0.9780219780219781 and parameters: {'n_estimators': 182, 'max_depth': 10, 'learning_rate': 0.1167213962541888, 'subsample': 0.8872234271137028, 'colsample_bytree': 0.8386576469034599, 'min_child_weight': 2, 'gamma': 0.10836015566574607, 'reg_alpha': 0.32899677786617215, 'reg_lambda': 0.9466134217372694}. Best is trial 52 with value: 0.9824175824175825.\n",
      "[I 2025-10-07 22:26:53,853] Trial 90 finished with value: 0.9736263736263737 and parameters: {'n_estimators': 659, 'max_depth': 9, 'learning_rate': 0.14809232243695952, 'subsample': 0.7597290504697105, 'colsample_bytree': 0.8614169071614268, 'min_child_weight': 1, 'gamma': 0.04305325655113445, 'reg_alpha': 0.46737111966245387, 'reg_lambda': 0.7230871671071148}. Best is trial 52 with value: 0.9824175824175825.\n",
      "[I 2025-10-07 22:26:54,653] Trial 91 finished with value: 0.9736263736263737 and parameters: {'n_estimators': 512, 'max_depth': 9, 'learning_rate': 0.09585591104681955, 'subsample': 0.9281998712268261, 'colsample_bytree': 0.7975165667905493, 'min_child_weight': 2, 'gamma': 0.1853224367299776, 'reg_alpha': 0.8010899813760363, 'reg_lambda': 0.9344878764081903}. Best is trial 52 with value: 0.9824175824175825.\n",
      "[I 2025-10-07 22:26:55,512] Trial 92 finished with value: 0.9758241758241759 and parameters: {'n_estimators': 548, 'max_depth': 9, 'learning_rate': 0.07980997954068962, 'subsample': 0.9147580229638488, 'colsample_bytree': 0.7771419908829914, 'min_child_weight': 2, 'gamma': 0.12460033129049426, 'reg_alpha': 0.7382788632031616, 'reg_lambda': 0.9865716407554685}. Best is trial 52 with value: 0.9824175824175825.\n",
      "[I 2025-10-07 22:26:56,159] Trial 93 finished with value: 0.9802197802197803 and parameters: {'n_estimators': 463, 'max_depth': 9, 'learning_rate': 0.10440732257895428, 'subsample': 0.9515327667238042, 'colsample_bytree': 0.7448999876177647, 'min_child_weight': 3, 'gamma': 0.2223067466875388, 'reg_alpha': 0.8631044621003066, 'reg_lambda': 0.968231726087086}. Best is trial 52 with value: 0.9824175824175825.\n",
      "[I 2025-10-07 22:26:56,852] Trial 94 finished with value: 0.9736263736263737 and parameters: {'n_estimators': 428, 'max_depth': 5, 'learning_rate': 0.12369427012380534, 'subsample': 0.9972305598266149, 'colsample_bytree': 0.7147358261508896, 'min_child_weight': 2, 'gamma': 0.26158722244580684, 'reg_alpha': 0.8737298625195166, 'reg_lambda': 0.780061124560077}. Best is trial 52 with value: 0.9824175824175825.\n",
      "[I 2025-10-07 22:26:57,473] Trial 95 finished with value: 0.9736263736263737 and parameters: {'n_estimators': 464, 'max_depth': 8, 'learning_rate': 0.17690802983395262, 'subsample': 0.9504609846441529, 'colsample_bytree': 0.7433080616927439, 'min_child_weight': 3, 'gamma': 0.22917540052897845, 'reg_alpha': 0.2373968635946383, 'reg_lambda': 0.9679878122370073}. Best is trial 52 with value: 0.9824175824175825.\n",
      "[I 2025-10-07 22:26:58,371] Trial 96 finished with value: 0.9736263736263737 and parameters: {'n_estimators': 582, 'max_depth': 9, 'learning_rate': 0.1388054672847803, 'subsample': 0.9657896317582545, 'colsample_bytree': 0.6913547384136595, 'min_child_weight': 1, 'gamma': 0.2139089690042638, 'reg_alpha': 0.16171285916472594, 'reg_lambda': 0.9668469551266794}. Best is trial 52 with value: 0.9824175824175825.\n",
      "[I 2025-10-07 22:26:59,030] Trial 97 finished with value: 0.9736263736263737 and parameters: {'n_estimators': 401, 'max_depth': 9, 'learning_rate': 0.10503163012671292, 'subsample': 0.9380222492332901, 'colsample_bytree': 0.7067665885331192, 'min_child_weight': 3, 'gamma': 0.2010548938708235, 'reg_alpha': 0.37160710829314086, 'reg_lambda': 0.8687845561017494}. Best is trial 52 with value: 0.9824175824175825.\n",
      "[I 2025-10-07 22:27:00,278] Trial 98 finished with value: 0.9780219780219781 and parameters: {'n_estimators': 816, 'max_depth': 7, 'learning_rate': 0.09275859802440357, 'subsample': 0.8428171503473032, 'colsample_bytree': 0.9126372951569571, 'min_child_weight': 1, 'gamma': 0.24801038128867178, 'reg_alpha': 0.9377252350431906, 'reg_lambda': 0.8265442107763618}. Best is trial 52 with value: 0.9824175824175825.\n",
      "[I 2025-10-07 22:27:00,832] Trial 99 finished with value: 0.9648351648351647 and parameters: {'n_estimators': 325, 'max_depth': 10, 'learning_rate': 0.06007114927119687, 'subsample': 0.9557991961382335, 'colsample_bytree': 0.7616380418590353, 'min_child_weight': 6, 'gamma': 0.07503006538630023, 'reg_alpha': 0.028390818280573327, 'reg_lambda': 0.9201665870596205}. Best is trial 52 with value: 0.9824175824175825.\n",
      "\n",
      "Optimization complete!\n"
     ]
    }
   ],
   "source": [
    "# Create Optuna study for XGBoost\n",
    "study_xgb = optuna.create_study(\n",
    "    direction='maximize',\n",
    "    study_name='XGBoost Tuning',\n",
    "    sampler=optuna.samplers.TPESampler(seed=42)\n",
    ")\n",
    "\n",
    "# Optimize\n",
    "print(\"Starting XGBoost optimization...\\n\")\n",
    "study_xgb.optimize(\n",
    "    objective_xgb,\n",
    "    n_trials=100,\n",
    "    show_progress_bar=True\n",
    ")\n",
    "\n",
    "print(\"\\nOptimization complete!\")"
   ]
  },
  {
   "cell_type": "code",
   "execution_count": 46,
   "metadata": {},
   "outputs": [
    {
     "name": "stdout",
     "output_type": "stream",
     "text": [
      "============================================================\n",
      "\t\tOPTUNA RESULTS - XGBOOST\n",
      "============================================================\n",
      "\n",
      "Best Parameters:\n",
      "  n_estimators: 399\n",
      "  max_depth: 9\n",
      "  learning_rate: 0.12134713880799916\n",
      "  subsample: 0.966907507517582\n",
      "  colsample_bytree: 0.7942050707003151\n",
      "  min_child_weight: 2\n",
      "  gamma: 0.09380836887447412\n",
      "  reg_alpha: 0.43660478150839854\n",
      "  reg_lambda: 0.7335851642229427\n",
      "\n",
      "Best Cross-Validation Score: 0.9824\n",
      "\n",
      "Test Set Accuracy: 0.9474\n",
      "Improvement over baseline: -0.88%\n"
     ]
    }
   ],
   "source": [
    "# Best parameters and score\n",
    "print(\"=\" * 60)\n",
    "print(\"\\t\\tOPTUNA RESULTS - XGBOOST\")\n",
    "print(\"=\" * 60)\n",
    "print(f\"\\nBest Parameters:\")\n",
    "for param, value in study_xgb.best_params.items():\n",
    "    print(f\"  {param}: {value}\")\n",
    "\n",
    "print(f\"\\nBest Cross-Validation Score: {study_xgb.best_value:.4f}\")\n",
    "\n",
    "# Train final model\n",
    "best_xgb = xgb.XGBClassifier(**study_xgb.best_params, eval_metric='logloss', use_label_encoder=False)\n",
    "best_xgb.fit(X_train, y_train)\n",
    "\n",
    "# Test accuracy\n",
    "y_pred_xgb = best_xgb.predict(X_test)\n",
    "xgb_accuracy = accuracy_score(y_test, y_pred_xgb)\n",
    "print(f\"\\nTest Set Accuracy: {xgb_accuracy:.4f}\")\n",
    "print(f\"Improvement over baseline: {(xgb_accuracy - baseline_accuracy)*100:.2f}%\")\n",
    "\n",
    "results['Optuna (XGBoost)'] = xgb_accuracy"
   ]
  },
  {
   "cell_type": "code",
   "execution_count": 26,
   "metadata": {},
   "outputs": [
    {
     "data": {
      "application/vnd.plotly.v1+json": {
       "config": {
        "plotlyServerURL": "https://plot.ly"
       },
       "data": [
        {
         "mode": "markers",
         "name": "Objective Value",
         "type": "scatter",
         "x": [
          0,
          1,
          2,
          3,
          4,
          5,
          6,
          7,
          8,
          9,
          10,
          11,
          12,
          13,
          14,
          15,
          16,
          17,
          18,
          19,
          20,
          21,
          22,
          23,
          24,
          25,
          26,
          27,
          28,
          29,
          30,
          31,
          32,
          33,
          34,
          35,
          36,
          37,
          38,
          39,
          40,
          41,
          42,
          43,
          44,
          45,
          46,
          47,
          48,
          49,
          50,
          51,
          52,
          53,
          54,
          55,
          56,
          57,
          58,
          59,
          60,
          61,
          62,
          63,
          64,
          65,
          66,
          67,
          68,
          69,
          70,
          71,
          72,
          73,
          74,
          75,
          76,
          77,
          78,
          79,
          80,
          81,
          82,
          83,
          84,
          85,
          86,
          87,
          88,
          89,
          90,
          91,
          92,
          93,
          94,
          95,
          96,
          97,
          98,
          99
         ],
         "y": [
          0.9758241758241759,
          0.9714285714285715,
          0.9648351648351647,
          0.9714285714285715,
          0.9692307692307691,
          0.956043956043956,
          0.9736263736263737,
          0.9736263736263737,
          0.9780219780219781,
          0.956043956043956,
          0.9582417582417584,
          0.9670329670329669,
          0.9736263736263737,
          0.9692307692307693,
          0.9758241758241759,
          0.9670329670329669,
          0.9714285714285715,
          0.9780219780219781,
          0.9758241758241759,
          0.9494505494505494,
          0.9648351648351647,
          0.9758241758241759,
          0.9692307692307693,
          0.9736263736263737,
          0.9670329670329672,
          0.9714285714285715,
          0.9714285714285715,
          0.9516483516483516,
          0.9714285714285715,
          0.9780219780219781,
          0.9604395604395604,
          0.9714285714285715,
          0.9692307692307693,
          0.9626373626373628,
          0.9736263736263737,
          0.9692307692307693,
          0.9692307692307693,
          0.964835164835165,
          0.9670329670329672,
          0.9780219780219781,
          0.9670329670329672,
          0.9758241758241759,
          0.9758241758241759,
          0.9670329670329669,
          0.9626373626373628,
          0.9758241758241759,
          0.9604395604395604,
          0.9736263736263737,
          0.9692307692307691,
          0.9714285714285713,
          0.9670329670329672,
          0.9692307692307693,
          0.9824175824175825,
          0.9758241758241759,
          0.9780219780219781,
          0.9670329670329672,
          0.9692307692307693,
          0.9714285714285715,
          0.9736263736263737,
          0.9670329670329672,
          0.9780219780219781,
          0.9758241758241759,
          0.9692307692307693,
          0.9802197802197803,
          0.9736263736263737,
          0.9736263736263737,
          0.9758241758241759,
          0.964835164835165,
          0.9802197802197803,
          0.964835164835165,
          0.964835164835165,
          0.9758241758241759,
          0.9736263736263737,
          0.9604395604395606,
          0.9758241758241759,
          0.9714285714285715,
          0.9758241758241759,
          0.9626373626373625,
          0.9714285714285715,
          0.9670329670329672,
          0.964835164835165,
          0.9736263736263737,
          0.9780219780219781,
          0.9802197802197803,
          0.9758241758241759,
          0.9780219780219781,
          0.9714285714285715,
          0.9736263736263737,
          0.9758241758241759,
          0.9780219780219781,
          0.9736263736263737,
          0.9736263736263737,
          0.9758241758241759,
          0.9802197802197803,
          0.9736263736263737,
          0.9736263736263737,
          0.9736263736263737,
          0.9736263736263737,
          0.9780219780219781,
          0.9648351648351647
         ]
        },
        {
         "mode": "lines",
         "name": "Best Value",
         "type": "scatter",
         "x": [
          0,
          1,
          2,
          3,
          4,
          5,
          6,
          7,
          8,
          9,
          10,
          11,
          12,
          13,
          14,
          15,
          16,
          17,
          18,
          19,
          20,
          21,
          22,
          23,
          24,
          25,
          26,
          27,
          28,
          29,
          30,
          31,
          32,
          33,
          34,
          35,
          36,
          37,
          38,
          39,
          40,
          41,
          42,
          43,
          44,
          45,
          46,
          47,
          48,
          49,
          50,
          51,
          52,
          53,
          54,
          55,
          56,
          57,
          58,
          59,
          60,
          61,
          62,
          63,
          64,
          65,
          66,
          67,
          68,
          69,
          70,
          71,
          72,
          73,
          74,
          75,
          76,
          77,
          78,
          79,
          80,
          81,
          82,
          83,
          84,
          85,
          86,
          87,
          88,
          89,
          90,
          91,
          92,
          93,
          94,
          95,
          96,
          97,
          98,
          99
         ],
         "y": [
          0.9758241758241759,
          0.9758241758241759,
          0.9758241758241759,
          0.9758241758241759,
          0.9758241758241759,
          0.9758241758241759,
          0.9758241758241759,
          0.9758241758241759,
          0.9780219780219781,
          0.9780219780219781,
          0.9780219780219781,
          0.9780219780219781,
          0.9780219780219781,
          0.9780219780219781,
          0.9780219780219781,
          0.9780219780219781,
          0.9780219780219781,
          0.9780219780219781,
          0.9780219780219781,
          0.9780219780219781,
          0.9780219780219781,
          0.9780219780219781,
          0.9780219780219781,
          0.9780219780219781,
          0.9780219780219781,
          0.9780219780219781,
          0.9780219780219781,
          0.9780219780219781,
          0.9780219780219781,
          0.9780219780219781,
          0.9780219780219781,
          0.9780219780219781,
          0.9780219780219781,
          0.9780219780219781,
          0.9780219780219781,
          0.9780219780219781,
          0.9780219780219781,
          0.9780219780219781,
          0.9780219780219781,
          0.9780219780219781,
          0.9780219780219781,
          0.9780219780219781,
          0.9780219780219781,
          0.9780219780219781,
          0.9780219780219781,
          0.9780219780219781,
          0.9780219780219781,
          0.9780219780219781,
          0.9780219780219781,
          0.9780219780219781,
          0.9780219780219781,
          0.9780219780219781,
          0.9824175824175825,
          0.9824175824175825,
          0.9824175824175825,
          0.9824175824175825,
          0.9824175824175825,
          0.9824175824175825,
          0.9824175824175825,
          0.9824175824175825,
          0.9824175824175825,
          0.9824175824175825,
          0.9824175824175825,
          0.9824175824175825,
          0.9824175824175825,
          0.9824175824175825,
          0.9824175824175825,
          0.9824175824175825,
          0.9824175824175825,
          0.9824175824175825,
          0.9824175824175825,
          0.9824175824175825,
          0.9824175824175825,
          0.9824175824175825,
          0.9824175824175825,
          0.9824175824175825,
          0.9824175824175825,
          0.9824175824175825,
          0.9824175824175825,
          0.9824175824175825,
          0.9824175824175825,
          0.9824175824175825,
          0.9824175824175825,
          0.9824175824175825,
          0.9824175824175825,
          0.9824175824175825,
          0.9824175824175825,
          0.9824175824175825,
          0.9824175824175825,
          0.9824175824175825,
          0.9824175824175825,
          0.9824175824175825,
          0.9824175824175825,
          0.9824175824175825,
          0.9824175824175825,
          0.9824175824175825,
          0.9824175824175825,
          0.9824175824175825,
          0.9824175824175825,
          0.9824175824175825
         ]
        },
        {
         "marker": {
          "color": "#cccccc"
         },
         "mode": "markers",
         "name": "Infeasible Trial",
         "showlegend": false,
         "type": "scatter",
         "x": [],
         "y": []
        }
       ],
       "layout": {
        "template": {
         "data": {
          "bar": [
           {
            "error_x": {
             "color": "#2a3f5f"
            },
            "error_y": {
             "color": "#2a3f5f"
            },
            "marker": {
             "line": {
              "color": "#E5ECF6",
              "width": 0.5
             },
             "pattern": {
              "fillmode": "overlay",
              "size": 10,
              "solidity": 0.2
             }
            },
            "type": "bar"
           }
          ],
          "barpolar": [
           {
            "marker": {
             "line": {
              "color": "#E5ECF6",
              "width": 0.5
             },
             "pattern": {
              "fillmode": "overlay",
              "size": 10,
              "solidity": 0.2
             }
            },
            "type": "barpolar"
           }
          ],
          "carpet": [
           {
            "aaxis": {
             "endlinecolor": "#2a3f5f",
             "gridcolor": "white",
             "linecolor": "white",
             "minorgridcolor": "white",
             "startlinecolor": "#2a3f5f"
            },
            "baxis": {
             "endlinecolor": "#2a3f5f",
             "gridcolor": "white",
             "linecolor": "white",
             "minorgridcolor": "white",
             "startlinecolor": "#2a3f5f"
            },
            "type": "carpet"
           }
          ],
          "choropleth": [
           {
            "colorbar": {
             "outlinewidth": 0,
             "ticks": ""
            },
            "type": "choropleth"
           }
          ],
          "contour": [
           {
            "colorbar": {
             "outlinewidth": 0,
             "ticks": ""
            },
            "colorscale": [
             [
              0,
              "#0d0887"
             ],
             [
              0.1111111111111111,
              "#46039f"
             ],
             [
              0.2222222222222222,
              "#7201a8"
             ],
             [
              0.3333333333333333,
              "#9c179e"
             ],
             [
              0.4444444444444444,
              "#bd3786"
             ],
             [
              0.5555555555555556,
              "#d8576b"
             ],
             [
              0.6666666666666666,
              "#ed7953"
             ],
             [
              0.7777777777777778,
              "#fb9f3a"
             ],
             [
              0.8888888888888888,
              "#fdca26"
             ],
             [
              1,
              "#f0f921"
             ]
            ],
            "type": "contour"
           }
          ],
          "contourcarpet": [
           {
            "colorbar": {
             "outlinewidth": 0,
             "ticks": ""
            },
            "type": "contourcarpet"
           }
          ],
          "heatmap": [
           {
            "colorbar": {
             "outlinewidth": 0,
             "ticks": ""
            },
            "colorscale": [
             [
              0,
              "#0d0887"
             ],
             [
              0.1111111111111111,
              "#46039f"
             ],
             [
              0.2222222222222222,
              "#7201a8"
             ],
             [
              0.3333333333333333,
              "#9c179e"
             ],
             [
              0.4444444444444444,
              "#bd3786"
             ],
             [
              0.5555555555555556,
              "#d8576b"
             ],
             [
              0.6666666666666666,
              "#ed7953"
             ],
             [
              0.7777777777777778,
              "#fb9f3a"
             ],
             [
              0.8888888888888888,
              "#fdca26"
             ],
             [
              1,
              "#f0f921"
             ]
            ],
            "type": "heatmap"
           }
          ],
          "heatmapgl": [
           {
            "colorbar": {
             "outlinewidth": 0,
             "ticks": ""
            },
            "colorscale": [
             [
              0,
              "#0d0887"
             ],
             [
              0.1111111111111111,
              "#46039f"
             ],
             [
              0.2222222222222222,
              "#7201a8"
             ],
             [
              0.3333333333333333,
              "#9c179e"
             ],
             [
              0.4444444444444444,
              "#bd3786"
             ],
             [
              0.5555555555555556,
              "#d8576b"
             ],
             [
              0.6666666666666666,
              "#ed7953"
             ],
             [
              0.7777777777777778,
              "#fb9f3a"
             ],
             [
              0.8888888888888888,
              "#fdca26"
             ],
             [
              1,
              "#f0f921"
             ]
            ],
            "type": "heatmapgl"
           }
          ],
          "histogram": [
           {
            "marker": {
             "pattern": {
              "fillmode": "overlay",
              "size": 10,
              "solidity": 0.2
             }
            },
            "type": "histogram"
           }
          ],
          "histogram2d": [
           {
            "colorbar": {
             "outlinewidth": 0,
             "ticks": ""
            },
            "colorscale": [
             [
              0,
              "#0d0887"
             ],
             [
              0.1111111111111111,
              "#46039f"
             ],
             [
              0.2222222222222222,
              "#7201a8"
             ],
             [
              0.3333333333333333,
              "#9c179e"
             ],
             [
              0.4444444444444444,
              "#bd3786"
             ],
             [
              0.5555555555555556,
              "#d8576b"
             ],
             [
              0.6666666666666666,
              "#ed7953"
             ],
             [
              0.7777777777777778,
              "#fb9f3a"
             ],
             [
              0.8888888888888888,
              "#fdca26"
             ],
             [
              1,
              "#f0f921"
             ]
            ],
            "type": "histogram2d"
           }
          ],
          "histogram2dcontour": [
           {
            "colorbar": {
             "outlinewidth": 0,
             "ticks": ""
            },
            "colorscale": [
             [
              0,
              "#0d0887"
             ],
             [
              0.1111111111111111,
              "#46039f"
             ],
             [
              0.2222222222222222,
              "#7201a8"
             ],
             [
              0.3333333333333333,
              "#9c179e"
             ],
             [
              0.4444444444444444,
              "#bd3786"
             ],
             [
              0.5555555555555556,
              "#d8576b"
             ],
             [
              0.6666666666666666,
              "#ed7953"
             ],
             [
              0.7777777777777778,
              "#fb9f3a"
             ],
             [
              0.8888888888888888,
              "#fdca26"
             ],
             [
              1,
              "#f0f921"
             ]
            ],
            "type": "histogram2dcontour"
           }
          ],
          "mesh3d": [
           {
            "colorbar": {
             "outlinewidth": 0,
             "ticks": ""
            },
            "type": "mesh3d"
           }
          ],
          "parcoords": [
           {
            "line": {
             "colorbar": {
              "outlinewidth": 0,
              "ticks": ""
             }
            },
            "type": "parcoords"
           }
          ],
          "pie": [
           {
            "automargin": true,
            "type": "pie"
           }
          ],
          "scatter": [
           {
            "fillpattern": {
             "fillmode": "overlay",
             "size": 10,
             "solidity": 0.2
            },
            "type": "scatter"
           }
          ],
          "scatter3d": [
           {
            "line": {
             "colorbar": {
              "outlinewidth": 0,
              "ticks": ""
             }
            },
            "marker": {
             "colorbar": {
              "outlinewidth": 0,
              "ticks": ""
             }
            },
            "type": "scatter3d"
           }
          ],
          "scattercarpet": [
           {
            "marker": {
             "colorbar": {
              "outlinewidth": 0,
              "ticks": ""
             }
            },
            "type": "scattercarpet"
           }
          ],
          "scattergeo": [
           {
            "marker": {
             "colorbar": {
              "outlinewidth": 0,
              "ticks": ""
             }
            },
            "type": "scattergeo"
           }
          ],
          "scattergl": [
           {
            "marker": {
             "colorbar": {
              "outlinewidth": 0,
              "ticks": ""
             }
            },
            "type": "scattergl"
           }
          ],
          "scattermapbox": [
           {
            "marker": {
             "colorbar": {
              "outlinewidth": 0,
              "ticks": ""
             }
            },
            "type": "scattermapbox"
           }
          ],
          "scatterpolar": [
           {
            "marker": {
             "colorbar": {
              "outlinewidth": 0,
              "ticks": ""
             }
            },
            "type": "scatterpolar"
           }
          ],
          "scatterpolargl": [
           {
            "marker": {
             "colorbar": {
              "outlinewidth": 0,
              "ticks": ""
             }
            },
            "type": "scatterpolargl"
           }
          ],
          "scatterternary": [
           {
            "marker": {
             "colorbar": {
              "outlinewidth": 0,
              "ticks": ""
             }
            },
            "type": "scatterternary"
           }
          ],
          "surface": [
           {
            "colorbar": {
             "outlinewidth": 0,
             "ticks": ""
            },
            "colorscale": [
             [
              0,
              "#0d0887"
             ],
             [
              0.1111111111111111,
              "#46039f"
             ],
             [
              0.2222222222222222,
              "#7201a8"
             ],
             [
              0.3333333333333333,
              "#9c179e"
             ],
             [
              0.4444444444444444,
              "#bd3786"
             ],
             [
              0.5555555555555556,
              "#d8576b"
             ],
             [
              0.6666666666666666,
              "#ed7953"
             ],
             [
              0.7777777777777778,
              "#fb9f3a"
             ],
             [
              0.8888888888888888,
              "#fdca26"
             ],
             [
              1,
              "#f0f921"
             ]
            ],
            "type": "surface"
           }
          ],
          "table": [
           {
            "cells": {
             "fill": {
              "color": "#EBF0F8"
             },
             "line": {
              "color": "white"
             }
            },
            "header": {
             "fill": {
              "color": "#C8D4E3"
             },
             "line": {
              "color": "white"
             }
            },
            "type": "table"
           }
          ]
         },
         "layout": {
          "annotationdefaults": {
           "arrowcolor": "#2a3f5f",
           "arrowhead": 0,
           "arrowwidth": 1
          },
          "autotypenumbers": "strict",
          "coloraxis": {
           "colorbar": {
            "outlinewidth": 0,
            "ticks": ""
           }
          },
          "colorscale": {
           "diverging": [
            [
             0,
             "#8e0152"
            ],
            [
             0.1,
             "#c51b7d"
            ],
            [
             0.2,
             "#de77ae"
            ],
            [
             0.3,
             "#f1b6da"
            ],
            [
             0.4,
             "#fde0ef"
            ],
            [
             0.5,
             "#f7f7f7"
            ],
            [
             0.6,
             "#e6f5d0"
            ],
            [
             0.7,
             "#b8e186"
            ],
            [
             0.8,
             "#7fbc41"
            ],
            [
             0.9,
             "#4d9221"
            ],
            [
             1,
             "#276419"
            ]
           ],
           "sequential": [
            [
             0,
             "#0d0887"
            ],
            [
             0.1111111111111111,
             "#46039f"
            ],
            [
             0.2222222222222222,
             "#7201a8"
            ],
            [
             0.3333333333333333,
             "#9c179e"
            ],
            [
             0.4444444444444444,
             "#bd3786"
            ],
            [
             0.5555555555555556,
             "#d8576b"
            ],
            [
             0.6666666666666666,
             "#ed7953"
            ],
            [
             0.7777777777777778,
             "#fb9f3a"
            ],
            [
             0.8888888888888888,
             "#fdca26"
            ],
            [
             1,
             "#f0f921"
            ]
           ],
           "sequentialminus": [
            [
             0,
             "#0d0887"
            ],
            [
             0.1111111111111111,
             "#46039f"
            ],
            [
             0.2222222222222222,
             "#7201a8"
            ],
            [
             0.3333333333333333,
             "#9c179e"
            ],
            [
             0.4444444444444444,
             "#bd3786"
            ],
            [
             0.5555555555555556,
             "#d8576b"
            ],
            [
             0.6666666666666666,
             "#ed7953"
            ],
            [
             0.7777777777777778,
             "#fb9f3a"
            ],
            [
             0.8888888888888888,
             "#fdca26"
            ],
            [
             1,
             "#f0f921"
            ]
           ]
          },
          "colorway": [
           "#636efa",
           "#EF553B",
           "#00cc96",
           "#ab63fa",
           "#FFA15A",
           "#19d3f3",
           "#FF6692",
           "#B6E880",
           "#FF97FF",
           "#FECB52"
          ],
          "font": {
           "color": "#2a3f5f"
          },
          "geo": {
           "bgcolor": "white",
           "lakecolor": "white",
           "landcolor": "#E5ECF6",
           "showlakes": true,
           "showland": true,
           "subunitcolor": "white"
          },
          "hoverlabel": {
           "align": "left"
          },
          "hovermode": "closest",
          "mapbox": {
           "style": "light"
          },
          "paper_bgcolor": "white",
          "plot_bgcolor": "#E5ECF6",
          "polar": {
           "angularaxis": {
            "gridcolor": "white",
            "linecolor": "white",
            "ticks": ""
           },
           "bgcolor": "#E5ECF6",
           "radialaxis": {
            "gridcolor": "white",
            "linecolor": "white",
            "ticks": ""
           }
          },
          "scene": {
           "xaxis": {
            "backgroundcolor": "#E5ECF6",
            "gridcolor": "white",
            "gridwidth": 2,
            "linecolor": "white",
            "showbackground": true,
            "ticks": "",
            "zerolinecolor": "white"
           },
           "yaxis": {
            "backgroundcolor": "#E5ECF6",
            "gridcolor": "white",
            "gridwidth": 2,
            "linecolor": "white",
            "showbackground": true,
            "ticks": "",
            "zerolinecolor": "white"
           },
           "zaxis": {
            "backgroundcolor": "#E5ECF6",
            "gridcolor": "white",
            "gridwidth": 2,
            "linecolor": "white",
            "showbackground": true,
            "ticks": "",
            "zerolinecolor": "white"
           }
          },
          "shapedefaults": {
           "line": {
            "color": "#2a3f5f"
           }
          },
          "ternary": {
           "aaxis": {
            "gridcolor": "white",
            "linecolor": "white",
            "ticks": ""
           },
           "baxis": {
            "gridcolor": "white",
            "linecolor": "white",
            "ticks": ""
           },
           "bgcolor": "#E5ECF6",
           "caxis": {
            "gridcolor": "white",
            "linecolor": "white",
            "ticks": ""
           }
          },
          "title": {
           "x": 0.05
          },
          "xaxis": {
           "automargin": true,
           "gridcolor": "white",
           "linecolor": "white",
           "ticks": "",
           "title": {
            "standoff": 15
           },
           "zerolinecolor": "white",
           "zerolinewidth": 2
          },
          "yaxis": {
           "automargin": true,
           "gridcolor": "white",
           "linecolor": "white",
           "ticks": "",
           "title": {
            "standoff": 15
           },
           "zerolinecolor": "white",
           "zerolinewidth": 2
          }
         }
        },
        "title": {
         "text": "Optuna Optimization History - XGBoost"
        },
        "xaxis": {
         "title": {
          "text": "Trial"
         }
        },
        "yaxis": {
         "title": {
          "text": "Objective Value"
         }
        }
       }
      }
     },
     "metadata": {},
     "output_type": "display_data"
    }
   ],
   "source": [
    "# Visualize XGBoost optimization\n",
    "fig = optuna.visualization.plot_optimization_history(study_xgb)\n",
    "fig.update_layout(title='Optuna Optimization History - XGBoost')\n",
    "fig.show()"
   ]
  },
  {
   "cell_type": "markdown",
   "metadata": {},
   "source": [
    "### Did You See This XGBoost Chart? What's Different From Random Forest?\n",
    "\n",
    "Look at this chart! It's showing us how Optuna tuned our XGBoost model, and it's quite different from what we saw with Random Forest.\n",
    "\n",
    "**What You're Seeing:**\n",
    "\n",
    "1. **Blue Dots (Each Trial):** Every blue dot shows how well XGBoost performed with a different set of hyperparameters. Notice how these dots are scattered around different performance levels?\n",
    "\n",
    "2. **Orange Line (Best So Far):** This line tracks the absolute best performance Optuna has found up to each trial. It only goes up or stays flat - never down!\n",
    "\n",
    "**Key Observations:**\n",
    "\n",
    "- **Fast Start:** Right at the beginning, the orange line shoots up quickly! XGBoost found some really good settings in just the first few trials.\n",
    "\n",
    "- **Big Jump Around Trial 50:** See that dramatic jump around trial 50-55? The orange line leaps from about 0.977 to 0.98! That's Optuna discovering a fantastic combination of hyperparameters.\n",
    "\n",
    "- **Then It Flattens:** After trial 55, the orange line stays flat at 0.98. This means Optuna couldn't find anything better in the remaining 45 trials.\n",
    "\n",
    "- **Still Exploring:** Even though the best line is flat, you still see blue dots everywhere. Optuna keeps trying new combinations, but none beat that amazing one from trial 55.\n",
    "\n",
    "**Why This Matters:**\n",
    "\n",
    "- **XGBoost is More Complex:** XGBoost has more hyperparameters to tune (learning rate, subsample, regularization, etc.), so finding the perfect combination is harder but more rewarding.\n",
    "\n",
    "- **Know When to Stop:** This chart shows us that after trial 55, we probably don't need to run more trials. The optimization has converged - we found our best model!\n",
    "\n",
    "- **Better Performance:** Look at that final score of 0.98! That's higher than what we achieved with Random Forest, showing why XGBoost is often preferred for complex problems.\n",
    "\n",
    "- **Resource Planning:** Next time we tune XGBoost, we know that around 50-60 trials is probably enough to find the optimal settings."
   ]
  },
  {
   "cell_type": "code",
   "execution_count": 50,
   "metadata": {},
   "outputs": [
    {
     "data": {
      "application/vnd.plotly.v1+json": {
       "config": {
        "plotlyServerURL": "https://plot.ly"
       },
       "data": [
        {
         "cliponaxis": false,
         "hovertemplate": [
          "reg_alpha (FloatDistribution): 0.006810142980322846<extra></extra>",
          "max_depth (IntDistribution): 0.011206745996016709<extra></extra>",
          "n_estimators (IntDistribution): 0.012688603020939632<extra></extra>",
          "gamma (FloatDistribution): 0.013880731115700238<extra></extra>",
          "colsample_bytree (FloatDistribution): 0.014291315539079471<extra></extra>",
          "subsample (FloatDistribution): 0.015500047018461716<extra></extra>",
          "reg_lambda (FloatDistribution): 0.03965098295119732<extra></extra>",
          "learning_rate (FloatDistribution): 0.04422149261667279<extra></extra>",
          "min_child_weight (IntDistribution): 0.8417499387616095<extra></extra>"
         ],
         "name": "Objective Value",
         "orientation": "h",
         "text": [
          "<0.01",
          "0.01",
          "0.01",
          "0.01",
          "0.01",
          "0.02",
          "0.04",
          "0.04",
          "0.84"
         ],
         "textposition": "outside",
         "type": "bar",
         "x": [
          0.006810142980322846,
          0.011206745996016709,
          0.012688603020939632,
          0.013880731115700238,
          0.014291315539079471,
          0.015500047018461716,
          0.03965098295119732,
          0.04422149261667279,
          0.8417499387616095
         ],
         "y": [
          "reg_alpha",
          "max_depth",
          "n_estimators",
          "gamma",
          "colsample_bytree",
          "subsample",
          "reg_lambda",
          "learning_rate",
          "min_child_weight"
         ]
        }
       ],
       "layout": {
        "template": {
         "data": {
          "bar": [
           {
            "error_x": {
             "color": "#2a3f5f"
            },
            "error_y": {
             "color": "#2a3f5f"
            },
            "marker": {
             "line": {
              "color": "#E5ECF6",
              "width": 0.5
             },
             "pattern": {
              "fillmode": "overlay",
              "size": 10,
              "solidity": 0.2
             }
            },
            "type": "bar"
           }
          ],
          "barpolar": [
           {
            "marker": {
             "line": {
              "color": "#E5ECF6",
              "width": 0.5
             },
             "pattern": {
              "fillmode": "overlay",
              "size": 10,
              "solidity": 0.2
             }
            },
            "type": "barpolar"
           }
          ],
          "carpet": [
           {
            "aaxis": {
             "endlinecolor": "#2a3f5f",
             "gridcolor": "white",
             "linecolor": "white",
             "minorgridcolor": "white",
             "startlinecolor": "#2a3f5f"
            },
            "baxis": {
             "endlinecolor": "#2a3f5f",
             "gridcolor": "white",
             "linecolor": "white",
             "minorgridcolor": "white",
             "startlinecolor": "#2a3f5f"
            },
            "type": "carpet"
           }
          ],
          "choropleth": [
           {
            "colorbar": {
             "outlinewidth": 0,
             "ticks": ""
            },
            "type": "choropleth"
           }
          ],
          "contour": [
           {
            "colorbar": {
             "outlinewidth": 0,
             "ticks": ""
            },
            "colorscale": [
             [
              0,
              "#0d0887"
             ],
             [
              0.1111111111111111,
              "#46039f"
             ],
             [
              0.2222222222222222,
              "#7201a8"
             ],
             [
              0.3333333333333333,
              "#9c179e"
             ],
             [
              0.4444444444444444,
              "#bd3786"
             ],
             [
              0.5555555555555556,
              "#d8576b"
             ],
             [
              0.6666666666666666,
              "#ed7953"
             ],
             [
              0.7777777777777778,
              "#fb9f3a"
             ],
             [
              0.8888888888888888,
              "#fdca26"
             ],
             [
              1,
              "#f0f921"
             ]
            ],
            "type": "contour"
           }
          ],
          "contourcarpet": [
           {
            "colorbar": {
             "outlinewidth": 0,
             "ticks": ""
            },
            "type": "contourcarpet"
           }
          ],
          "heatmap": [
           {
            "colorbar": {
             "outlinewidth": 0,
             "ticks": ""
            },
            "colorscale": [
             [
              0,
              "#0d0887"
             ],
             [
              0.1111111111111111,
              "#46039f"
             ],
             [
              0.2222222222222222,
              "#7201a8"
             ],
             [
              0.3333333333333333,
              "#9c179e"
             ],
             [
              0.4444444444444444,
              "#bd3786"
             ],
             [
              0.5555555555555556,
              "#d8576b"
             ],
             [
              0.6666666666666666,
              "#ed7953"
             ],
             [
              0.7777777777777778,
              "#fb9f3a"
             ],
             [
              0.8888888888888888,
              "#fdca26"
             ],
             [
              1,
              "#f0f921"
             ]
            ],
            "type": "heatmap"
           }
          ],
          "heatmapgl": [
           {
            "colorbar": {
             "outlinewidth": 0,
             "ticks": ""
            },
            "colorscale": [
             [
              0,
              "#0d0887"
             ],
             [
              0.1111111111111111,
              "#46039f"
             ],
             [
              0.2222222222222222,
              "#7201a8"
             ],
             [
              0.3333333333333333,
              "#9c179e"
             ],
             [
              0.4444444444444444,
              "#bd3786"
             ],
             [
              0.5555555555555556,
              "#d8576b"
             ],
             [
              0.6666666666666666,
              "#ed7953"
             ],
             [
              0.7777777777777778,
              "#fb9f3a"
             ],
             [
              0.8888888888888888,
              "#fdca26"
             ],
             [
              1,
              "#f0f921"
             ]
            ],
            "type": "heatmapgl"
           }
          ],
          "histogram": [
           {
            "marker": {
             "pattern": {
              "fillmode": "overlay",
              "size": 10,
              "solidity": 0.2
             }
            },
            "type": "histogram"
           }
          ],
          "histogram2d": [
           {
            "colorbar": {
             "outlinewidth": 0,
             "ticks": ""
            },
            "colorscale": [
             [
              0,
              "#0d0887"
             ],
             [
              0.1111111111111111,
              "#46039f"
             ],
             [
              0.2222222222222222,
              "#7201a8"
             ],
             [
              0.3333333333333333,
              "#9c179e"
             ],
             [
              0.4444444444444444,
              "#bd3786"
             ],
             [
              0.5555555555555556,
              "#d8576b"
             ],
             [
              0.6666666666666666,
              "#ed7953"
             ],
             [
              0.7777777777777778,
              "#fb9f3a"
             ],
             [
              0.8888888888888888,
              "#fdca26"
             ],
             [
              1,
              "#f0f921"
             ]
            ],
            "type": "histogram2d"
           }
          ],
          "histogram2dcontour": [
           {
            "colorbar": {
             "outlinewidth": 0,
             "ticks": ""
            },
            "colorscale": [
             [
              0,
              "#0d0887"
             ],
             [
              0.1111111111111111,
              "#46039f"
             ],
             [
              0.2222222222222222,
              "#7201a8"
             ],
             [
              0.3333333333333333,
              "#9c179e"
             ],
             [
              0.4444444444444444,
              "#bd3786"
             ],
             [
              0.5555555555555556,
              "#d8576b"
             ],
             [
              0.6666666666666666,
              "#ed7953"
             ],
             [
              0.7777777777777778,
              "#fb9f3a"
             ],
             [
              0.8888888888888888,
              "#fdca26"
             ],
             [
              1,
              "#f0f921"
             ]
            ],
            "type": "histogram2dcontour"
           }
          ],
          "mesh3d": [
           {
            "colorbar": {
             "outlinewidth": 0,
             "ticks": ""
            },
            "type": "mesh3d"
           }
          ],
          "parcoords": [
           {
            "line": {
             "colorbar": {
              "outlinewidth": 0,
              "ticks": ""
             }
            },
            "type": "parcoords"
           }
          ],
          "pie": [
           {
            "automargin": true,
            "type": "pie"
           }
          ],
          "scatter": [
           {
            "fillpattern": {
             "fillmode": "overlay",
             "size": 10,
             "solidity": 0.2
            },
            "type": "scatter"
           }
          ],
          "scatter3d": [
           {
            "line": {
             "colorbar": {
              "outlinewidth": 0,
              "ticks": ""
             }
            },
            "marker": {
             "colorbar": {
              "outlinewidth": 0,
              "ticks": ""
             }
            },
            "type": "scatter3d"
           }
          ],
          "scattercarpet": [
           {
            "marker": {
             "colorbar": {
              "outlinewidth": 0,
              "ticks": ""
             }
            },
            "type": "scattercarpet"
           }
          ],
          "scattergeo": [
           {
            "marker": {
             "colorbar": {
              "outlinewidth": 0,
              "ticks": ""
             }
            },
            "type": "scattergeo"
           }
          ],
          "scattergl": [
           {
            "marker": {
             "colorbar": {
              "outlinewidth": 0,
              "ticks": ""
             }
            },
            "type": "scattergl"
           }
          ],
          "scattermapbox": [
           {
            "marker": {
             "colorbar": {
              "outlinewidth": 0,
              "ticks": ""
             }
            },
            "type": "scattermapbox"
           }
          ],
          "scatterpolar": [
           {
            "marker": {
             "colorbar": {
              "outlinewidth": 0,
              "ticks": ""
             }
            },
            "type": "scatterpolar"
           }
          ],
          "scatterpolargl": [
           {
            "marker": {
             "colorbar": {
              "outlinewidth": 0,
              "ticks": ""
             }
            },
            "type": "scatterpolargl"
           }
          ],
          "scatterternary": [
           {
            "marker": {
             "colorbar": {
              "outlinewidth": 0,
              "ticks": ""
             }
            },
            "type": "scatterternary"
           }
          ],
          "surface": [
           {
            "colorbar": {
             "outlinewidth": 0,
             "ticks": ""
            },
            "colorscale": [
             [
              0,
              "#0d0887"
             ],
             [
              0.1111111111111111,
              "#46039f"
             ],
             [
              0.2222222222222222,
              "#7201a8"
             ],
             [
              0.3333333333333333,
              "#9c179e"
             ],
             [
              0.4444444444444444,
              "#bd3786"
             ],
             [
              0.5555555555555556,
              "#d8576b"
             ],
             [
              0.6666666666666666,
              "#ed7953"
             ],
             [
              0.7777777777777778,
              "#fb9f3a"
             ],
             [
              0.8888888888888888,
              "#fdca26"
             ],
             [
              1,
              "#f0f921"
             ]
            ],
            "type": "surface"
           }
          ],
          "table": [
           {
            "cells": {
             "fill": {
              "color": "#EBF0F8"
             },
             "line": {
              "color": "white"
             }
            },
            "header": {
             "fill": {
              "color": "#C8D4E3"
             },
             "line": {
              "color": "white"
             }
            },
            "type": "table"
           }
          ]
         },
         "layout": {
          "annotationdefaults": {
           "arrowcolor": "#2a3f5f",
           "arrowhead": 0,
           "arrowwidth": 1
          },
          "autotypenumbers": "strict",
          "coloraxis": {
           "colorbar": {
            "outlinewidth": 0,
            "ticks": ""
           }
          },
          "colorscale": {
           "diverging": [
            [
             0,
             "#8e0152"
            ],
            [
             0.1,
             "#c51b7d"
            ],
            [
             0.2,
             "#de77ae"
            ],
            [
             0.3,
             "#f1b6da"
            ],
            [
             0.4,
             "#fde0ef"
            ],
            [
             0.5,
             "#f7f7f7"
            ],
            [
             0.6,
             "#e6f5d0"
            ],
            [
             0.7,
             "#b8e186"
            ],
            [
             0.8,
             "#7fbc41"
            ],
            [
             0.9,
             "#4d9221"
            ],
            [
             1,
             "#276419"
            ]
           ],
           "sequential": [
            [
             0,
             "#0d0887"
            ],
            [
             0.1111111111111111,
             "#46039f"
            ],
            [
             0.2222222222222222,
             "#7201a8"
            ],
            [
             0.3333333333333333,
             "#9c179e"
            ],
            [
             0.4444444444444444,
             "#bd3786"
            ],
            [
             0.5555555555555556,
             "#d8576b"
            ],
            [
             0.6666666666666666,
             "#ed7953"
            ],
            [
             0.7777777777777778,
             "#fb9f3a"
            ],
            [
             0.8888888888888888,
             "#fdca26"
            ],
            [
             1,
             "#f0f921"
            ]
           ],
           "sequentialminus": [
            [
             0,
             "#0d0887"
            ],
            [
             0.1111111111111111,
             "#46039f"
            ],
            [
             0.2222222222222222,
             "#7201a8"
            ],
            [
             0.3333333333333333,
             "#9c179e"
            ],
            [
             0.4444444444444444,
             "#bd3786"
            ],
            [
             0.5555555555555556,
             "#d8576b"
            ],
            [
             0.6666666666666666,
             "#ed7953"
            ],
            [
             0.7777777777777778,
             "#fb9f3a"
            ],
            [
             0.8888888888888888,
             "#fdca26"
            ],
            [
             1,
             "#f0f921"
            ]
           ]
          },
          "colorway": [
           "#636efa",
           "#EF553B",
           "#00cc96",
           "#ab63fa",
           "#FFA15A",
           "#19d3f3",
           "#FF6692",
           "#B6E880",
           "#FF97FF",
           "#FECB52"
          ],
          "font": {
           "color": "#2a3f5f"
          },
          "geo": {
           "bgcolor": "white",
           "lakecolor": "white",
           "landcolor": "#E5ECF6",
           "showlakes": true,
           "showland": true,
           "subunitcolor": "white"
          },
          "hoverlabel": {
           "align": "left"
          },
          "hovermode": "closest",
          "mapbox": {
           "style": "light"
          },
          "paper_bgcolor": "white",
          "plot_bgcolor": "#E5ECF6",
          "polar": {
           "angularaxis": {
            "gridcolor": "white",
            "linecolor": "white",
            "ticks": ""
           },
           "bgcolor": "#E5ECF6",
           "radialaxis": {
            "gridcolor": "white",
            "linecolor": "white",
            "ticks": ""
           }
          },
          "scene": {
           "xaxis": {
            "backgroundcolor": "#E5ECF6",
            "gridcolor": "white",
            "gridwidth": 2,
            "linecolor": "white",
            "showbackground": true,
            "ticks": "",
            "zerolinecolor": "white"
           },
           "yaxis": {
            "backgroundcolor": "#E5ECF6",
            "gridcolor": "white",
            "gridwidth": 2,
            "linecolor": "white",
            "showbackground": true,
            "ticks": "",
            "zerolinecolor": "white"
           },
           "zaxis": {
            "backgroundcolor": "#E5ECF6",
            "gridcolor": "white",
            "gridwidth": 2,
            "linecolor": "white",
            "showbackground": true,
            "ticks": "",
            "zerolinecolor": "white"
           }
          },
          "shapedefaults": {
           "line": {
            "color": "#2a3f5f"
           }
          },
          "ternary": {
           "aaxis": {
            "gridcolor": "white",
            "linecolor": "white",
            "ticks": ""
           },
           "baxis": {
            "gridcolor": "white",
            "linecolor": "white",
            "ticks": ""
           },
           "bgcolor": "#E5ECF6",
           "caxis": {
            "gridcolor": "white",
            "linecolor": "white",
            "ticks": ""
           }
          },
          "title": {
           "x": 0.05
          },
          "xaxis": {
           "automargin": true,
           "gridcolor": "white",
           "linecolor": "white",
           "ticks": "",
           "title": {
            "standoff": 15
           },
           "zerolinecolor": "white",
           "zerolinewidth": 2
          },
          "yaxis": {
           "automargin": true,
           "gridcolor": "white",
           "linecolor": "white",
           "ticks": "",
           "title": {
            "standoff": 15
           },
           "zerolinecolor": "white",
           "zerolinewidth": 2
          }
         }
        },
        "title": {
         "text": "Hyperparameter Importance - XGBoost"
        },
        "xaxis": {
         "title": {
          "text": "Hyperparameter Importance"
         }
        },
        "yaxis": {
         "title": {
          "text": "Hyperparameter"
         }
        }
       }
      }
     },
     "metadata": {},
     "output_type": "display_data"
    },
    {
     "name": "stdout",
     "output_type": "stream",
     "text": [
      "\n",
      "Insight: This plot shows which hyperparameters have the biggest impact on performance.\n",
      "Focus your tuning efforts on the most important ones!\n"
     ]
    }
   ],
   "source": [
    "# Parameter importance for XGBoost\n",
    "fig = optuna.visualization.plot_param_importances(study_xgb)\n",
    "fig.update_layout(title='Hyperparameter Importance - XGBoost')\n",
    "fig.show()\n",
    "\n",
    "print(\"\\nInsight: This plot shows which hyperparameters have the biggest impact on performance.\")\n",
    "print(\"Focus your tuning efforts on the most important ones!\")"
   ]
  },
  {
   "cell_type": "markdown",
   "metadata": {},
   "source": [
    "---\n",
    "\n",
    "## 8. Final Comparison: All Methods"
   ]
  },
  {
   "cell_type": "code",
   "execution_count": 51,
   "metadata": {},
   "outputs": [
    {
     "name": "stdout",
     "output_type": "stream",
     "text": [
      "======================================================================\n",
      "\t\tFINAL PERFORMANCE COMPARISON\n",
      "======================================================================\n",
      "          Method  Accuracy  Improvement\n",
      "        Baseline  0.956140     0.000000\n",
      "     Grid Search  0.956140     0.000000\n",
      "   Random Search  0.956140     0.000000\n",
      "     Optuna (RF)  0.956140     0.000000\n",
      "Optuna (XGBoost)  0.947368    -0.877193\n",
      "\n",
      "======================================================================\n"
     ]
    }
   ],
   "source": [
    "# Create comparison DataFrame\n",
    "results_df = pd.DataFrame([\n",
    "    {'Method': method, 'Accuracy': score} \n",
    "    for method, score in results.items()\n",
    "])\n",
    "results_df['Improvement'] = (results_df['Accuracy'] - baseline_accuracy) * 100\n",
    "\n",
    "print(\"=\" * 70)\n",
    "print(\"\\t\\tFINAL PERFORMANCE COMPARISON\")\n",
    "print(\"=\" * 70)\n",
    "print(results_df.to_string(index=False))\n",
    "print(\"\\n\" + \"=\" * 70)"
   ]
  },
  {
   "cell_type": "code",
   "execution_count": 29,
   "metadata": {},
   "outputs": [
    {
     "data": {
      "image/png": "[encoded data removed]",
      "text/plain": [
       "<Figure size 1200x600 with 1 Axes>"
      ]
     },
     "metadata": {},
     "output_type": "display_data"
    }
   ],
   "source": [
    "# Visualization: Compare all methods\n",
    "fig, ax = plt.subplots(figsize=(12, 6))\n",
    "\n",
    "colors = ['red', 'orange', 'skyblue', 'lightgreen', 'green']\n",
    "bars = ax.barh(results_df['Method'], results_df['Accuracy'], color=colors, edgecolor='black')\n",
    "\n",
    "# Add value labels\n",
    "for i, bar in enumerate(bars):\n",
    "    width = bar.get_width()\n",
    "    ax.text(width, bar.get_y() + bar.get_height()/2, \n",
    "            f'{width:.4f}', \n",
    "            ha='left', va='center', fontweight='bold')\n",
    "\n",
    "ax.set_xlabel('Accuracy', fontsize=12, fontweight='bold')\n",
    "ax.set_title('Hyperparameter Tuning Methods Comparison', fontsize=14, fontweight='bold')\n",
    "ax.set_xlim(0.92, 0.99)\n",
    "plt.tight_layout()\n",
    "plt.show()"
   ]
  },
  {
   "cell_type": "markdown",
   "metadata": {},
   "source": [
    "### Let's Have Look On This Final Comparison!\n",
    "\n",
    "Look at these bars! It's our final showdown - comparing all the hyperparameter tuning methods we tried on the breast cancer dataset.\n",
    "\n",
    "**What You're Seeing:**\n",
    "\n",
    "This horizontal bar chart shows the test accuracy achieved by each method:\n",
    "- **Baseline**: 0.9561 (red bar)\n",
    "- **Grid Search**: 0.9561 (orange bar) \n",
    "- **Random Search**: 0.9561 (light blue bar)\n",
    "- **Optuna (RF)**: 0.9561 (light green bar)\n",
    "- **Optuna (XGBoost)**: 0.9474 (dark green bar)\n",
    "\n",
    "**Key Observations:**\n",
    "\n",
    "- **Four Methods Tied!** Baseline, Grid Search, Random Search, and Optuna with Random Forest all achieved exactly the same accuracy: 0.9561.\n",
    "\n",
    "- **XGBoost Underperformed:** Optuna with XGBoost got 0.9474, which is actually lower than the others.\n",
    "\n",
    "- **No Improvement Over Baseline:** This is surprising! All our tuning efforts didn't improve the baseline Random Forest performance.\n",
    "\n",
    "**Why This Matters:**\n",
    "\n",
    "- **Dataset Matters:** This breast cancer dataset might be relatively easy for Random Forest with default parameters. Sometimes the default settings are already quite good!\n",
    "\n",
    "- **Not Every Dataset Needs Tuning:** This shows that hyperparameter tuning isn't always necessary. Sometimes the default parameters work just fine.\n",
    "\n",
    "- **Algorithm Choice:** Random Forest performed better than XGBoost on this particular dataset. Different algorithms work better for different problems.\n",
    "\n",
    "- **Real-World Lesson:** In production, you should always test if tuning actually helps. Don't assume it will always improve performance - measure it!\n",
    "\n",
    "**The Big Takeaway:**\n",
    "\n",
    "Hyperparameter tuning is a powerful tool, but it's not magic. Always compare tuned models against baselines to see if the effort is worth it. Sometimes the default settings are already optimal for your specific problem!"
   ]
  },
  {
   "cell_type": "markdown",
   "metadata": {},
   "source": [
    "---\n",
    "\n",
    "## 9. Advanced Techniques and Best Practices\n",
    "\n",
    "### 9.1 Nested Cross-Validation\n",
    "\n",
    "The gold standard for unbiased hyperparameter tuning evaluation."
   ]
  },
  {
   "cell_type": "code",
   "execution_count": 30,
   "metadata": {},
   "outputs": [
    {
     "name": "stderr",
     "output_type": "stream",
     "text": [
      "[I 2025-10-07 22:27:04,865] A new study created in memory with name: no-name-fcea9603-5c80-468b-8aaf-97701f2d029d\n"
     ]
    },
    {
     "name": "stdout",
     "output_type": "stream",
     "text": [
      "Nested CV provides unbiased estimate of model performance.\n",
      "Running nested CV (this takes a few minutes)...\n",
      "\n",
      "Fold 1/5: 0.9341\n",
      "Fold 2/5: 0.9560\n",
      "Fold 3/5: 0.9670\n",
      "Fold 4/5: 0.9890\n",
      "Fold 5/5: 0.9231\n",
      "\n",
      "Nested CV Results:\n",
      "Mean Accuracy: 0.9538\n",
      "Std Deviation: 0.0235\n",
      "95% Confidence Interval: [0.9079, 0.9998]\n"
     ]
    }
   ],
   "source": [
    "from sklearn.model_selection import cross_validate, KFold\n",
    "\n",
    "def nested_cv_optuna(X, y, n_outer_folds=5, n_trials=50):\n",
    "    \"\"\"\n",
    "    Nested cross-validation with Optuna hyperparameter tuning.\n",
    "    \n",
    "    Outer loop: Evaluates model generalization\n",
    "    Inner loop: Tunes hyperparameters\n",
    "    \"\"\"\n",
    "    outer_cv = KFold(n_splits=n_outer_folds, shuffle=True, random_state=42)\n",
    "    outer_scores = []\n",
    "    \n",
    "    for fold_idx, (train_idx, test_idx) in enumerate(outer_cv.split(X)):\n",
    "        X_train_fold, X_test_fold = X[train_idx], X[test_idx]\n",
    "        y_train_fold, y_test_fold = y[train_idx], y[test_idx]\n",
    "        \n",
    "        # Inner loop: Hyperparameter tuning\n",
    "        def objective(trial):\n",
    "            params = {\n",
    "                'n_estimators': trial.suggest_int('n_estimators', 100, 300),\n",
    "                'max_depth': trial.suggest_int('max_depth', 10, 30),\n",
    "                'random_state': 42\n",
    "            }\n",
    "            model = RandomForestClassifier(**params)\n",
    "            scores = cross_val_score(model, X_train_fold, y_train_fold, cv=3, scoring='accuracy')\n",
    "            return scores.mean()\n",
    "        \n",
    "        study = optuna.create_study(direction='maximize')\n",
    "        optuna.logging.set_verbosity(optuna.logging.WARNING)\n",
    "        study.optimize(objective, n_trials=n_trials, show_progress_bar=False)\n",
    "        \n",
    "        # Train with best params and evaluate on outer test fold\n",
    "        best_model = RandomForestClassifier(**study.best_params)\n",
    "        best_model.fit(X_train_fold, y_train_fold)\n",
    "        score = best_model.score(X_test_fold, y_test_fold)\n",
    "        outer_scores.append(score)\n",
    "        \n",
    "        print(f\"Fold {fold_idx + 1}/5: {score:.4f}\")\n",
    "    \n",
    "    return np.array(outer_scores)\n",
    "\n",
    "print(\"Nested CV provides unbiased estimate of model performance.\")\n",
    "print(\"Running nested CV (this takes a few minutes)...\\n\")\n",
    "\n",
    "nested_scores = nested_cv_optuna(X_train, y_train, n_outer_folds=5, n_trials=30)\n",
    "\n",
    "print(f\"\\nNested CV Results:\")\n",
    "print(f\"Mean Accuracy: {nested_scores.mean():.4f}\")\n",
    "print(f\"Std Deviation: {nested_scores.std():.4f}\")\n",
    "print(f\"95% Confidence Interval: [{nested_scores.mean() - 1.96*nested_scores.std():.4f}, {nested_scores.mean() + 1.96*nested_scores.std():.4f}]\")"
   ]
  },
  {
   "cell_type": "markdown",
   "metadata": {},
   "source": [
    "### What Nested CV Results Mean To Us?\n",
    "\n",
    "Look at these numbers! This is the gold standard for evaluating our hyperparameter tuning - nested cross-validation.\n",
    "\n",
    "**What You're Seeing:**\n",
    "\n",
    "- **5 Fold Results:** Each fold shows how well our tuned model performed on completely unseen data (0.9341 to 0.9890)\n",
    "- **Mean Accuracy: 0.9538** - This is our best estimate of real-world performance\n",
    "- **Standard Deviation: 0.0235** - Shows how consistent our model is\n",
    "- **95% Confidence Interval: [0.9079, 0.9998]** - We're 95% confident the true performance falls in this range\n",
    "\n",
    "**Key Observations:**\n",
    "\n",
    "- **Consistent Performance:** The standard deviation of 0.0235 is relatively small, meaning our model performs similarly across different data splits\n",
    "- **High Accuracy:** 0.9538 is excellent performance for this medical diagnosis task\n",
    "- **Wide Confidence Interval:** The range [0.9079, 0.9998] is quite wide, suggesting some uncertainty in our estimate\n",
    "\n",
    "**The Bottom Line:**\n",
    "\n",
    "Nested CV is the most trustworthy way to evaluate ML models. These results show our hyperparameter tuning produced a robust, reliable model that should perform well in real medical scenarios."
   ]
  },
  {
   "cell_type": "markdown",
   "metadata": {},
   "source": [
    "### 9.2 Multi-Objective Optimization\n",
    "\n",
    "Sometimes we want to optimize multiple metrics simultaneously (e.g., accuracy AND training time)."
   ]
  },
  {
   "cell_type": "code",
   "execution_count": 31,
   "metadata": {},
   "outputs": [
    {
     "name": "stdout",
     "output_type": "stream",
     "text": [
      "Running multi-objective optimization...\n"
     ]
    },
    {
     "data": {
      "application/vnd.jupyter.widget-view+json": {
       "model_id": "4909f32a02e04fe28c6051102e04a7de",
       "version_major": 2,
       "version_minor": 0
      },
      "text/plain": [
       "  0%|          | 0/50 [00:00<?, ?it/s]"
      ]
     },
     "metadata": {},
     "output_type": "display_data"
    },
    {
     "name": "stdout",
     "output_type": "stream",
     "text": [
      "\n",
      "Found 5 Pareto-optimal solutions\n",
      "\n",
      "Top 5 trade-off solutions:\n",
      "\n",
      "Solution 1:\n",
      "  Accuracy: 0.9538\n",
      "  Time: 0.48s\n",
      "  Params: n_estimators=56, max_depth=11\n",
      "\n",
      "Solution 2:\n",
      "  Accuracy: 0.9582\n",
      "  Time: 1.75s\n",
      "  Params: n_estimators=197, max_depth=49\n",
      "\n",
      "Solution 3:\n",
      "  Accuracy: 0.9560\n",
      "  Time: 1.33s\n",
      "  Params: n_estimators=147, max_depth=42\n",
      "\n",
      "Solution 4:\n",
      "  Accuracy: 0.9538\n",
      "  Time: 1.06s\n",
      "  Params: n_estimators=119, max_depth=24\n",
      "\n",
      "Solution 5:\n",
      "  Accuracy: 0.9604\n",
      "  Time: 3.32s\n",
      "  Params: n_estimators=321, max_depth=28\n"
     ]
    }
   ],
   "source": [
    "import time\n",
    "\n",
    "def multi_objective(trial):\n",
    "    \"\"\"\n",
    "    Optimize both accuracy and training time.\n",
    "    Returns tuple: (accuracy, training_time)\n",
    "    \"\"\"\n",
    "    params = {\n",
    "        'n_estimators': trial.suggest_int('n_estimators', 50, 500),\n",
    "        'max_depth': trial.suggest_int('max_depth', 5, 50),\n",
    "        'random_state': 42\n",
    "    }\n",
    "    \n",
    "    model = RandomForestClassifier(**params)\n",
    "    \n",
    "    # Measure training time\n",
    "    start_time = time.time()\n",
    "    scores = cross_val_score(model, X_train, y_train, cv=3, scoring='accuracy')\n",
    "    training_time = time.time() - start_time\n",
    "    \n",
    "    accuracy = scores.mean()\n",
    "    \n",
    "    # Return both objectives: maximize accuracy, minimize time\n",
    "    return accuracy, training_time\n",
    "\n",
    "# Create multi-objective study\n",
    "study_multi = optuna.create_study(\n",
    "    directions=['maximize', 'minimize'],  # Maximize accuracy, minimize time\n",
    "    study_name='Multi-Objective Optimization'\n",
    ")\n",
    "\n",
    "print(\"Running multi-objective optimization...\")\n",
    "study_multi.optimize(multi_objective, n_trials=50, show_progress_bar=True)\n",
    "\n",
    "print(f\"\\nFound {len(study_multi.best_trials)} Pareto-optimal solutions\")\n",
    "print(\"\\nTop 5 trade-off solutions:\")\n",
    "for i, trial in enumerate(study_multi.best_trials[:5]):\n",
    "    print(f\"\\nSolution {i+1}:\")\n",
    "    print(f\"  Accuracy: {trial.values[0]:.4f}\")\n",
    "    print(f\"  Time: {trial.values[1]:.2f}s\")\n",
    "    print(f\"  Params: n_estimators={trial.params['n_estimators']}, max_depth={trial.params['max_depth']}\")"
   ]
  },
  {
   "cell_type": "markdown",
   "metadata": {},
   "source": [
    "---\n",
    "\n",
    "## 10. Real-World Best Practices\n",
    "\n",
    "### Strategy 1: Coarse-to-Fine Search\n",
    "\n",
    "```python\n",
    "# Step 1: Coarse search with Random Search (wide ranges)\n",
    "coarse_params = {\n",
    "    'learning_rate': [0.001, 0.01, 0.1, 0.5],\n",
    "    'n_estimators': [100, 500, 1000]\n",
    "}\n",
    "\n",
    "# Step 2: Fine search with Grid Search (narrow ranges)\n",
    "fine_params = {\n",
    "    'learning_rate': [0.05, 0.1, 0.15],  # Refined based on coarse results\n",
    "    'n_estimators': [400, 500, 600]\n",
    "}\n",
    "```\n",
    "\n",
    "### Strategy 2: Use Domain Knowledge\n",
    "\n",
    "**For Tree-Based Models:**\n",
    "- Start with max_depth in range [5, 50]\n",
    "- min_samples_split typically [2, 20]\n",
    "- For large datasets, increase min_samples_leaf\n",
    "\n",
    "**For Gradient Boosting:**\n",
    "- Learning rate: [0.01, 0.3] (lower = better but slower)\n",
    "- n_estimators: Start high (500-1000) with early stopping\n",
    "- subsample: [0.6, 0.9] for large datasets\n",
    "\n",
    "### Strategy 3: Monitor Overfitting\n",
    "\n",
    "Always compare train and validation scores:"
   ]
  },
  {
   "cell_type": "code",
   "execution_count": 32,
   "metadata": {},
   "outputs": [
    {
     "name": "stdout",
     "output_type": "stream",
     "text": [
      "============================================================\n",
      "OVERFITTING CHECK\n",
      "============================================================\n",
      "Training Score: 1.0000\n",
      "Test Score: 0.9474\n",
      "Gap: 5.26%\n",
      "\n",
      "Warning: Significant overfitting detected!\n",
      "Recommendations:\n",
      "  - Increase regularization (alpha, lambda)\n",
      "  - Reduce model complexity (max_depth, n_estimators)\n",
      "  - Add more training data\n",
      "  - Increase min_samples_leaf\n"
     ]
    }
   ],
   "source": [
    "# Check for overfitting\n",
    "train_score = best_xgb.score(X_train, y_train)\n",
    "test_score = xgb_accuracy\n",
    "\n",
    "print(\"=\" * 60)\n",
    "print(\"OVERFITTING CHECK\")\n",
    "print(\"=\" * 60)\n",
    "print(f\"Training Score: {train_score:.4f}\")\n",
    "print(f\"Test Score: {test_score:.4f}\")\n",
    "print(f\"Gap: {(train_score - test_score)*100:.2f}%\")\n",
    "\n",
    "if (train_score - test_score) > 0.05:\n",
    "    print(\"\\nWarning: Significant overfitting detected!\")\n",
    "    print(\"Recommendations:\")\n",
    "    print(\"  - Increase regularization (alpha, lambda)\")\n",
    "    print(\"  - Reduce model complexity (max_depth, n_estimators)\")\n",
    "    print(\"  - Add more training data\")\n",
    "    print(\"  - Increase min_samples_leaf\")\n",
    "else:\n",
    "    print(\"\\nModel generalizes well!\")"
   ]
  },
  {
   "cell_type": "markdown",
   "metadata": {},
   "source": [
    "### Strategy 4: Time Budget Planning\n",
    "\n",
    "| Available Time | Recommended Method |\n",
    "|---------------|--------------------|\n",
    "| < 1 hour | Random Search (50-100 trials) |\n",
    "| 1-4 hours | Optuna (100-200 trials) |\n",
    "| > 4 hours | Optuna with nested CV |\n",
    "| Production | Optuna + multi-objective + pruning |\n",
    "\n",
    "### Strategy 5: Saving and Loading Best Models"
   ]
  },
  {
   "cell_type": "code",
   "execution_count": null,
   "metadata": {},
   "outputs": [
    {
     "name": "stdout",
     "output_type": "stream",
     "text": [
      "Model and study saved successfully!\n"
     ]
    }
   ],
   "source": [
    "import joblib\n",
    "\n",
    "# Save best model\n",
    "# joblib.dump(best_xgb, 'best_model_xgboost.pkl')\n",
    "\n",
    "# Save Optuna study\n",
    "# joblib.dump(study_xgb, 'optuna_study_xgboost.pkl')\n",
    "\n",
    "# This is the way you save you model and than anytime you need it you can just load and start\n",
    "# working, you won't need to retrain it. its like ready machine, just put your data and get insights \n",
    "# in minutes\n",
    "print(\"Model and study saved successfully!\")\n",
    "\n",
    "# Load later\n",
    "# loaded_model = joblib.load('best_model_xgboost.pkl')\n",
    "# loaded_study = joblib.load('optuna_study_xgboost.pkl')"
   ]
  },
  {
   "cell_type": "markdown",
   "metadata": {},
   "source": [
    "---\n",
    "\n",
    "## 11. Hands-On Exercise\n",
    "\n",
    "### Exercise 1: Tune a LightGBM Classifier\n",
    "\n",
    "**Your Task:**\n",
    "Use Optuna to tune a LightGBM classifier on the breast cancer dataset.\n",
    "\n",
    "**Hyperparameters to tune:**\n",
    "- `n_estimators`: [100, 1000]\n",
    "- `learning_rate`: [0.01, 0.3]\n",
    "- `num_leaves`: [20, 100]\n",
    "- `max_depth`: [3, 15]\n",
    "- `min_child_samples`: [5, 50]\n",
    "- `subsample`: [0.6, 1.0]\n",
    "- `colsample_bytree`: [0.6, 1.0]\n",
    "\n",
    "**Goal:** Achieve test accuracy > 97%"
   ]
  },
  {
   "cell_type": "code",
   "execution_count": 34,
   "metadata": {},
   "outputs": [],
   "source": [
    "# TODO: Your code here\n",
    "# Hint: Follow the XGBoost example above\n",
    "\n",
    "def objective_lgb(trial):\n",
    "    # TODO: Define hyperparameters\n",
    "    params = {\n",
    "        # Your code here\n",
    "    }\n",
    "    \n",
    "    # TODO: Create model and return cross-validation score\n",
    "    pass\n",
    "\n",
    "# TODO: Create study and optimize\n",
    "# study_lgb = ...\n",
    "\n",
    "# TODO: Evaluate on test set"
   ]
  },
  {
   "cell_type": "markdown",
   "metadata": {},
   "source": [
    "### Exercise 2: Compare Tuning Methods\n",
    "\n",
    "**Your Task:**\n",
    "Compare Grid Search, Random Search, and Optuna on a Support Vector Machine (SVM).\n",
    "\n",
    "**Hyperparameters:**\n",
    "- `C`: Regularization parameter\n",
    "- `gamma`: Kernel coefficient\n",
    "- `kernel`: 'rbf', 'poly', 'sigmoid'\n",
    "\n",
    "**Deliverables:**\n",
    "1. Implement all three methods\n",
    "2. Record execution time for each\n",
    "3. Compare final test accuracies\n",
    "4. Create a comparison visualization"
   ]
  },
  {
   "cell_type": "code",
   "execution_count": 35,
   "metadata": {},
   "outputs": [],
   "source": [
    "# TODO: Your code here\n",
    "from sklearn.svm import SVC\n",
    "\n",
    "# Hint: Use time.time() to measure execution time\n",
    "# Hint: Use scaled data (X_train_scaled, X_test_scaled)"
   ]
  },
  {
   "cell_type": "markdown",
   "metadata": {},
   "source": [
    "### Exercise 3: Multi-Objective Optimization Challenge\n",
    "\n",
    "**Your Task:**\n",
    "Create a multi-objective optimization that balances:\n",
    "1. **Accuracy** (maximize)\n",
    "2. **Model size** (minimize - number of trees × max_depth)\n",
    "\n",
    "Find the Pareto-optimal solutions and visualize the trade-off."
   ]
  },
  {
   "cell_type": "code",
   "execution_count": 36,
   "metadata": {},
   "outputs": [],
   "source": [
    "# TODO: Your code here\n",
    "# Hint: Model size = n_estimators * max_depth\n",
    "# Hint: Use directions=['maximize', 'minimize']"
   ]
  },
  {
   "cell_type": "markdown",
   "metadata": {},
   "source": [
    "---\n",
    "\n",
    "## 12. Key Takeaways\n",
    "\n",
    "### What You Learned Today\n",
    "\n",
    "1. **Hyperparameters vs Parameters**: The distinction and why it matters\n",
    "\n",
    "2. **Three Tuning Methods:**\n",
    "   - **Grid Search**: Exhaustive but expensive\n",
    "   - **Random Search**: Efficient for exploration\n",
    "   - **Bayesian Optimization (Optuna)**: State-of-the-art for production\n",
    "\n",
    "3. **Best Practices:**\n",
    "   - Start with coarse search, then fine-tune\n",
    "   - Use domain knowledge to set ranges\n",
    "   - Always check for overfitting\n",
    "   - Budget your time appropriately\n",
    "   - Consider multi-objective optimization\n",
    "\n",
    "4. **Advanced Techniques:**\n",
    "   - Nested cross-validation for unbiased evaluation\n",
    "   - Pruning for efficiency\n",
    "   - Parameter importance analysis\n",
    "\n",
    "### When to Use Each Method\n",
    "\n",
    "```\n",
    "Grid Search → Small hyperparameter space, need exhaustive search\n",
    "Random Search → Initial exploration, limited compute budget\n",
    "Optuna → Production models, complex spaces, want best performance\n",
    "```\n",
    "\n",
    "### Real-World Impact\n",
    "\n",
    "In production ML systems:\n",
    "- 1% accuracy improvement can be worth millions\n",
    "- Hyperparameter tuning is NOT optional\n",
    "- Automated tuning is standard practice\n",
    "- Companies use Optuna, Ray Tune, Hyperopt\n",
    "\n",
    "### Common Mistakes to Avoid\n",
    "\n",
    "1. **Using test data for tuning** - Always use separate validation set\n",
    "2. **Ignoring computation cost** - Balance performance vs. time\n",
    "3. **Tuning too many parameters** - Focus on the most important ones\n",
    "4. **Not checking overfitting** - Always compare train vs. test\n",
    "5. **Stopping too early** - Give optimization enough trials\n",
    "\n",
    "---"
   ]
  },
  {
   "cell_type": "markdown",
   "metadata": {},
   "source": [
    "## 13. Next Steps\n",
    "\n",
    "### Tomorrow: Day 12 - Model Evaluation\n",
    "We'll dive deep into:\n",
    "- ROC curves and AUC\n",
    "- Precision-Recall curves\n",
    "- F1 score and confusion matrices\n",
    "- Cross-validation strategies\n",
    "- Statistical significance testing\n",
    "\n",
    "### Further Learning Resources\n",
    "\n",
    "**Papers:**\n",
    "- Bergstra & Bengio (2012): \"Random Search for Hyper-Parameter Optimization\"\n",
    "- Snoek et al. (2012): \"Practical Bayesian Optimization of Machine Learning Algorithms\"\n",
    "\n",
    "**Documentation:**\n",
    "- [Optuna Documentation](https://optuna.readthedocs.io/)\n",
    "- [Scikit-learn User Guide](https://scikit-learn.org/stable/modules/grid_search.html)\n",
    "- [XGBoost Parameters](https://xgboost.readthedocs.io/en/stable/parameter.html)\n",
    "\n",
    "**Advanced Tools:**\n",
    "- Ray Tune: Scalable hyperparameter tuning\n",
    "- Hyperopt: Another Bayesian optimization library\n",
    "- AutoML frameworks: Auto-sklearn, TPOT, H2O AutoML\n",
    "\n",
    "### Practice Project Ideas\n",
    "\n",
    "1. **Kaggle Competition**: Tune models for a real competition\n",
    "2. **Custom Dataset**: Apply tuning to your own data\n",
    "3. **Algorithm Comparison**: Implement a full comparison study\n",
    "4. **Deep Learning**: Extend to neural network hyperparameters\n"
   ]
  },
  {
   "cell_type": "markdown",
   "metadata": {},
   "source": [
    "---\n",
    "\n",
    "### End of Day 11\n",
    "\n",
    "**You've completed Day 11 of the 30 Days of ML course!**\n",
    "\n",
    "Today you learned how to systematically improve model performance through hyperparameter tuning. These skills are essential for building production-ready ML systems.\n",
    "\n",
    "**Quick Wins:**\n",
    "- Understand different tuning strategies\n",
    "- Implement Grid Search and Random Search\n",
    "- Master Optuna for modern optimization\n",
    "- Apply best practices for real-world projects\n",
    "\n",
    "Remember: The best models are tuned models. Don't skip this crucial step!\n",
    "\n",
    "---\n",
    "\n",
    "## 📫 Let's Connect\n",
    "- 💼 **LinkedIn:** [hashirahmed07](https://www.linkedin.com/in/hashirahmed07/)\n",
    "- 📧 **Email:** [Hashirahmad330@gmail.com](mailto:Hashirahmad330@gmail.com)\n",
    "- 🐙 **GitHub:** [CodeByHashir](https://github.com/CodeByHashir)\n",
    "\n",
    "Remember Consistency is the Key to Master in ML so be Consistent and best wish for your Happy Learning"
   ]
  }
 ],
 "metadata": {
  "kernelspec": {
   "display_name": "base",
   "language": "python",
   "name": "python3"
  },
  "language_info": {
   "codemirror_mode": {
    "name": "ipython",
    "version": 3
   },
   "file_extension": ".py",
   "mimetype": "text/x-python",
   "name": "python",
   "nbconvert_exporter": "python",
   "pygments_lexer": "ipython3",
   "version": "3.12.7"
  }
 },
 "nbformat": 4,
 "nbformat_minor": 4
}
